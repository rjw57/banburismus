{
 "metadata": {
  "name": ""
 },
 "nbformat": 3,
 "nbformat_minor": 0,
 "worksheets": [
  {
   "cells": [
    {
     "cell_type": "heading",
     "level": 1,
     "metadata": {},
     "source": [
      "A demonstration of \"Banburismus\""
     ]
    },
    {
     "cell_type": "heading",
     "level": 2,
     "metadata": {},
     "source": [
      "Introduction"
     ]
    },
    {
     "cell_type": "markdown",
     "metadata": {},
     "source": [
      "This notebook implements a modern version of the \"Banburismus\" method for decrypting German naval Enigma intercepts. It is assumed that the reader is familiar with the principles of Banburismus. If not, then [good descriptions](http://stoneship.org.uk/~steve/banburismus.html) are available online.\n",
      "\n",
      "For an overview of the Enigma machine, the key insight behind Banburismus and working code to generate the sample intercepts, see the [generating-and-classifying-intercepts.ipynb](http://nbviewer.ipython.org/github/rjw57/banburismus/blob/master/generating-and-classifying-intercepts.ipynb) notebook in this repository."
     ]
    },
    {
     "cell_type": "code",
     "collapsed": false,
     "input": [
      "from __future__ import print_function, division"
     ],
     "language": "python",
     "metadata": {},
     "outputs": [],
     "prompt_number": 1
    },
    {
     "cell_type": "heading",
     "level": 2,
     "metadata": {},
     "source": [
      "Loading the ciphertext"
     ]
    },
    {
     "cell_type": "markdown",
     "metadata": {},
     "source": [
      "We use the [Pandas](http://pandas.pydata.org/) library to load our sample intercepts. For each intercept we want the indicator and the ciphertext. The \"key\" for the cipher text consists of the day's machine settings with the rotor display set to the result of encrypting the indicator with the day's *grundstellung*.\n",
      "\n",
      "We know that each intercept is an English language message using 'X' as space and 'STOP' as a full stop. This will be *very* useful later on. For more information "
     ]
    },
    {
     "cell_type": "code",
     "collapsed": false,
     "input": [
      "# Load just the indicator and cipertext from our test data. Ignore the ground-truth starts\n",
      "import pandas as pd\n",
      "intercepts = pd.DataFrame.from_csv('test-data/data3.csv')[['Indicator', 'Ciphertext']][:300]\n",
      "\n",
      "# Show the last 10 intercepts\n",
      "intercepts[-10:]"
     ],
     "language": "python",
     "metadata": {},
     "outputs": [
      {
       "html": [
        "<div style=\"max-height:1000px;max-width:1500px;overflow:auto;\">\n",
        "<table border=\"1\" class=\"dataframe\">\n",
        "  <thead>\n",
        "    <tr style=\"text-align: right;\">\n",
        "      <th></th>\n",
        "      <th>Indicator</th>\n",
        "      <th>Ciphertext</th>\n",
        "    </tr>\n",
        "  </thead>\n",
        "  <tbody>\n",
        "    <tr>\n",
        "      <th>msg_290</th>\n",
        "      <td> YLO</td>\n",
        "      <td> JAKNQNTCXFVAITLYAYASHKOSGXJVRWLRMXJZOAROIRFONO...</td>\n",
        "    </tr>\n",
        "    <tr>\n",
        "      <th>msg_291</th>\n",
        "      <td> INY</td>\n",
        "      <td> OMWJRNILEPTRZMFMFAOQGPQPZLPPXCXMUVEIXHJZJDNOLX...</td>\n",
        "    </tr>\n",
        "    <tr>\n",
        "      <th>msg_292</th>\n",
        "      <td> ONC</td>\n",
        "      <td> DPCBDTAIIOXDHCRDQQPMMDLALYYIWVVSPBTFKOXKXWCEOL...</td>\n",
        "    </tr>\n",
        "    <tr>\n",
        "      <th>msg_293</th>\n",
        "      <td> IQB</td>\n",
        "      <td> JPWHOSCYKUTDNKWNFXQZNORMXKCNTEXDETZFYTDSVYIUTE...</td>\n",
        "    </tr>\n",
        "    <tr>\n",
        "      <th>msg_294</th>\n",
        "      <td> AHZ</td>\n",
        "      <td> SFNFQAEEFEYMGTNGPDWDORVDLJQIQJAYIQQREEBHCFGBEC...</td>\n",
        "    </tr>\n",
        "    <tr>\n",
        "      <th>msg_295</th>\n",
        "      <td> RAK</td>\n",
        "      <td> KHKFIILGFKAUWYURIFGAXJJBAPRZBTVVZADWMWPWHUMMAG...</td>\n",
        "    </tr>\n",
        "    <tr>\n",
        "      <th>msg_296</th>\n",
        "      <td> SEM</td>\n",
        "      <td> BMBIBYMMBANWEOWRHQILATGMMIAHEWFOXUOUCYMUDIRVCM...</td>\n",
        "    </tr>\n",
        "    <tr>\n",
        "      <th>msg_297</th>\n",
        "      <td> ANY</td>\n",
        "      <td> WZHIEPPQCJIGLCEAGNVVYDXMDSHQALHNVVNUDSLGGQDKQM...</td>\n",
        "    </tr>\n",
        "    <tr>\n",
        "      <th>msg_298</th>\n",
        "      <td> DNC</td>\n",
        "      <td> YRAFCGBFAMUCBWEARDSBOAGRSPQWPCYNFWYKZCFPVRUKVB...</td>\n",
        "    </tr>\n",
        "    <tr>\n",
        "      <th>msg_299</th>\n",
        "      <td> LGH</td>\n",
        "      <td> OYFDLDBRRTAEFUNWPCJEXVQGNBQNNVHXFGGQPMYHTGCAFR...</td>\n",
        "    </tr>\n",
        "  </tbody>\n",
        "</table>\n",
        "</div>"
       ],
       "metadata": {},
       "output_type": "pyout",
       "prompt_number": 2,
       "text": [
        "        Indicator                                         Ciphertext\n",
        "msg_290       YLO  JAKNQNTCXFVAITLYAYASHKOSGXJVRWLRMXJZOAROIRFONO...\n",
        "msg_291       INY  OMWJRNILEPTRZMFMFAOQGPQPZLPPXCXMUVEIXHJZJDNOLX...\n",
        "msg_292       ONC  DPCBDTAIIOXDHCRDQQPMMDLALYYIWVVSPBTFKOXKXWCEOL...\n",
        "msg_293       IQB  JPWHOSCYKUTDNKWNFXQZNORMXKCNTEXDETZFYTDSVYIUTE...\n",
        "msg_294       AHZ  SFNFQAEEFEYMGTNGPDWDORVDLJQIQJAYIQQREEBHCFGBEC...\n",
        "msg_295       RAK  KHKFIILGFKAUWYURIFGAXJJBAPRZBTVVZADWMWPWHUMMAG...\n",
        "msg_296       SEM  BMBIBYMMBANWEOWRHQILATGMMIAHEWFOXUOUCYMUDIRVCM...\n",
        "msg_297       ANY  WZHIEPPQCJIGLCEAGNVVYDXMDSHQALHNVVNUDSLGGQDKQM...\n",
        "msg_298       DNC  YRAFCGBFAMUCBWEARDSBOAGRSPQWPCYNFWYKZCFPVRUKVB...\n",
        "msg_299       LGH  OYFDLDBRRTAEFUNWPCJEXVQGNBQNNVHXFGGQPMYHTGCAFR..."
       ]
      }
     ],
     "prompt_number": 2
    },
    {
     "cell_type": "heading",
     "level": 2,
     "metadata": {},
     "source": [
      "Classifying message pairs"
     ]
    },
    {
     "cell_type": "markdown",
     "metadata": {},
     "source": [
      "We're looking for ciphertext pairs where a) the indicator differs only in the last letter and b) where the indicator differs in the middle letter. We can use ``itertools.product()`` to consider each possible pair of messages."
     ]
    },
    {
     "cell_type": "code",
     "collapsed": false,
     "input": [
      "import itertools\n",
      "\n",
      "class_a_pairs = []\n",
      "class_b_pairs = []\n",
      "\n",
      "for intercept1, intercept2 in itertools.product(intercepts.iterrows(), repeat=2):\n",
      "    # Get indicators\n",
      "    indicator1 = intercept1[1]['Indicator']\n",
      "    indicator2 = intercept2[1]['Indicator']\n",
      "    \n",
      "    # to avoid repeats skip indicators not in lexicographic order\n",
      "    if indicator1 > indicator2:\n",
      "        continue\n",
      "    \n",
      "    if indicator1[:-1] == indicator2[:-1] and indicator1[-1] != indicator2[-1]:\n",
      "        # indicators differ only in last letter\n",
      "        class_a_pairs.append((intercept1, intercept2))\n",
      "    elif indicator1[:-2] == indicator2[:-2] and indicator1[-2] != indicator2[-2]:\n",
      "        # indicators differ in middle letter\n",
      "        class_b_pairs.append((intercept1, intercept2))"
     ],
     "language": "python",
     "metadata": {},
     "outputs": [],
     "prompt_number": 3
    },
    {
     "cell_type": "markdown",
     "metadata": {},
     "source": [
      "The ``class_a_pairs`` list now has pairs of intercepts where the indicators differ only in the last letter and the ``class_b_pairs`` list has pairs of intercepts where the middle letter differs."
     ]
    },
    {
     "cell_type": "code",
     "collapsed": false,
     "input": [
      "len(class_a_pairs)"
     ],
     "language": "python",
     "metadata": {},
     "outputs": [
      {
       "metadata": {},
       "output_type": "pyout",
       "prompt_number": 4,
       "text": [
        "50"
       ]
      }
     ],
     "prompt_number": 4
    },
    {
     "cell_type": "code",
     "collapsed": false,
     "input": [
      "class_a_pairs[0]"
     ],
     "language": "python",
     "metadata": {},
     "outputs": [
      {
       "metadata": {},
       "output_type": "pyout",
       "prompt_number": 5,
       "text": [
        "(('msg_3',\n",
        "  Indicator                                                   BQP\n",
        "Ciphertext    JBYLHPOYMQODBEMPTIMXSYCCXMDKYDQBDSQCOYPYCDLEFJ...\n",
        "Name: msg_3, dtype: object),\n",
        " ('msg_155',\n",
        "  Indicator                                                   BQQ\n",
        "Ciphertext    NBFFRQFASXOYAWZCIRVZVUOINOBUKMTCIIHKJZPETHTNFW...\n",
        "Name: msg_155, dtype: object))"
       ]
      }
     ],
     "prompt_number": 5
    },
    {
     "cell_type": "code",
     "collapsed": false,
     "input": [
      "len(class_b_pairs)"
     ],
     "language": "python",
     "metadata": {},
     "outputs": [
      {
       "metadata": {},
       "output_type": "pyout",
       "prompt_number": 6,
       "text": [
        "1717"
       ]
      }
     ],
     "prompt_number": 6
    },
    {
     "cell_type": "code",
     "collapsed": false,
     "input": [
      "class_b_pairs[0]"
     ],
     "language": "python",
     "metadata": {},
     "outputs": [
      {
       "metadata": {},
       "output_type": "pyout",
       "prompt_number": 7,
       "text": [
        "(('msg_0',\n",
        "  Indicator                                                   PET\n",
        "Ciphertext    NRMOIQZXYIGJNQZFVNNBGAPYVQFIYDUVMSZNIOAXHZOOEU...\n",
        "Name: msg_0, dtype: object),\n",
        " ('msg_5',\n",
        "  Indicator                                                   PQY\n",
        "Ciphertext    OMSJSWQGFWZTCGOXXAWEJEQEDXCKXFZGAOTBSYNJWXBVRH...\n",
        "Name: msg_5, dtype: object))"
       ]
      }
     ],
     "prompt_number": 7
    },
    {
     "cell_type": "markdown",
     "metadata": {},
     "source": [
      "We will use ``class_b_pairs`` later on in the BAnburismus process. For the moment, we will concentrate on generating half deciban (hdB) scores for overlaps in the class A message pairs."
     ]
    },
    {
     "cell_type": "heading",
     "level": 2,
     "metadata": {},
     "source": [
      "Scoring message pairs"
     ]
    },
    {
     "cell_type": "markdown",
     "metadata": {},
     "source": [
      "We start by defining some useful functions:"
     ]
    },
    {
     "cell_type": "code",
     "collapsed": false,
     "input": [
      "def overlap(A, B, offset):\n",
      "    \"\"\"\n",
      "    Return the overlapping portions of A and B at a given offset\n",
      "\n",
      "    E.g. if A = ABCDEFG, B = HIJKL and offset is -2:\n",
      "\n",
      "        ABCDEFG\n",
      "          HIJKL\n",
      "\n",
      "    Overlap is [('C', 'H'), ('D', 'I'), ('E', 'J'), ('F', 'K'), ('G', 'L')]\n",
      "    \"\"\"\n",
      "    return zip(A[-offset:], B) if offset < 0 else zip(A, B[offset:])"
     ],
     "language": "python",
     "metadata": {},
     "outputs": [],
     "prompt_number": 8
    },
    {
     "cell_type": "code",
     "collapsed": false,
     "input": [
      "def summarise_overlap(overlap):\n",
      "    \"\"\"\n",
      "    Given an overlap return the total number of matching characters,\n",
      "    a dictionary of ngram counts and the total length of overlap.\n",
      "\n",
      "    \"\"\"\n",
      "    length = len(overlap)\n",
      "    \n",
      "    # The total number of matching characters\n",
      "    matches = 0\n",
      "    \n",
      "    # The total number of n-grams keyed by n\n",
      "    ngrams = {}\n",
      "    \n",
      "    # Look at groups of matches and not-matches\n",
      "    for match, group in itertools.groupby((a==b for a,b in overlap)):\n",
      "        # Not matches don't contribute to score\n",
      "        if not match:\n",
      "            continue\n",
      "            \n",
      "        # This is a bit ugly, but get the length of this match\n",
      "        match_len = sum(1 for x in group)\n",
      "        \n",
      "        try:\n",
      "            ngrams[match_len] += 1\n",
      "        except KeyError:\n",
      "            ngrams[match_len] = 1\n",
      "        \n",
      "        matches += match_len\n",
      "\n",
      "    return matches, ngrams, length"
     ],
     "language": "python",
     "metadata": {},
     "outputs": [],
     "prompt_number": 9
    },
    {
     "cell_type": "code",
     "collapsed": false,
     "input": [
      "def format_summary(summary):\n",
      "    \"\"\"Format a summary in 'Bletchley' notation.\"\"\"\n",
      "    \n",
      "    matches, ngrams, length = summary\n",
      "    summary_str = '{0}'.format(matches)\n",
      "    \n",
      "    # Any ngrams? (ignore monograms in notation)\n",
      "    superscript = ''\n",
      "    for k in ngrams.iterkeys():\n",
      "        if k == 1:\n",
      "            continue\n",
      "        superscript += str(k) * ngrams[k] if k != 2 else 'X' * ngrams[k]\n",
      "        \n",
      "    if len(superscript) > 0:\n",
      "        summary_str += '^{' + superscript + '}'\n",
      "        \n",
      "    summary_str += '/{0}'.format(length)\n",
      "    \n",
      "    return summary_str"
     ],
     "language": "python",
     "metadata": {},
     "outputs": [],
     "prompt_number": 10
    },
    {
     "cell_type": "markdown",
     "metadata": {},
     "source": [
      "We can test this with the following example cipher texts:\n",
      "\n",
      "```VFG: GXCYBGDSLVWBDJLKWIPEHVYGQZWDTHRQXIKEESQSSPZXARIXEABQIRUCKHGWUEBPF\n",
      "VFX: YNSCFCCPVIPEMSGIZWFLHESCIYSPVRXMCFQAXVXDVUQILBJUABNLKMKDJMENUNQ\n",
      "```\n",
      "\n",
      "We use the functions above to print a Bletchley-notation overlap table for each value"
     ]
    },
    {
     "cell_type": "code",
     "collapsed": false,
     "input": [
      "import numpy as np\n",
      "\n",
      "vfg = 'GXCYBGDSLVWBDJLKWIPEHVYGQZWDTHRQXIKEESQSSPZXARIXEABQIRUCKHGWUEBPF'\n",
      "vfx = 'YNSCFCCPVIPEMSGIZWFLHESCIYSPVRXMCFQAXVXDVUQILBJUABNLKMKDJMENUNQ'\n",
      "\n",
      "offsets = np.arange(1, 26)\n",
      "print('\\n'.join(\n",
      "        'VFG=VFX{0:<+3} => {1:13} VFG=VFX{2:<+3} => {3:13}'.format(\n",
      "            o-26, format_summary(summarise_overlap(overlap(vfg, vfx, o-26))),\n",
      "            o, format_summary(summarise_overlap(overlap(vfg, vfx, o)))\n",
      "        ) for o in offsets\n",
      "     ))"
     ],
     "language": "python",
     "metadata": {},
     "outputs": [
      {
       "output_type": "stream",
       "stream": "stdout",
       "text": [
        "VFG=VFX-25 => 1/40          VFG=VFX+1  => 2/62         \n",
        "VFG=VFX-24 => 4/41          VFG=VFX+2  => 1/61         \n",
        "VFG=VFX-23 => 1/42          VFG=VFX+3  => 3/60         \n",
        "VFG=VFX-22 => 2/43          VFG=VFX+4  => 4/59         \n",
        "VFG=VFX-21 => 0/44          VFG=VFX+5  => 1/58         \n",
        "VFG=VFX-20 => 0/45          VFG=VFX+6  => 3/57         \n",
        "VFG=VFX-19 => 1/46          VFG=VFX+7  => 3/56         \n",
        "VFG=VFX-18 => 2/47          VFG=VFX+8  => 0/55         \n",
        "VFG=VFX-17 => 4/48          VFG=VFX+9  => 2/54         \n",
        "VFG=VFX-16 => 1/49          VFG=VFX+10 => 3/53         \n",
        "VFG=VFX-15 => 2^{X}/50      VFG=VFX+11 => 3/52         \n",
        "VFG=VFX-14 => 4^{X}/51      VFG=VFX+12 => 1/51         \n",
        "VFG=VFX-13 => 6/52          VFG=VFX+13 => 0/50         \n",
        "VFG=VFX-12 => 0/53          VFG=VFX+14 => 1/49         \n",
        "VFG=VFX-11 => 3/54          VFG=VFX+15 => 1/48         \n",
        "VFG=VFX-10 => 0/55          VFG=VFX+16 => 1/47         \n",
        "VFG=VFX-9  => 9^{XX}/56     VFG=VFX+17 => 0/46         \n",
        "VFG=VFX-8  => 3^{3}/57      VFG=VFX+18 => 2/45         \n",
        "VFG=VFX-7  => 2/58          VFG=VFX+19 => 3/44         \n",
        "VFG=VFX-6  => 0/59          VFG=VFX+20 => 1/43         \n",
        "VFG=VFX-5  => 3/60          VFG=VFX+21 => 1/42         \n",
        "VFG=VFX-4  => 2/61          VFG=VFX+22 => 2/41         \n",
        "VFG=VFX-3  => 3/62          VFG=VFX+23 => 1/40         \n",
        "VFG=VFX-2  => 3/63          VFG=VFX+24 => 1/39         \n",
        "VFG=VFX-1  => 4^{X}/63      VFG=VFX+25 => 0/38         \n"
       ]
      }
     ],
     "prompt_number": 11
    },
    {
     "cell_type": "heading",
     "level": 3,
     "metadata": {},
     "source": [
      "Scoring summaries"
     ]
    },
    {
     "cell_type": "markdown",
     "metadata": {},
     "source": [
      "Given $p$, the probability of a single character matching a corresponding character in another message, letting $L$ be the statement that the source is a natural language, the *a posteriori* odds given $M$ monogram overlaps in $N$ characters is, via Bayes' theorem,\n",
      "\n",
      "$$\n",
      "\\frac{P(L \\ |\\ N, M, p)}{P(\\bar{L} \\ |\\ N, M, p)}\\quad = \\quad\n",
      "\\frac{P(L)}{P(\\bar{L})}\n",
      "\\frac{P(N, M\\ |\\ L, p)}{P(N, M\\ |\\ \\bar{L}, p)}\\quad = \\quad\n",
      "\\frac{P(L)}{P(\\bar{L})}\\;\n",
      "b(N, M, p),\n",
      "$$\n",
      "\n",
      "where $\\bar{L}$ means \"not $L$\" and\n",
      "\n",
      "$$b(N, M, p) = \\frac{p^M (1-p)^{N-M}}{\\left(\\frac{1}{26}\\right)^M \\left(\\frac{25}{26}\\right)^{N-M}} =\n",
      "\\left(26 p\\right)^M \\left(\\frac{26 (1-p)}{25}\\right)^{N-M} =\n",
      "26^N 25^{M-N} p^M (1-p)^{N-M}\n",
      "$$\n",
      "\n",
      "The scoring charts used at Bletchley measured the result in *half decibans* (hdB) or 20 times log to base 10 of $b(\\cdot).$\n",
      "\n",
      "The hdB score is therefore given by\n",
      "\n",
      "$$\n",
      "\\begin{align*}\n",
      "h(N,M|p) & = 20 \\log(b(N, M, p)) \\\\\\\\\n",
      "         & = 20 \\left( N \\log(26) + (M-N) \\log(25) + M \\log(p) + (N-M) \\log(1-p) \\right).\n",
      "\\end{align*}\n",
      "$$\n",
      "\n",
      "We can render this into Python quite simply:"
     ]
    },
    {
     "cell_type": "code",
     "collapsed": false,
     "input": [
      "def monogram_score(monogram_count, overlap_length, overlap_prob, loss=0):\n",
      "    \"\"\"\n",
      "    Return the score, in hdB, of seeing *monogram_count* monogram correspondences\n",
      "    in an overlap of *overlap_length* given an a a priori probability of overlap of\n",
      "    *overlap_prob*, measured in hdB with a loss of *loss* hdB.\n",
      "\n",
      "    \"\"\"\n",
      "    # Effective P = PL + (1-L)/26\n",
      "    p = np.power(10, (overlap_prob + loss) / 20) + (1-np.power(10,loss/20))/26\n",
      "    \n",
      "    # Calculate logs of effective P and effective 1-P\n",
      "    log_p = np.log10(p)\n",
      "    log_one_minus_p = np.log10(1 - p)\n",
      "    \n",
      "    # Calculate final score in hdB\n",
      "    score = overlap_length * np.log10(26) + (monogram_count - overlap_length) * np.log10(25)\n",
      "    score += monogram_count * log_p + (overlap_length - monogram_count) * log_one_minus_p\n",
      "    return 20 * score"
     ],
     "language": "python",
     "metadata": {},
     "outputs": [],
     "prompt_number": 12
    },
    {
     "cell_type": "markdown",
     "metadata": {},
     "source": [
      "Implicit in the above is the assertion that there has been no middle wheel turnover between the start of one message and the start of another. In this section we recreate the table giving hdB \"losses\" for messages with overlap distances from -25 to 25.\n",
      "\n",
      "Given $S$, the probability that the end-wheel is a single notch type and hence $1-S$ of being a double-notched \"navy\" wheel, then if it's a single-notched wheel then there's a $(26-N)/26$ chance of no turnover, and if it's a \"navy wheel\" then there's a $(13-N)/13$ chance of no turnover. The overall probability of no turnover in $N$ characters is:\n",
      "\n",
      "$$\n",
      "L(N) =\n",
      "\\frac{S (26-N)}{26} + \\frac{(1-S)\\max(0, 13-N)}{13}\n",
      "$$\n",
      "\n",
      "Assuming an even distribution of wheel choice, then $S$ would be 5/8. However, it is claimed that the inner settings of navy Enigma machines always included at least one wheel VI, VII or VIII. If so, this would change the value of the constant $S$ from 5/8 (0.625) to 150/276 (0.5435).\n",
      "\n",
      "Again this can be rendered into Python quite nicely."
     ]
    },
    {
     "cell_type": "code",
     "collapsed": false,
     "input": [
      "def loss_for_distance(distance):\n",
      "    \"\"\"\n",
      "    Given a distance of *distance* characters, return the probability\n",
      "    in hdB of there being no turnover.\n",
      "    \n",
      "    \"\"\"\n",
      "    S = 150/276\n",
      "    N = np.abs(distance)\n",
      "    L = S*(26-N)/26 + (1-S)*np.maximum(0, 13-N)/13\n",
      "    return 20 * np.log10(L)"
     ],
     "language": "python",
     "metadata": {},
     "outputs": [],
     "prompt_number": 13
    },
    {
     "cell_type": "markdown",
     "metadata": {},
     "source": [
      "Bigrams and trigrams were accounted for at Bletchley by adding 'bonus' monogram matches to a score. One monogram was added for a bigram and four for a trigram. Tetragrams, etc were handled by separate sheets which we hack in here by assigning a fixed bonus in hdB and removing the $n$-gram from the monogram match count."
     ]
    },
    {
     "cell_type": "code",
     "collapsed": false,
     "input": [
      "def score_summary(summary, offset, P = -20 * np.log10(17)):\n",
      "    \"\"\"Score a summary in hdB.\"\"\"\n",
      "    \n",
      "    matches, ngrams, length = summary\n",
      "    \n",
      "    # Compute loss due to distance\n",
      "    loss = loss_for_distance(np.abs(offset))\n",
      "    \n",
      "    # Add bonus\n",
      "    if 2 in ngrams:\n",
      "        matches += ngrams[2]\n",
      "    if 3 in ngrams:\n",
      "        matches += 4 * ngrams[3]\n",
      "        \n",
      "    # Hack for tetragrams, etc. Add a fixed bonus\n",
      "    bonus = 0\n",
      "    bonuses = { 4: 38, 5: 54, 6: 73, 7: 85, 8: 116, 9: 138 }\n",
      "    for k, v in bonuses.iteritems():\n",
      "        if k in ngrams:\n",
      "            bonus += ngrams[k] * v\n",
      "            matches -= k*ngrams[k]\n",
      "    \n",
      "    # Compute score\n",
      "    return bonus + monogram_score(matches, length, P, loss)"
     ],
     "language": "python",
     "metadata": {},
     "outputs": [],
     "prompt_number": 14
    },
    {
     "cell_type": "markdown",
     "metadata": {},
     "source": [
      "Using the example ciphertexts above, we can convert each overlap into a hdB score:"
     ]
    },
    {
     "cell_type": "code",
     "collapsed": false,
     "input": [
      "offsets = np.arange(1, 26)\n",
      "print('\\n'.join(\n",
      "        'VFG=VFX{0:<+3} => {1:<+5} VFG=VFX{2:<+3} => {3:<+5}'.format(\n",
      "            o-26, int(np.round(score_summary(summarise_overlap(overlap(vfg, vfx, o-26)), o-26))),\n",
      "            o, int(np.round(score_summary(summarise_overlap(overlap(vfg, vfx, o)), o)))\n",
      "        ) for o in offsets\n",
      "     ))"
     ],
     "language": "python",
     "metadata": {},
     "outputs": [
      {
       "output_type": "stream",
       "stream": "stdout",
       "text": [
        "VFG=VFX-25 => +0    VFG=VFX+1  => -3   \n",
        "VFG=VFX-24 => +0    VFG=VFX+2  => -7   \n",
        "VFG=VFX-23 => +0    VFG=VFX+3  => +1   \n",
        "VFG=VFX-22 => +0    VFG=VFX+4  => +4   \n",
        "VFG=VFX-21 => -1    VFG=VFX+5  => -5   \n",
        "VFG=VFX-20 => -1    VFG=VFX+6  => +1   \n",
        "VFG=VFX-19 => -1    VFG=VFX+7  => +1   \n",
        "VFG=VFX-18 => +0    VFG=VFX+8  => -6   \n",
        "VFG=VFX-17 => +2    VFG=VFX+9  => -1   \n",
        "VFG=VFX-16 => -1    VFG=VFX+10 => +1   \n",
        "VFG=VFX-15 => +1    VFG=VFX+11 => +1   \n",
        "VFG=VFX-14 => +3    VFG=VFX+12 => -2   \n",
        "VFG=VFX-13 => +5    VFG=VFX+13 => -3   \n",
        "VFG=VFX-12 => -3    VFG=VFX+14 => -1   \n",
        "VFG=VFX-11 => +1    VFG=VFX+15 => -1   \n",
        "VFG=VFX-10 => -4    VFG=VFX+16 => -1   \n",
        "VFG=VFX-9  => +18   VFG=VFX+17 => -2   \n",
        "VFG=VFX-8  => +10   VFG=VFX+18 => +0   \n",
        "VFG=VFX-7  => -1    VFG=VFX+19 => +1   \n",
        "VFG=VFX-6  => -7    VFG=VFX+20 => +0   \n",
        "VFG=VFX-5  => +1    VFG=VFX+21 => +0   \n",
        "VFG=VFX-4  => -3    VFG=VFX+22 => +0   \n",
        "VFG=VFX-3  => +0    VFG=VFX+23 => +0   \n",
        "VFG=VFX-2  => +0    VFG=VFX+24 => +0   \n",
        "VFG=VFX-1  => +7    VFG=VFX+25 => +0   \n"
       ]
      }
     ],
     "prompt_number": 15
    },
    {
     "cell_type": "markdown",
     "metadata": {},
     "source": [
      "From this we can see that the ``G=X-9`` hypothesis wins out over ``G=X-8`` despite the latter including a trigram match. To compute the odds of the hypothesis we need a function which formats a hdB score into odds. We also need to remember the Bayesian prior ratio $P(L) / P(\\bar{L})$. In this case it is the prior odds that our hypothesis is correct which is 50:1 against, or -34hdB."
     ]
    },
    {
     "cell_type": "code",
     "collapsed": false,
     "input": [
      "# Show that a 50:1 against ratio is approx. -34 hdB\n",
      "print('50:1 against == {0:+.4} hdB'.format(20 * (np.log10(1) - np.log10(50))))"
     ],
     "language": "python",
     "metadata": {},
     "outputs": [
      {
       "output_type": "stream",
       "stream": "stdout",
       "text": [
        "50:1 against == -33.98 hdB\n"
       ]
      }
     ],
     "prompt_number": 16
    },
    {
     "cell_type": "code",
     "collapsed": false,
     "input": [
      "def hdb_to_odds(hdb_score):\n",
      "    direction = 'on' if hdb_score > 0 else 'against'\n",
      "    return '{0:.1f}:1 {1}'.format(np.power(10, abs(hdb_score)/20), direction)"
     ],
     "language": "python",
     "metadata": {},
     "outputs": [],
     "prompt_number": 17
    },
    {
     "cell_type": "markdown",
     "metadata": {},
     "source": [
      "We can use the ``hdb_to_odds`` function to return the odds on a particular hypothesis, remembering to take into account the prior."
     ]
    },
    {
     "cell_type": "code",
     "collapsed": false,
     "input": [
      "# What are the odds of a hypothesis which scores 27?\n",
      "print('A score of 27 is', hdb_to_odds(27 - 34))\n",
      "\n",
      "# And one that scores 110?\n",
      "print('A score of 110 is', hdb_to_odds(110 - 34))"
     ],
     "language": "python",
     "metadata": {},
     "outputs": [
      {
       "output_type": "stream",
       "stream": "stdout",
       "text": [
        "A score of 27 is 2.2:1 against\n",
        "A score of 110 is 6309.6:1 on\n"
       ]
      }
     ],
     "prompt_number": 18
    },
    {
     "cell_type": "heading",
     "level": 2,
     "metadata": {},
     "source": [
      "Generating debian sheets"
     ]
    },
    {
     "cell_type": "markdown",
     "metadata": {},
     "source": [
      "A row on a deciban sheet gives the score for each offset from -25 to 25 (excluding 0) for a particular pair of messages. We firstly need to write a function which, given an array of offsets, can score the message pair:"
     ]
    },
    {
     "cell_type": "code",
     "collapsed": false,
     "input": [
      "def scores_for_offsets(ciphertext1, ciphertext2, offsets):\n",
      "    # Create a function which returns the score for an offset:\n",
      "    def score_for_offset(o):\n",
      "        return score_summary(summarise_overlap(overlap(ciphertext1, ciphertext2, o)), o)\n",
      "    \n",
      "    # Turn this function into a numpy ufiunc\n",
      "    score_offsets = np.vectorize(score_for_offset)\n",
      "    \n",
      "    # Apply the ufunc\n",
      "    return score_offsets(offsets)"
     ],
     "language": "python",
     "metadata": {},
     "outputs": [],
     "prompt_number": 19
    },
    {
     "cell_type": "markdown",
     "metadata": {},
     "source": [
      "For example, we can look at the first pair from our \"class A\" pairs and score it:"
     ]
    },
    {
     "cell_type": "code",
     "collapsed": false,
     "input": [
      "pair = class_a_pairs[0]\n",
      "pair"
     ],
     "language": "python",
     "metadata": {},
     "outputs": [
      {
       "metadata": {},
       "output_type": "pyout",
       "prompt_number": 20,
       "text": [
        "(('msg_3',\n",
        "  Indicator                                                   BQP\n",
        "Ciphertext    JBYLHPOYMQODBEMPTIMXSYCCXMDKYDQBDSQCOYPYCDLEFJ...\n",
        "Name: msg_3, dtype: object),\n",
        " ('msg_155',\n",
        "  Indicator                                                   BQQ\n",
        "Ciphertext    NBFFRQFASXOYAWZCIRVZVUOINOBUKMTCIIHKJZPETHTNFW...\n",
        "Name: msg_155, dtype: object))"
       ]
      }
     ],
     "prompt_number": 20
    },
    {
     "cell_type": "code",
     "collapsed": false,
     "input": [
      "# Scores for offsets 1 -> 26\n",
      "np.round(scores_for_offsets(pair[0][1]['Ciphertext'], pair[1][1]['Ciphertext'], np.arange(1, 26)))"
     ],
     "language": "python",
     "metadata": {},
     "outputs": [
      {
       "metadata": {},
       "output_type": "pyout",
       "prompt_number": 21,
       "text": [
        "array([-25., -20., -12., -10., -21., -10.,  -2.,  29.,  -9.,  -4.,  -6.,\n",
        "         5.,   2.,   3.,  -2.,  -3., -10.,   2.,  -1.,  -1.,  -2.,   1.,\n",
        "        -0.,  -1.,  -0.])"
       ]
      }
     ],
     "prompt_number": 21
    },
    {
     "cell_type": "markdown",
     "metadata": {},
     "source": [
      "Putting it all together, we can write a function which takes a pair of intercepts and offset list and returns a row in the deciban table and a nice string to use as a row label."
     ]
    },
    {
     "cell_type": "code",
     "collapsed": false,
     "input": [
      "def class_a_deciban_row(pair, offsets):\n",
      "    # Compute scores\n",
      "    scores = np.round(scores_for_offsets(pair[0][1]['Ciphertext'], pair[1][1]['Ciphertext'], offsets))\n",
      "    \n",
      "    # Format the label\n",
      "    indicators = list(pair[i][1]['Indicator'] for i in xrange(2))\n",
      "    label = '{0}[{1}|{2}]'.format(indicators[0][:-1], indicators[0][-1], indicators[1][-1])\n",
      "    \n",
      "    return np.array(scores, dtype=np.int), label"
     ],
     "language": "python",
     "metadata": {},
     "outputs": [],
     "prompt_number": 22
    },
    {
     "cell_type": "markdown",
     "metadata": {},
     "source": [
      "Again, let's demonstrate that with the first class A pair:"
     ]
    },
    {
     "cell_type": "code",
     "collapsed": false,
     "input": [
      "class_a_deciban_row(class_a_pairs[0], np.arange(-25, 26))"
     ],
     "language": "python",
     "metadata": {},
     "outputs": [
      {
       "metadata": {},
       "output_type": "pyout",
       "prompt_number": 23,
       "text": [
        "(array([  0,   0,   1,   3,   1,  -3,  -7,  -4,   4,  -9,  -4,  -4,   9,\n",
        "        -1,  -7,  -3,  -4, -12,  -8, -10,  12, -22,  -1, -13, -29,   0,\n",
        "       -25, -20, -12, -10, -21, -10,  -2,  29,  -9,  -4,  -6,   5,   2,\n",
        "         3,  -2,  -3, -10,   2,  -1,  -1,  -2,   1,   0,  -1,   0]),\n",
        " 'BQ[P|Q]')"
       ]
      }
     ],
     "prompt_number": 23
    },
    {
     "cell_type": "markdown",
     "metadata": {},
     "source": [
      "We now have the tools to generate a deciban row for each class A pair. Note that the offsets exclude zero."
     ]
    },
    {
     "cell_type": "code",
     "collapsed": false,
     "input": [
      "offsets = np.concatenate((np.arange(-25,0), np.arange(1, 26)))\n",
      "offsets"
     ],
     "language": "python",
     "metadata": {},
     "outputs": [
      {
       "metadata": {},
       "output_type": "pyout",
       "prompt_number": 24,
       "text": [
        "array([-25, -24, -23, -22, -21, -20, -19, -18, -17, -16, -15, -14, -13,\n",
        "       -12, -11, -10,  -9,  -8,  -7,  -6,  -5,  -4,  -3,  -2,  -1,   1,\n",
        "         2,   3,   4,   5,   6,   7,   8,   9,  10,  11,  12,  13,  14,\n",
        "        15,  16,  17,  18,  19,  20,  21,  22,  23,  24,  25])"
       ]
      }
     ],
     "prompt_number": 24
    },
    {
     "cell_type": "code",
     "collapsed": false,
     "input": [
      "class_a_deciban_rows = list(class_a_deciban_row(pair, offsets) for pair in class_a_pairs)"
     ],
     "language": "python",
     "metadata": {},
     "outputs": [],
     "prompt_number": 25
    },
    {
     "cell_type": "markdown",
     "metadata": {},
     "source": [
      "Let's group these rows now by which set of hypotheses they relate to. E.g. the pair for indicators ``ABC`` and ``ABX`` relate to the hypotheses ``C = X + ?``."
     ]
    },
    {
     "cell_type": "code",
     "collapsed": false,
     "input": [
      "# A dictionary keyed by a pair of letters. Each value is a Pandas DataFrame\n",
      "# representing the deciban sheet\n",
      "deciban_sheets = {}\n",
      "\n",
      "for pair in class_a_pairs:\n",
      "    # Extract key for sheets\n",
      "    indicators = tuple(p[1]['Indicator'] for p in pair)\n",
      "    sheet_key = tuple(i[-1] for i in indicators)\n",
      "    \n",
      "    # Compute the deciban row\n",
      "    row, label = class_a_deciban_row(pair, offsets)\n",
      "    \n",
      "    # Convert to a Pandas data frame\n",
      "    frame = pd.DataFrame([row], index=[label], columns=offsets)\n",
      "\n",
      "    # Add row to sheet\n",
      "    try:\n",
      "        deciban_sheets[sheet_key] = deciban_sheets[sheet_key].append(frame)\n",
      "    except KeyError:\n",
      "        deciban_sheets[sheet_key] = frame"
     ],
     "language": "python",
     "metadata": {},
     "outputs": [],
     "prompt_number": 26
    },
    {
     "cell_type": "markdown",
     "metadata": {},
     "source": [
      "We can use the DataFrame ``to_html()`` method to nicely format a particular deciban sheet:"
     ]
    },
    {
     "cell_type": "code",
     "collapsed": false,
     "input": [
      "from IPython.display import HTML\n",
      "\n",
      "# Choose the sheet with the most rows\n",
      "frames = deciban_sheets.items()\n",
      "biggest_frame_key, biggest_frame = frames[np.argmax(list(x.shape[0] for _, x in frames))]\n",
      "\n",
      "HTML(biggest_frame.to_html())"
     ],
     "language": "python",
     "metadata": {},
     "outputs": [
      {
       "html": [
        "<table border=\"1\" class=\"dataframe\">\n",
        "  <thead>\n",
        "    <tr style=\"text-align: right;\">\n",
        "      <th></th>\n",
        "      <th>-25</th>\n",
        "      <th>-24</th>\n",
        "      <th>-23</th>\n",
        "      <th>-22</th>\n",
        "      <th>-21</th>\n",
        "      <th>-20</th>\n",
        "      <th>-19</th>\n",
        "      <th>-18</th>\n",
        "      <th>-17</th>\n",
        "      <th>-16</th>\n",
        "      <th>-15</th>\n",
        "      <th>-14</th>\n",
        "      <th>-13</th>\n",
        "      <th>-12</th>\n",
        "      <th>-11</th>\n",
        "      <th>-10</th>\n",
        "      <th>-9</th>\n",
        "      <th>-8</th>\n",
        "      <th>-7</th>\n",
        "      <th>-6</th>\n",
        "      <th>-5</th>\n",
        "      <th>-4</th>\n",
        "      <th>-3</th>\n",
        "      <th>-2</th>\n",
        "      <th>-1</th>\n",
        "      <th>1</th>\n",
        "      <th>2</th>\n",
        "      <th>3</th>\n",
        "      <th>4</th>\n",
        "      <th>5</th>\n",
        "      <th>6</th>\n",
        "      <th>7</th>\n",
        "      <th>8</th>\n",
        "      <th>9</th>\n",
        "      <th>10</th>\n",
        "      <th>11</th>\n",
        "      <th>12</th>\n",
        "      <th>13</th>\n",
        "      <th>14</th>\n",
        "      <th>15</th>\n",
        "      <th>16</th>\n",
        "      <th>17</th>\n",
        "      <th>18</th>\n",
        "      <th>19</th>\n",
        "      <th>20</th>\n",
        "      <th>21</th>\n",
        "      <th>22</th>\n",
        "      <th>23</th>\n",
        "      <th>24</th>\n",
        "      <th>25</th>\n",
        "    </tr>\n",
        "  </thead>\n",
        "  <tbody>\n",
        "    <tr>\n",
        "      <th>NX[F|R]</th>\n",
        "      <td> 0</td>\n",
        "      <td>-1</td>\n",
        "      <td> 3</td>\n",
        "      <td> 0</td>\n",
        "      <td> 0</td>\n",
        "      <td> 1</td>\n",
        "      <td>-4</td>\n",
        "      <td>-1</td>\n",
        "      <td> 20</td>\n",
        "      <td>-7</td>\n",
        "      <td>-5</td>\n",
        "      <td> 4</td>\n",
        "      <td>-2</td>\n",
        "      <td>-6</td>\n",
        "      <td> 3</td>\n",
        "      <td>-7</td>\n",
        "      <td>-12</td>\n",
        "      <td>-2</td>\n",
        "      <td> 33</td>\n",
        "      <td>-17</td>\n",
        "      <td> -7</td>\n",
        "      <td> 5</td>\n",
        "      <td> 18</td>\n",
        "      <td> 32</td>\n",
        "      <td> 0</td>\n",
        "      <td> 19</td>\n",
        "      <td>-10</td>\n",
        "      <td>  8</td>\n",
        "      <td>-17</td>\n",
        "      <td> -3</td>\n",
        "      <td>-24</td>\n",
        "      <td>-17</td>\n",
        "      <td> -8</td>\n",
        "      <td>-3</td>\n",
        "      <td>-2</td>\n",
        "      <td> 9</td>\n",
        "      <td>-4</td>\n",
        "      <td> 0</td>\n",
        "      <td>-3</td>\n",
        "      <td>-2</td>\n",
        "      <td> 3</td>\n",
        "      <td> 5</td>\n",
        "      <td>-4</td>\n",
        "      <td>-2</td>\n",
        "      <td> 1</td>\n",
        "      <td>-1</td>\n",
        "      <td>-1</td>\n",
        "      <td> 0</td>\n",
        "      <td>-1</td>\n",
        "      <td> 0</td>\n",
        "    </tr>\n",
        "    <tr>\n",
        "      <th>JY[F|R]</th>\n",
        "      <td> 0</td>\n",
        "      <td> 1</td>\n",
        "      <td> 1</td>\n",
        "      <td>-1</td>\n",
        "      <td> 2</td>\n",
        "      <td> 1</td>\n",
        "      <td> 2</td>\n",
        "      <td> 5</td>\n",
        "      <td> 18</td>\n",
        "      <td> 3</td>\n",
        "      <td>-1</td>\n",
        "      <td>-3</td>\n",
        "      <td>-5</td>\n",
        "      <td>-5</td>\n",
        "      <td> 2</td>\n",
        "      <td> 0</td>\n",
        "      <td>-11</td>\n",
        "      <td> 1</td>\n",
        "      <td>-10</td>\n",
        "      <td>-11</td>\n",
        "      <td>-21</td>\n",
        "      <td>-4</td>\n",
        "      <td> -2</td>\n",
        "      <td> -7</td>\n",
        "      <td>-8</td>\n",
        "      <td> -4</td>\n",
        "      <td>-14</td>\n",
        "      <td>-29</td>\n",
        "      <td> -2</td>\n",
        "      <td> 10</td>\n",
        "      <td>-14</td>\n",
        "      <td>  5</td>\n",
        "      <td>-23</td>\n",
        "      <td>-4</td>\n",
        "      <td>-1</td>\n",
        "      <td>-6</td>\n",
        "      <td> 4</td>\n",
        "      <td> 1</td>\n",
        "      <td> 1</td>\n",
        "      <td>-1</td>\n",
        "      <td>-6</td>\n",
        "      <td> 0</td>\n",
        "      <td> 0</td>\n",
        "      <td> 1</td>\n",
        "      <td> 1</td>\n",
        "      <td> 1</td>\n",
        "      <td> 1</td>\n",
        "      <td>-2</td>\n",
        "      <td>-1</td>\n",
        "      <td> 0</td>\n",
        "    </tr>\n",
        "  </tbody>\n",
        "</table>"
       ],
       "metadata": {},
       "output_type": "pyout",
       "prompt_number": 27,
       "text": [
        "<IPython.core.display.HTML at 0x3cadb90>"
       ]
      }
     ],
     "prompt_number": 27
    },
    {
     "cell_type": "markdown",
     "metadata": {},
     "source": [
      "Pandas provides an easy way to sum any particular deciban sheet and we can use this to make a nice formatting function."
     ]
    },
    {
     "cell_type": "code",
     "collapsed": false,
     "input": [
      "def deciban_sheet_sum_frame(frame, letter_pair):\n",
      "    \"\"\"\n",
      "    Given *frame*, the DataFrame representing the deciban sheet, return a\n",
      "    tuple (sum_frame, best_offset, best_score).\n",
      "\n",
      "        sum_frame: a new frame representing the summation row with an index\n",
      "                   summarising the maximal score hypothesis.\n",
      "\n",
      "        best_offset: the most likely offset in the sum sheet\n",
      "\n",
      "        best_score: the score at best_offset\n",
      "    \"\"\"\n",
      "    sum_series = frame.sum()\n",
      "    max_idx = sum_series.argmax()\n",
      "    max_score = sum_series.iget(max_idx)\n",
      "    max_offset = sum_series.index[max_idx]\n",
      "    \n",
      "    label = '[{0}] {2[0]}={2[1]}{1:+} ({3})'.format(\n",
      "        max_score, max_offset, letter_pair,\n",
      "        hdb_to_odds(max_score - 34)\n",
      "    )\n",
      "    \n",
      "    return pd.DataFrame([sum_series], index=[label]), max_offset, max_score"
     ],
     "language": "python",
     "metadata": {},
     "outputs": [],
     "prompt_number": 28
    },
    {
     "cell_type": "code",
     "collapsed": false,
     "input": [
      "HTML(biggest_frame.append(deciban_sheet_sum_frame(biggest_frame, biggest_frame_key)[0]).to_html())"
     ],
     "language": "python",
     "metadata": {},
     "outputs": [
      {
       "html": [
        "<table border=\"1\" class=\"dataframe\">\n",
        "  <thead>\n",
        "    <tr style=\"text-align: right;\">\n",
        "      <th></th>\n",
        "      <th>-25</th>\n",
        "      <th>-24</th>\n",
        "      <th>-23</th>\n",
        "      <th>-22</th>\n",
        "      <th>-21</th>\n",
        "      <th>-20</th>\n",
        "      <th>-19</th>\n",
        "      <th>-18</th>\n",
        "      <th>-17</th>\n",
        "      <th>-16</th>\n",
        "      <th>-15</th>\n",
        "      <th>-14</th>\n",
        "      <th>-13</th>\n",
        "      <th>-12</th>\n",
        "      <th>-11</th>\n",
        "      <th>-10</th>\n",
        "      <th>-9</th>\n",
        "      <th>-8</th>\n",
        "      <th>-7</th>\n",
        "      <th>-6</th>\n",
        "      <th>-5</th>\n",
        "      <th>-4</th>\n",
        "      <th>-3</th>\n",
        "      <th>-2</th>\n",
        "      <th>-1</th>\n",
        "      <th>1</th>\n",
        "      <th>2</th>\n",
        "      <th>3</th>\n",
        "      <th>4</th>\n",
        "      <th>5</th>\n",
        "      <th>6</th>\n",
        "      <th>7</th>\n",
        "      <th>8</th>\n",
        "      <th>9</th>\n",
        "      <th>10</th>\n",
        "      <th>11</th>\n",
        "      <th>12</th>\n",
        "      <th>13</th>\n",
        "      <th>14</th>\n",
        "      <th>15</th>\n",
        "      <th>16</th>\n",
        "      <th>17</th>\n",
        "      <th>18</th>\n",
        "      <th>19</th>\n",
        "      <th>20</th>\n",
        "      <th>21</th>\n",
        "      <th>22</th>\n",
        "      <th>23</th>\n",
        "      <th>24</th>\n",
        "      <th>25</th>\n",
        "    </tr>\n",
        "  </thead>\n",
        "  <tbody>\n",
        "    <tr>\n",
        "      <th>NX[F|R]</th>\n",
        "      <td> 0</td>\n",
        "      <td>-1</td>\n",
        "      <td> 3</td>\n",
        "      <td> 0</td>\n",
        "      <td> 0</td>\n",
        "      <td> 1</td>\n",
        "      <td>-4</td>\n",
        "      <td>-1</td>\n",
        "      <td> 20</td>\n",
        "      <td>-7</td>\n",
        "      <td>-5</td>\n",
        "      <td> 4</td>\n",
        "      <td>-2</td>\n",
        "      <td> -6</td>\n",
        "      <td> 3</td>\n",
        "      <td>-7</td>\n",
        "      <td>-12</td>\n",
        "      <td>-2</td>\n",
        "      <td> 33</td>\n",
        "      <td>-17</td>\n",
        "      <td> -7</td>\n",
        "      <td> 5</td>\n",
        "      <td> 18</td>\n",
        "      <td> 32</td>\n",
        "      <td> 0</td>\n",
        "      <td> 19</td>\n",
        "      <td>-10</td>\n",
        "      <td>  8</td>\n",
        "      <td>-17</td>\n",
        "      <td> -3</td>\n",
        "      <td>-24</td>\n",
        "      <td>-17</td>\n",
        "      <td> -8</td>\n",
        "      <td>-3</td>\n",
        "      <td>-2</td>\n",
        "      <td> 9</td>\n",
        "      <td>-4</td>\n",
        "      <td> 0</td>\n",
        "      <td>-3</td>\n",
        "      <td>-2</td>\n",
        "      <td> 3</td>\n",
        "      <td> 5</td>\n",
        "      <td>-4</td>\n",
        "      <td>-2</td>\n",
        "      <td> 1</td>\n",
        "      <td>-1</td>\n",
        "      <td>-1</td>\n",
        "      <td> 0</td>\n",
        "      <td>-1</td>\n",
        "      <td> 0</td>\n",
        "    </tr>\n",
        "    <tr>\n",
        "      <th>JY[F|R]</th>\n",
        "      <td> 0</td>\n",
        "      <td> 1</td>\n",
        "      <td> 1</td>\n",
        "      <td>-1</td>\n",
        "      <td> 2</td>\n",
        "      <td> 1</td>\n",
        "      <td> 2</td>\n",
        "      <td> 5</td>\n",
        "      <td> 18</td>\n",
        "      <td> 3</td>\n",
        "      <td>-1</td>\n",
        "      <td>-3</td>\n",
        "      <td>-5</td>\n",
        "      <td> -5</td>\n",
        "      <td> 2</td>\n",
        "      <td> 0</td>\n",
        "      <td>-11</td>\n",
        "      <td> 1</td>\n",
        "      <td>-10</td>\n",
        "      <td>-11</td>\n",
        "      <td>-21</td>\n",
        "      <td>-4</td>\n",
        "      <td> -2</td>\n",
        "      <td> -7</td>\n",
        "      <td>-8</td>\n",
        "      <td> -4</td>\n",
        "      <td>-14</td>\n",
        "      <td>-29</td>\n",
        "      <td> -2</td>\n",
        "      <td> 10</td>\n",
        "      <td>-14</td>\n",
        "      <td>  5</td>\n",
        "      <td>-23</td>\n",
        "      <td>-4</td>\n",
        "      <td>-1</td>\n",
        "      <td>-6</td>\n",
        "      <td> 4</td>\n",
        "      <td> 1</td>\n",
        "      <td> 1</td>\n",
        "      <td>-1</td>\n",
        "      <td>-6</td>\n",
        "      <td> 0</td>\n",
        "      <td> 0</td>\n",
        "      <td> 1</td>\n",
        "      <td> 1</td>\n",
        "      <td> 1</td>\n",
        "      <td> 1</td>\n",
        "      <td>-2</td>\n",
        "      <td>-1</td>\n",
        "      <td> 0</td>\n",
        "    </tr>\n",
        "    <tr>\n",
        "      <th>[38] F=R-17 (1.6:1 on)</th>\n",
        "      <td> 0</td>\n",
        "      <td> 0</td>\n",
        "      <td> 4</td>\n",
        "      <td>-1</td>\n",
        "      <td> 2</td>\n",
        "      <td> 2</td>\n",
        "      <td>-2</td>\n",
        "      <td> 4</td>\n",
        "      <td> 38</td>\n",
        "      <td>-4</td>\n",
        "      <td>-6</td>\n",
        "      <td> 1</td>\n",
        "      <td>-7</td>\n",
        "      <td>-11</td>\n",
        "      <td> 5</td>\n",
        "      <td>-7</td>\n",
        "      <td>-23</td>\n",
        "      <td>-1</td>\n",
        "      <td> 23</td>\n",
        "      <td>-28</td>\n",
        "      <td>-28</td>\n",
        "      <td> 1</td>\n",
        "      <td> 16</td>\n",
        "      <td> 25</td>\n",
        "      <td>-8</td>\n",
        "      <td> 15</td>\n",
        "      <td>-24</td>\n",
        "      <td>-21</td>\n",
        "      <td>-19</td>\n",
        "      <td>  7</td>\n",
        "      <td>-38</td>\n",
        "      <td>-12</td>\n",
        "      <td>-31</td>\n",
        "      <td>-7</td>\n",
        "      <td>-3</td>\n",
        "      <td> 3</td>\n",
        "      <td> 0</td>\n",
        "      <td> 1</td>\n",
        "      <td>-2</td>\n",
        "      <td>-3</td>\n",
        "      <td>-3</td>\n",
        "      <td> 5</td>\n",
        "      <td>-4</td>\n",
        "      <td>-1</td>\n",
        "      <td> 2</td>\n",
        "      <td> 0</td>\n",
        "      <td> 0</td>\n",
        "      <td>-2</td>\n",
        "      <td>-2</td>\n",
        "      <td> 0</td>\n",
        "    </tr>\n",
        "  </tbody>\n",
        "</table>"
       ],
       "metadata": {},
       "output_type": "pyout",
       "prompt_number": 29,
       "text": [
        "<IPython.core.display.HTML at 0x2ef1e90>"
       ]
      }
     ],
     "prompt_number": 29
    },
    {
     "cell_type": "heading",
     "level": 2,
     "metadata": {},
     "source": [
      "Middle rotor overlaps"
     ]
    },
    {
     "cell_type": "markdown",
     "metadata": {},
     "source": [
      "In addition to end-rotor only hypotheses, we can fill in deciban sheets for middle-rotor changes too. At Bletchley, this was somewhat mechanised because it required searching offsets of +/- 650 in messages. The Hollerith machines would produce tetragram and better overlaps. We have a modern computer and so we'll do the overlaps explicitly for each pair."
     ]
    },
    {
     "cell_type": "code",
     "collapsed": false,
     "input": [
      "pair = class_b_pairs[0]\n",
      "pair"
     ],
     "language": "python",
     "metadata": {},
     "outputs": [
      {
       "metadata": {},
       "output_type": "pyout",
       "prompt_number": 30,
       "text": [
        "(('msg_0',\n",
        "  Indicator                                                   PET\n",
        "Ciphertext    NRMOIQZXYIGJNQZFVNNBGAPYVQFIYDUVMSZNIOAXHZOOEU...\n",
        "Name: msg_0, dtype: object),\n",
        " ('msg_5',\n",
        "  Indicator                                                   PQY\n",
        "Ciphertext    OMSJSWQGFWZTCGOXXAWEJEQEDXCKXFZGAOTBSYNJWXBVRH...\n",
        "Name: msg_5, dtype: object))"
       ]
      }
     ],
     "prompt_number": 30
    },
    {
     "cell_type": "code",
     "collapsed": false,
     "input": [
      "def mid_rotor_matches_for_pair(pair):\n",
      "    \"\"\"\n",
      "    For offsets from -650 to 650 (excluding zero), return matches\n",
      "    for intercept pair including a tetragram or better.\n",
      "\n",
      "    \"\"\"\n",
      "    ciphertexts = pair[0][1]['Ciphertext'], pair[1][1]['Ciphertext']\n",
      "    \n",
      "    # Is there at least one tetragram offset?\n",
      "    c1_tetragrams = set(zip(iter(ciphertexts[0]), iter(ciphertexts[0][1:]),\n",
      "         iter(ciphertexts[0][2:]), iter(ciphertexts[0][3:])))\n",
      "    c2_tetragrams = set(zip(iter(ciphertexts[1]), iter(ciphertexts[1][1:]),\n",
      "         iter(ciphertexts[1][2:]), iter(ciphertexts[1][3:])))\n",
      "    \n",
      "    common_tetragrams = c1_tetragrams.intersection(c2_tetragrams)\n",
      "    if len(common_tetragrams) == 0:\n",
      "        return []\n",
      "    \n",
      "    interesting_overlaps = []\n",
      "    \n",
      "    max_offset = min(len(x) for x in ciphertexts)\n",
      "    \n",
      "    for offset in xrange(-max_offset, max_offset+1):\n",
      "        if offset == 0:\n",
      "            continue\n",
      "        summary = summarise_overlap(overlap(ciphertexts[0], ciphertexts[1], offset))\n",
      "        \n",
      "        # We're only interested if overlap has a tetragram or better\n",
      "        if len(summary[1]) == 0 or max(summary[1].iterkeys()) < 4:\n",
      "            continue\n",
      "        \n",
      "        interesting_overlaps.append((summary, offset))\n",
      "    \n",
      "    return interesting_overlaps"
     ],
     "language": "python",
     "metadata": {},
     "outputs": [],
     "prompt_number": 31
    },
    {
     "cell_type": "code",
     "collapsed": false,
     "input": [
      "def loss_for_left_wheel_distance(distance):\n",
      "    \"\"\"\n",
      "    Given a distance of *distance* characters, return the probability\n",
      "    in hdB of there being no turnover.\n",
      "    \n",
      "    \"\"\"\n",
      "    L = (90 * np.maximum(0, 325-distance)) / (325)\n",
      "    L += (90 * np.maximum(0, 312-distance)) / (312)\n",
      "    L += (36 * np.maximum(0, 156-distance)) / (156)\n",
      "    L += (60 * np.maximum(0, 650-distance)) / (650)\n",
      "    return 20 * (np.log10(L) - np.log10(276))"
     ],
     "language": "python",
     "metadata": {},
     "outputs": [],
     "prompt_number": 32
    },
    {
     "cell_type": "code",
     "collapsed": false,
     "input": [
      "def offset_to_letter_alphabet_pair(offset):\n",
      "    \"\"\"\n",
      "    Convert a raw offset to a tuple giving the letter and alphabet offset.\n",
      "    Both elements of the returned tuple will be appropriately signed.\n",
      "\n",
      "    \"\"\"\n",
      "    letter_offset = (offset % 26) if offset > 0 else -((-offset) % 26)\n",
      "    alphabet_offset = (offset // 26) if offset > 0 else -((-offset) // 26)\n",
      "\n",
      "    return (letter_offset, alphabet_offset)"
     ],
     "language": "python",
     "metadata": {},
     "outputs": [],
     "prompt_number": 33
    },
    {
     "cell_type": "code",
     "collapsed": false,
     "input": [
      "def mid_rotor_score(summary, offset):\n",
      "    # Start with a score of 0\n",
      "    score = 0\n",
      "\n",
      "    # Score n-grams. Use fake offset of 0 because we'll account for loss below\n",
      "    score_table = { 4: 38, 5: 54, 6: 73, 7: 95, 8: 116, 9: 138 }\n",
      "    for k, v in summary[1].iteritems():\n",
      "        if k not in score_table:\n",
      "            continue\n",
      "        score += score_table[k] * v\n",
      "        \n",
      "    # Correct for prior assumed to be -34 vs -62 for mid-rotor matches\n",
      "    score -= (64-34)\n",
      "        \n",
      "    # Correct for left wheel turnover\n",
      "    score += loss_for_left_wheel_distance(abs(offset))\n",
      "    \n",
      "    return score"
     ],
     "language": "python",
     "metadata": {},
     "outputs": [],
     "prompt_number": 34
    },
    {
     "cell_type": "code",
     "collapsed": false,
     "input": [
      "def class_b_deciban_row(pair, offsets):\n",
      "    rows = []\n",
      "    idxs = []\n",
      "    \n",
      "    # Look for interesting matches\n",
      "    matches = mid_rotor_matches_for_pair(pair)\n",
      "    indicators = tuple(p[1]['Indicator'] for p in pair)\n",
      "        \n",
      "    good_matches = []\n",
      "    for summary, offset in matches:\n",
      "        # Start with a score of 0\n",
      "        score = mid_rotor_score(summary, offset)\n",
      "        \n",
      "        # What is the offset in letters and alphabets\n",
      "        letter_offset, alphabet_offset = offset_to_letter_alphabet_pair(offset)\n",
      "\n",
      "        # Don't bother with -ve scores\n",
      "        if score < 0:\n",
      "            continue\n",
      "            \n",
      "        # Record this match as a good one\n",
      "        good_matches.append((summary, offset))\n",
      "        \n",
      "        # Form row\n",
      "        rows.append(np.where(offsets == letter_offset, int(np.round(score)), 0))\n",
      "        idxs.append('{0[0]}={0[1]}{1:+}.{2}, {3}'.format(\n",
      "            indicators, alphabet_offset, abs(letter_offset), format_summary(summary)))\n",
      "    \n",
      "    return rows, idxs, good_matches"
     ],
     "language": "python",
     "metadata": {},
     "outputs": [],
     "prompt_number": 35
    },
    {
     "cell_type": "code",
     "collapsed": false,
     "input": [
      "# Record a set of end-rotor only pairs\n",
      "end_rotor_only_pairs = set(deciban_sheets.iterkeys())\n",
      "\n",
      "# A dictionary of good matches keyed by indicator pair\n",
      "good_matches = {}\n",
      "\n",
      "n = 0\n",
      "for pair in class_b_pairs:\n",
      "    # Extract key for sheets\n",
      "    indicators = tuple(p[1]['Indicator'] for p in pair)\n",
      "    sheet_key = tuple(i[-1] for i in indicators)\n",
      "    \n",
      "    # Compute the deciban rows\n",
      "    rows, labels, matches = class_b_deciban_row(pair, offsets)\n",
      "    \n",
      "    # Skip empty sheets\n",
      "    if len(rows) == 0:\n",
      "        continue\n",
      "        \n",
      "    try:\n",
      "        good_matches[indicators].extend(matches)\n",
      "    except KeyError:\n",
      "        good_matches[indicators] = matches\n",
      "    \n",
      "    # Convert to a Pandas data frame\n",
      "    frame = pd.DataFrame(rows, index=labels, columns=offsets)\n",
      "    n += 1\n",
      "    \n",
      "    # Add row to sheet\n",
      "    try:\n",
      "        deciban_sheets[sheet_key] = deciban_sheets[sheet_key].append(frame)\n",
      "        end_rotor_only_pairs.remove(sheet_key)\n",
      "    except KeyError:\n",
      "        deciban_sheets[sheet_key] = frame       \n",
      "        \n",
      "print('Added {0} rows to deciban sheets from midrotor changes'.format(n))"
     ],
     "language": "python",
     "metadata": {},
     "outputs": [
      {
       "output_type": "stream",
       "stream": "stdout",
       "text": [
        "Added 462 rows to deciban sheets from midrotor changes\n"
       ]
      }
     ],
     "prompt_number": 36
    },
    {
     "cell_type": "code",
     "collapsed": false,
     "input": [
      "# Choose the sheet with the most rows\n",
      "frames = deciban_sheets.items()\n",
      "biggest_frame_key, biggest_frame = frames[np.argmax(list(x.shape[0] for _, x in frames))]\n",
      "\n",
      "HTML(biggest_frame.to_html())"
     ],
     "language": "python",
     "metadata": {},
     "outputs": [
      {
       "html": [
        "<table border=\"1\" class=\"dataframe\">\n",
        "  <thead>\n",
        "    <tr style=\"text-align: right;\">\n",
        "      <th></th>\n",
        "      <th>-25</th>\n",
        "      <th>-24</th>\n",
        "      <th>-23</th>\n",
        "      <th>-22</th>\n",
        "      <th>-21</th>\n",
        "      <th>-20</th>\n",
        "      <th>-19</th>\n",
        "      <th>-18</th>\n",
        "      <th>-17</th>\n",
        "      <th>-16</th>\n",
        "      <th>-15</th>\n",
        "      <th>-14</th>\n",
        "      <th>-13</th>\n",
        "      <th>-12</th>\n",
        "      <th>-11</th>\n",
        "      <th>-10</th>\n",
        "      <th>-9</th>\n",
        "      <th>-8</th>\n",
        "      <th>-7</th>\n",
        "      <th>-6</th>\n",
        "      <th>-5</th>\n",
        "      <th>-4</th>\n",
        "      <th>-3</th>\n",
        "      <th>-2</th>\n",
        "      <th>-1</th>\n",
        "      <th>1</th>\n",
        "      <th>2</th>\n",
        "      <th>3</th>\n",
        "      <th>4</th>\n",
        "      <th>5</th>\n",
        "      <th>6</th>\n",
        "      <th>7</th>\n",
        "      <th>8</th>\n",
        "      <th>9</th>\n",
        "      <th>10</th>\n",
        "      <th>11</th>\n",
        "      <th>12</th>\n",
        "      <th>13</th>\n",
        "      <th>14</th>\n",
        "      <th>15</th>\n",
        "      <th>16</th>\n",
        "      <th>17</th>\n",
        "      <th>18</th>\n",
        "      <th>19</th>\n",
        "      <th>20</th>\n",
        "      <th>21</th>\n",
        "      <th>22</th>\n",
        "      <th>23</th>\n",
        "      <th>24</th>\n",
        "      <th>25</th>\n",
        "    </tr>\n",
        "  </thead>\n",
        "  <tbody>\n",
        "    <tr>\n",
        "      <th>JGW=JYR-3.22, 21^{4}/558</th>\n",
        "      <td> 0</td>\n",
        "      <td> 0</td>\n",
        "      <td> 0</td>\n",
        "      <td> 5</td>\n",
        "      <td> 0</td>\n",
        "      <td> 0</td>\n",
        "      <td> 0</td>\n",
        "      <td> 0</td>\n",
        "      <td> 0</td>\n",
        "      <td> 0</td>\n",
        "      <td> 0</td>\n",
        "      <td> 0</td>\n",
        "      <td> 0</td>\n",
        "      <td> 0</td>\n",
        "      <td> 0</td>\n",
        "      <td> 0</td>\n",
        "      <td> 0</td>\n",
        "      <td> 0</td>\n",
        "      <td> 0</td>\n",
        "      <td> 0</td>\n",
        "      <td> 0</td>\n",
        "      <td> 0</td>\n",
        "      <td> 0</td>\n",
        "      <td> 0</td>\n",
        "      <td> 0</td>\n",
        "      <td> 0</td>\n",
        "      <td> 0</td>\n",
        "      <td> 0</td>\n",
        "      <td> 0</td>\n",
        "      <td> 0</td>\n",
        "      <td> 0</td>\n",
        "      <td> 0</td>\n",
        "      <td> 0</td>\n",
        "      <td> 0</td>\n",
        "      <td> 0</td>\n",
        "      <td> 0</td>\n",
        "      <td> 0</td>\n",
        "      <td> 0</td>\n",
        "      <td> 0</td>\n",
        "      <td> 0</td>\n",
        "      <td> 0</td>\n",
        "      <td> 0</td>\n",
        "      <td> 0</td>\n",
        "      <td> 0</td>\n",
        "      <td> 0</td>\n",
        "      <td> 0</td>\n",
        "      <td> 0</td>\n",
        "      <td> 0</td>\n",
        "      <td> 0</td>\n",
        "      <td> 0</td>\n",
        "    </tr>\n",
        "    <tr>\n",
        "      <th>JGW=JYR-1.4, 40^{X4}/558</th>\n",
        "      <td> 0</td>\n",
        "      <td> 0</td>\n",
        "      <td> 0</td>\n",
        "      <td> 0</td>\n",
        "      <td> 0</td>\n",
        "      <td> 0</td>\n",
        "      <td> 0</td>\n",
        "      <td> 0</td>\n",
        "      <td> 0</td>\n",
        "      <td> 0</td>\n",
        "      <td> 0</td>\n",
        "      <td> 0</td>\n",
        "      <td> 0</td>\n",
        "      <td> 0</td>\n",
        "      <td> 0</td>\n",
        "      <td> 0</td>\n",
        "      <td> 0</td>\n",
        "      <td> 0</td>\n",
        "      <td> 0</td>\n",
        "      <td> 0</td>\n",
        "      <td> 0</td>\n",
        "      <td> 7</td>\n",
        "      <td> 0</td>\n",
        "      <td> 0</td>\n",
        "      <td> 0</td>\n",
        "      <td> 0</td>\n",
        "      <td> 0</td>\n",
        "      <td> 0</td>\n",
        "      <td> 0</td>\n",
        "      <td> 0</td>\n",
        "      <td> 0</td>\n",
        "      <td> 0</td>\n",
        "      <td> 0</td>\n",
        "      <td> 0</td>\n",
        "      <td> 0</td>\n",
        "      <td> 0</td>\n",
        "      <td> 0</td>\n",
        "      <td> 0</td>\n",
        "      <td> 0</td>\n",
        "      <td> 0</td>\n",
        "      <td> 0</td>\n",
        "      <td> 0</td>\n",
        "      <td> 0</td>\n",
        "      <td> 0</td>\n",
        "      <td> 0</td>\n",
        "      <td> 0</td>\n",
        "      <td> 0</td>\n",
        "      <td> 0</td>\n",
        "      <td> 0</td>\n",
        "      <td> 0</td>\n",
        "    </tr>\n",
        "    <tr>\n",
        "      <th>JGW=JYR+0.14, 18^{4}/544</th>\n",
        "      <td> 0</td>\n",
        "      <td> 0</td>\n",
        "      <td> 0</td>\n",
        "      <td> 0</td>\n",
        "      <td> 0</td>\n",
        "      <td> 0</td>\n",
        "      <td> 0</td>\n",
        "      <td> 0</td>\n",
        "      <td> 0</td>\n",
        "      <td> 0</td>\n",
        "      <td> 0</td>\n",
        "      <td> 0</td>\n",
        "      <td> 0</td>\n",
        "      <td> 0</td>\n",
        "      <td> 0</td>\n",
        "      <td> 0</td>\n",
        "      <td> 0</td>\n",
        "      <td> 0</td>\n",
        "      <td> 0</td>\n",
        "      <td> 0</td>\n",
        "      <td> 0</td>\n",
        "      <td> 0</td>\n",
        "      <td> 0</td>\n",
        "      <td> 0</td>\n",
        "      <td> 0</td>\n",
        "      <td> 0</td>\n",
        "      <td> 0</td>\n",
        "      <td> 0</td>\n",
        "      <td> 0</td>\n",
        "      <td> 0</td>\n",
        "      <td> 0</td>\n",
        "      <td> 0</td>\n",
        "      <td> 0</td>\n",
        "      <td> 0</td>\n",
        "      <td> 0</td>\n",
        "      <td> 0</td>\n",
        "      <td> 0</td>\n",
        "      <td> 0</td>\n",
        "      <td> 8</td>\n",
        "      <td> 0</td>\n",
        "      <td> 0</td>\n",
        "      <td> 0</td>\n",
        "      <td> 0</td>\n",
        "      <td> 0</td>\n",
        "      <td> 0</td>\n",
        "      <td> 0</td>\n",
        "      <td> 0</td>\n",
        "      <td> 0</td>\n",
        "      <td> 0</td>\n",
        "      <td> 0</td>\n",
        "    </tr>\n",
        "    <tr>\n",
        "      <th>JGW=JYR+6.21, 22^{4}/381</th>\n",
        "      <td> 0</td>\n",
        "      <td> 0</td>\n",
        "      <td> 0</td>\n",
        "      <td> 0</td>\n",
        "      <td> 0</td>\n",
        "      <td> 0</td>\n",
        "      <td> 0</td>\n",
        "      <td> 0</td>\n",
        "      <td> 0</td>\n",
        "      <td> 0</td>\n",
        "      <td> 0</td>\n",
        "      <td> 0</td>\n",
        "      <td> 0</td>\n",
        "      <td> 0</td>\n",
        "      <td> 0</td>\n",
        "      <td> 0</td>\n",
        "      <td> 0</td>\n",
        "      <td> 0</td>\n",
        "      <td> 0</td>\n",
        "      <td> 0</td>\n",
        "      <td> 0</td>\n",
        "      <td> 0</td>\n",
        "      <td> 0</td>\n",
        "      <td> 0</td>\n",
        "      <td> 0</td>\n",
        "      <td> 0</td>\n",
        "      <td> 0</td>\n",
        "      <td> 0</td>\n",
        "      <td> 0</td>\n",
        "      <td> 0</td>\n",
        "      <td> 0</td>\n",
        "      <td> 0</td>\n",
        "      <td> 0</td>\n",
        "      <td> 0</td>\n",
        "      <td> 0</td>\n",
        "      <td> 0</td>\n",
        "      <td> 0</td>\n",
        "      <td> 0</td>\n",
        "      <td> 0</td>\n",
        "      <td> 0</td>\n",
        "      <td> 0</td>\n",
        "      <td> 0</td>\n",
        "      <td> 0</td>\n",
        "      <td> 0</td>\n",
        "      <td> 0</td>\n",
        "      <td> 1</td>\n",
        "      <td> 0</td>\n",
        "      <td> 0</td>\n",
        "      <td> 0</td>\n",
        "      <td> 0</td>\n",
        "    </tr>\n",
        "  </tbody>\n",
        "</table>"
       ],
       "metadata": {},
       "output_type": "pyout",
       "prompt_number": 37,
       "text": [
        "<IPython.core.display.HTML at 0x2ef26d0>"
       ]
      }
     ],
     "prompt_number": 37
    },
    {
     "cell_type": "heading",
     "level": 2,
     "metadata": {},
     "source": [
      "Forming hypotheses"
     ]
    },
    {
     "cell_type": "markdown",
     "metadata": {},
     "source": [
      "We can now scan down the deciban sheets and output a letter pair, offset hypothesis and score corresponding to the best hypothesis from each sheet."
     ]
    },
    {
     "cell_type": "code",
     "collapsed": false,
     "input": [
      "# Scores keyed by a tuple giving first letter, last letter and offset\n",
      "class_a_hypotheses = {}\n",
      "\n",
      "for letter_pair, frame in deciban_sheets.iteritems():\n",
      "    _, offset, score = deciban_sheet_sum_frame(frame, letter_pair)\n",
      "    class_a_hypotheses[letter_pair + (offset, )] = score"
     ],
     "language": "python",
     "metadata": {},
     "outputs": [],
     "prompt_number": 38
    },
    {
     "cell_type": "code",
     "collapsed": false,
     "input": [
      "def format_hypothesis(hyp):\n",
      "    \"\"\"Return a string representing a human-readable representation of a hypothesis.\"\"\"\n",
      "    return '{0} = {1}{2:+}'.format(*hyp)"
     ],
     "language": "python",
     "metadata": {},
     "outputs": [],
     "prompt_number": 39
    },
    {
     "cell_type": "markdown",
     "metadata": {},
     "source": [
      "Print out any hypotheses whose score is >34 (i.e. better than evens after correcting with Bayesian prior)"
     ]
    },
    {
     "cell_type": "code",
     "collapsed": false,
     "input": [
      "all_hypotheses = list(item for item in class_a_hypotheses.iteritems() if item[1] > 34)\n",
      "all_hypotheses.sort(key=lambda x: x[1], reverse=True)\n",
      "print('\\n'.join('{0:10} => {1:<4} = {2}'.format(format_hypothesis(h), s, hdb_to_odds(s-34)) for h, s in all_hypotheses))"
     ],
     "language": "python",
     "metadata": {},
     "outputs": [
      {
       "output_type": "stream",
       "stream": "stdout",
       "text": [
        "T = Q+25   => 160  = 1995262.3:1 on\n",
        "G = Z-10   => 148  = 501187.2:1 on\n",
        "I = J-9    => 133  = 89125.1:1 on\n",
        "Q = R-3    => 125  = 35481.3:1 on\n",
        "I = N-6    => 116  = 12589.3:1 on\n",
        "P = R+5    => 112  = 7943.3:1 on\n",
        "A = Q+2    => 108  = 5011.9:1 on\n",
        "N = M+9    => 86   = 398.1:1 on\n",
        "C = X-6    => 84   = 316.2:1 on\n",
        "W = X-2    => 83   = 281.8:1 on\n",
        "N = T-10   => 79   = 177.8:1 on\n",
        "J = S-9    => 77   = 141.3:1 on\n",
        "G = L+20   => 74   = 100.0:1 on\n",
        "U = W-6    => 67   = 44.7:1 on\n",
        "M = V+9    => 63   = 28.2:1 on\n",
        "P = I+25   => 60   = 20.0:1 on\n",
        "A = Z-19   => 59   = 17.8:1 on\n",
        "D = J+13   => 52   = 7.9:1 on\n",
        "U = V-9    => 49   = 5.6:1 on\n",
        "A = D-3    => 48   = 5.0:1 on\n",
        "R = T+4    => 46   = 4.0:1 on\n",
        "C = U+2    => 44   = 3.2:1 on\n",
        "K = P+16   => 43   = 2.8:1 on\n",
        "Q = J-18   => 42   = 2.5:1 on\n",
        "E = L+2    => 41   = 2.2:1 on\n",
        "A = J+10   => 41   = 2.2:1 on\n",
        "C = V-7    => 40   = 2.0:1 on\n",
        "M = G+21   => 40   = 2.0:1 on\n",
        "Q = C-18   => 39   = 1.8:1 on\n",
        "F = R-17   => 38   = 1.6:1 on\n",
        "T = S+24   => 38   = 1.6:1 on\n",
        "D = W+11   => 36   = 1.3:1 on\n"
       ]
      }
     ],
     "prompt_number": 40
    },
    {
     "cell_type": "markdown",
     "metadata": {},
     "source": [
      "We define 'certain' to be odds of better than 100:1. This corresponds to raw score of >= 74. Of our hypotheses, which are 'certain'?"
     ]
    },
    {
     "cell_type": "code",
     "collapsed": false,
     "input": [
      "certain_hypotheses = list(item for item in class_a_hypotheses.iteritems() if item[1] > 74)\n",
      "certain_hypotheses.sort(key=lambda x: x[1], reverse=True)\n",
      "print('Certain:')\n",
      "print('\\n'.join('{0:10} => {1:<4} = {2}'.format(format_hypothesis(h), s, hdb_to_odds(s-34)) for h, s in certain_hypotheses))\n",
      "\n",
      "uncertain_hypotheses = list(item for item in class_a_hypotheses.iteritems() if item[1] <= 74 and item[1] > 34)\n",
      "uncertain_hypotheses.sort(key=lambda x: x[1], reverse=True)\n",
      "\n",
      "print('Uncertain:')\n",
      "print('\\n'.join('{0:10} => {1:<4} = {2}'.format(format_hypothesis(h), s, hdb_to_odds(s-34)) for h, s in uncertain_hypotheses))"
     ],
     "language": "python",
     "metadata": {},
     "outputs": [
      {
       "output_type": "stream",
       "stream": "stdout",
       "text": [
        "Certain:\n",
        "T = Q+25   => 160  = 1995262.3:1 on\n",
        "G = Z-10   => 148  = 501187.2:1 on\n",
        "I = J-9    => 133  = 89125.1:1 on\n",
        "Q = R-3    => 125  = 35481.3:1 on\n",
        "I = N-6    => 116  = 12589.3:1 on\n",
        "P = R+5    => 112  = 7943.3:1 on\n",
        "A = Q+2    => 108  = 5011.9:1 on\n",
        "N = M+9    => 86   = 398.1:1 on\n",
        "C = X-6    => 84   = 316.2:1 on\n",
        "W = X-2    => 83   = 281.8:1 on\n",
        "N = T-10   => 79   = 177.8:1 on\n",
        "J = S-9    => 77   = 141.3:1 on\n",
        "Uncertain:\n",
        "G = L+20   => 74   = 100.0:1 on\n",
        "U = W-6    => 67   = 44.7:1 on\n",
        "M = V+9    => 63   = 28.2:1 on\n",
        "P = I+25   => 60   = 20.0:1 on\n",
        "A = Z-19   => 59   = 17.8:1 on\n",
        "D = J+13   => 52   = 7.9:1 on\n",
        "U = V-9    => 49   = 5.6:1 on\n",
        "A = D-3    => 48   = 5.0:1 on\n",
        "R = T+4    => 46   = 4.0:1 on\n",
        "C = U+2    => 44   = 3.2:1 on\n",
        "K = P+16   => 43   = 2.8:1 on\n",
        "Q = J-18   => 42   = 2.5:1 on\n",
        "E = L+2    => 41   = 2.2:1 on\n",
        "A = J+10   => 41   = 2.2:1 on\n",
        "C = V-7    => 40   = 2.0:1 on\n",
        "M = G+21   => 40   = 2.0:1 on\n",
        "Q = C-18   => 39   = 1.8:1 on\n",
        "F = R-17   => 38   = 1.6:1 on\n",
        "T = S+24   => 38   = 1.6:1 on\n",
        "D = W+11   => 36   = 1.3:1 on\n"
       ]
      }
     ],
     "prompt_number": 41
    },
    {
     "cell_type": "heading",
     "level": 2,
     "metadata": {},
     "source": [
      "Determining the end rotor"
     ]
    },
    {
     "cell_type": "markdown",
     "metadata": {},
     "source": [
      "By assigning numbers to letters and considering each hypothesis in turn, we can build up an initial guess at thre third rotor alphabet."
     ]
    },
    {
     "cell_type": "code",
     "collapsed": false,
     "input": [
      "def add_hypotheses_to_alphabet(hypotheses, alphabet):\n",
      "    \"\"\"\n",
      "    Given an alphabet defined by a dictionary mapping letters to numerical position,\n",
      "    attempt to add the hypotheses to it returning a list of indices in *hypotheses*\n",
      "    which were accepted.\n",
      "\n",
      "    Note that hypotheses are tried in the order they appear in the *hypotheses*\n",
      "    sequence.\n",
      "    \"\"\"\n",
      "    accepted_idxs = []\n",
      "    \n",
      "    for idx, hyp in enumerate(hypotheses):\n",
      "        # Extract elements from hypothesis\n",
      "        l1, l2, offset = hyp\n",
      "        \n",
      "        # If we currently have no letters in the alphabet, the hypothesis\n",
      "        # can trivially be accepted\n",
      "        if len(alphabet) == 0:\n",
      "            alphabet[l2] = 13 # Arbitrary initial guess\n",
      "            alphabet[l1] = alphabet[l2] + offset\n",
      "            accepted_idxs.append(idx)\n",
      "        elif l1 in alphabet and l2 in alphabet:\n",
      "            # If expected offset matches hypothesis, accept\n",
      "            if alphabet[l1] == alphabet[l2] + offset:\n",
      "                accepted_idxs.append(idx)\n",
      "        elif l1 in alphabet and l2 not in alphabet:\n",
      "            # Update l2 from l1\n",
      "            if alphabet[l1] - offset in alphabet.itervalues():\n",
      "                continue\n",
      "            alphabet[l2] = alphabet[l1] - offset\n",
      "            accepted_idxs.append(idx)\n",
      "        elif l1 not in alphabet and l2 in alphabet:\n",
      "            # Update l1 from l2\n",
      "            if alphabet[l2] + offset in alphabet.itervalues():\n",
      "                continue\n",
      "            alphabet[l1] = alphabet[l2] + offset\n",
      "            accepted_idxs.append(idx)\n",
      "    \n",
      "    return accepted_idxs"
     ],
     "language": "python",
     "metadata": {},
     "outputs": [],
     "prompt_number": 42
    },
    {
     "cell_type": "code",
     "collapsed": false,
     "input": [
      "def alphabet_to_str(alphabet):\n",
      "    \"\"\"\n",
      "    Convert an alphabet in dict notation to an alphabet in string notation.\n",
      "\n",
      "    Returns None if the alphabet cannot be represented as such.\n",
      "\n",
      "    \"\"\"\n",
      "    if len(alphabet) == 0:\n",
      "        return '.' * 26\n",
      "    \n",
      "    a_min = min(*alphabet.itervalues())\n",
      "    a_str = ['.'] * 26\n",
      "    for k, v in alphabet.iteritems():\n",
      "        a_str[(v-a_min) % 26] = k\n",
      "    return ''.join(a_str)"
     ],
     "language": "python",
     "metadata": {},
     "outputs": [],
     "prompt_number": 43
    },
    {
     "cell_type": "code",
     "collapsed": false,
     "input": [
      "def is_valid(scritch):\n",
      "    \"\"\"\n",
      "    Return True iff the specified scrith does not violate any of the Enigma\n",
      "    invariants.\n",
      "\n",
      "    \"\"\"\n",
      "    alphabet = 'ABCDEFGHIJKLMNOPQRSTUVWXYZ'\n",
      "    \n",
      "    # Convert a scritch into a mapping table\n",
      "    mappings = set((a, b) for a, b in zip(scritch, alphabet) if a != '.')\n",
      "    \n",
      "    for a, b in mappings:\n",
      "        # Check a != b\n",
      "        if a == b:\n",
      "            return False\n",
      "            \n",
      "        # Check if b maps to a\n",
      "        reciprocal = set(x for x in mappings if x[0] == b)\n",
      "        if len(reciprocal) > 1:\n",
      "            return False\n",
      "        elif len(reciprocal) == 1:\n",
      "            c, d = reciprocal.pop()\n",
      "            \n",
      "            # D should equal A\n",
      "            if d != a:\n",
      "                return False\n",
      "    \n",
      "    return True"
     ],
     "language": "python",
     "metadata": {},
     "outputs": [],
     "prompt_number": 44
    },
    {
     "cell_type": "code",
     "collapsed": false,
     "input": [
      "def fill_in_alphabet(s):\n",
      "    \"\"\"Given a valid alphabet string, fill in missing letters using Enigma invariants.\"\"\"\n",
      "    mappings = list((a,b) for a,b in zip(list(s), list('ABCDEFGHIJKLMNOPQRSTUVWXYZ')) if a != '.')\n",
      "    recip_mappings = list((b,a) for a,b in zip(list(s), list('ABCDEFGHIJKLMNOPQRSTUVWXYZ')) if a != '.')\n",
      "    map_set = set(mappings)\n",
      "    map_set.update(recip_mappings)\n",
      "    alphabet = ['.',] * 26\n",
      "    for a, b in map_set:\n",
      "        alphabet[ord(a) - ord('A')] = b\n",
      "    alphabet = ''.join(alphabet)\n",
      "    \n",
      "    if alphabet.count('.') == 2:\n",
      "        # Only two unknowns, can fill in knowing they can't map to each other\n",
      "        uk1 = alphabet.index('.')\n",
      "        uk2 = alphabet.index('.', uk1+1)\n",
      "        \n",
      "        alphabet = list(alphabet)\n",
      "        alphabet[uk1] = chr(uk2 + ord('A'))\n",
      "        alphabet[uk2] = chr(uk1 + ord('A'))\n",
      "        alphabet = ''.join(alphabet)\n",
      "    \n",
      "    return alphabet"
     ],
     "language": "python",
     "metadata": {},
     "outputs": [],
     "prompt_number": 45
    },
    {
     "cell_type": "markdown",
     "metadata": {},
     "source": [
      "This implements Banburismus and scritchmus in a slightly roundabout way. We repeatedly try adding increasingly many random sampled uncertain hypotheses to the certain ones until we end up with an alphabet which is consistent and scritches to just one offset."
     ]
    },
    {
     "cell_type": "code",
     "collapsed": false,
     "input": [
      "def crack(certain_hypotheses, uncertain_hypotheses):\n",
      "    full_alphabet = None\n",
      "    full_hypotheses = None\n",
      "    all_hypotheses = certain_hypotheses + uncertain_hypotheses\n",
      "    \n",
      "    while full_alphabet is None:\n",
      "        for n_uncertain in xrange(len(uncertain_hypotheses)):\n",
      "            alphabet = {}\n",
      "        \n",
      "            # Sample n_uncertain uncertain hypotheses\n",
      "            sample_idxs = np.random.choice(np.arange(len(uncertain_hypotheses)), n_uncertain, replace=False)\n",
      "            sampled_hyps = list(uncertain_hypotheses[i] for i in sample_idxs)\n",
      "            \n",
      "            joint_hyps = certain_hypotheses + sampled_hyps\n",
      "            \n",
      "            # Iterate over hypotheses until no further hypotheses are accepted\n",
      "            last_accepted, this_accepted = [None,], []\n",
      "            while len(last_accepted) != len(this_accepted):\n",
      "                last_accepted = this_accepted\n",
      "                this_accepted = add_hypotheses_to_alphabet((h for h, _ in joint_hyps), alphabet)\n",
      "    \n",
      "            # Form a set of the accepted hypotheses\n",
      "            used_hypotheses = set(joint_hyps[i] for i in this_accepted)\n",
      "                \n",
      "            # Convert to string\n",
      "            alphabet_str = alphabet_to_str(alphabet)\n",
      "            \n",
      "            # If invalid, repeat\n",
      "            if alphabet_str is None:\n",
      "                continue\n",
      "                \n",
      "            # Try scritching\n",
      "            scritch = np.array(list(alphabet_str + '.'*26)[:26])\n",
      "            valid_list = []\n",
      "            for offset, s in list((o, ''.join(np.roll(scritch, o))) for o in xrange(26) if is_valid(np.roll(scritch, o))):\n",
      "                valid_list.append(fill_in_alphabet(s))\n",
      "                \n",
      "            # If we have more than one valid scritch, repeat\n",
      "            if len(valid_list) != 1:\n",
      "                continue\n",
      "                \n",
      "            # print(valid_list)\n",
      "        \n",
      "            # If we still have unknown letters, repeat\n",
      "            if valid_list[0].count('.') != 0:\n",
      "                continue\n",
      "            \n",
      "            full_alphabet = valid_list[0]\n",
      "            full_hypotheses = used_hypotheses\n",
      "            \n",
      "    # Form set of hypotheses which were unused in the full alphabet\n",
      "    unused_hypotheses = set.difference(set(all_hypotheses), full_hypotheses)\n",
      "        \n",
      "    # Augment full_hypotheses with hypotheses from unused_hypotheses which agree\n",
      "    for h, s in list(unused_hypotheses):\n",
      "        l1, l2, o = h[:3]\n",
      "        \n",
      "        if o < 0:\n",
      "            l1, l2 = l2, l1\n",
      "            o = -o\n",
      "            \n",
      "        expected_l1ind = (full_alphabet.index(l2) + o) % 26\n",
      "        if full_alphabet[expected_l1ind] == l1:\n",
      "            unused_hypotheses.remove((h,s))\n",
      "            full_hypotheses.add((h,s))\n",
      "\n",
      "    return full_alphabet, full_hypotheses, unused_hypotheses\n",
      "        "
     ],
     "language": "python",
     "metadata": {},
     "outputs": [],
     "prompt_number": 46
    },
    {
     "cell_type": "code",
     "collapsed": false,
     "input": [
      "full_alphabet, full_hypotheses, unused_hypotheses = crack(certain_hypotheses, uncertain_hypotheses)\n",
      "\n",
      "print(full_alphabet)"
     ],
     "language": "python",
     "metadata": {},
     "outputs": [
      {
       "output_type": "stream",
       "stream": "stdout",
       "text": [
        "YDMBPIHGFOUNCLJEWZXVKTQSAR\n"
       ]
      }
     ],
     "prompt_number": 47
    },
    {
     "cell_type": "code",
     "collapsed": false,
     "input": [
      "def banner(hyp, alphabet):\n",
      "    \"\"\"\n",
      "    Return an ASCII art arrow which covers the range of they hypothesis \n",
      "    in the given alphabet.\n",
      "\n",
      "    \"\"\"\n",
      "    l1, l2, offset = hyp\n",
      "    \n",
      "    # Swap letters if -ve offset\n",
      "    if offset < 0:\n",
      "        l1, l2 = l2, l1\n",
      "        offset = -offset\n",
      "    \n",
      "    l1_ind = alphabet.index(l1)\n",
      "    l2_ind = alphabet.index(l2)\n",
      "    \n",
      "    banner_str = [' ',] * 26\n",
      "    \n",
      "    for raw_ind in xrange(l2_ind, l2_ind+offset+1):\n",
      "        ind = raw_ind % 26\n",
      "        if ind == l1_ind:\n",
      "            banner_str[ind] = '>'\n",
      "        elif ind == l2_ind:\n",
      "            banner_str[ind] = '<'\n",
      "        else:\n",
      "            banner_str[ind] = '-'\n",
      "\n",
      "    return ''.join(banner_str)"
     ],
     "language": "python",
     "metadata": {},
     "outputs": [],
     "prompt_number": 48
    },
    {
     "cell_type": "code",
     "collapsed": false,
     "input": [
      "# Sort used hypotheses by score\n",
      "hs = list(full_hypotheses)\n",
      "hs.sort(key=lambda x: x[1], reverse=True)\n",
      "\n",
      "print(full_alphabet + ' (at grundstellung+2)')\n",
      "print('ABCDEFGHIJKLMNOPQRSTUVWXYZ')\n",
      "for h, s in hs:\n",
      "    # Only print banner if this hypostesis is end-rotor only\n",
      "    b = banner(h, full_alphabet) if h[:2] in end_rotor_only_pairs else ' ' * 26\n",
      "    print('{4} : {0} = {1}{2:<+3} => {3:3} hdB = {5}'.format(*(h + (s, b, hdb_to_odds(s-34)))))"
     ],
     "language": "python",
     "metadata": {},
     "outputs": [
      {
       "output_type": "stream",
       "stream": "stdout",
       "text": [
        "YDMBPIHGFOUNCLJEWZXVKTQSAR (at grundstellung+2)\n",
        "ABCDEFGHIJKLMNOPQRSTUVWXYZ\n",
        "                           : T = Q+25 => 160 hdB = 1995262.3:1 on\n",
        "                           : G = Z-10 => 148 hdB = 501187.2:1 on\n",
        "     <-------->            : I = J-9  => 133 hdB = 89125.1:1 on\n",
        "                      <--> : Q = R-3  => 125 hdB = 35481.3:1 on\n",
        "     <----->               : I = N-6  => 116 hdB = 12589.3:1 on\n",
        "---->                    < : P = R+5  => 112 hdB = 7943.3:1 on\n",
        "                      <->  : A = Q+2  => 108 hdB = 5011.9:1 on\n",
        "                           : N = M+9  =>  86 hdB = 398.1:1 on\n",
        "                           : C = X-6  =>  84 hdB = 316.2:1 on\n",
        "                <->        : W = X-2  =>  83 hdB = 281.8:1 on\n",
        "           <--------->     : N = T-10 =>  79 hdB = 177.8:1 on\n",
        "              <-------->   : J = S-9  =>  77 hdB = 141.3:1 on\n",
        "                           : G = L+20 =>  74 hdB = 100.0:1 on\n",
        "          <----->          : U = W-6  =>  67 hdB = 44.7:1 on\n",
        "                           : M = V+9  =>  63 hdB = 28.2:1 on\n",
        "                           : P = I+25 =>  60 hdB = 20.0:1 on\n",
        "                           : A = Z-19 =>  59 hdB = 17.8:1 on\n",
        "->            <----------- : D = J+13 =>  52 hdB = 7.9:1 on\n",
        "                           : U = V-9  =>  49 hdB = 5.6:1 on\n",
        "->                      <- : A = D-3  =>  48 hdB = 5.0:1 on\n",
        "                     <---> : R = T+4  =>  46 hdB = 4.0:1 on\n",
        "                           : C = U+2  =>  44 hdB = 3.2:1 on\n",
        "                           : K = P+16 =>  43 hdB = 2.8:1 on\n",
        "                           : Q = J-18 =>  42 hdB = 2.5:1 on\n",
        "              <--------->  : A = J+10 =>  41 hdB = 2.2:1 on\n",
        "                           : E = L+2  =>  41 hdB = 2.2:1 on\n",
        "            <------>       : C = V-7  =>  40 hdB = 2.0:1 on\n",
        "                           : M = G+21 =>  40 hdB = 2.0:1 on\n",
        "                           : Q = C-18 =>  39 hdB = 1.8:1 on\n",
        "                           : T = S+24 =>  38 hdB = 1.6:1 on\n",
        "        <----------------> : F = R-17 =>  38 hdB = 1.6:1 on\n",
        "->              <--------- : D = W+11 =>  36 hdB = 1.3:1 on\n"
       ]
      }
     ],
     "prompt_number": 49
    },
    {
     "cell_type": "markdown",
     "metadata": {},
     "source": [
      "Print unused hypotheses for comparison"
     ]
    },
    {
     "cell_type": "code",
     "collapsed": false,
     "input": [
      "print('Rejected hypotheses:')\n",
      "for h, s in unused_hypotheses:\n",
      "    print('{0:10} => {1:<4} = {2}'.format(format_hypothesis(h), s, hdb_to_odds(s-34)))"
     ],
     "language": "python",
     "metadata": {},
     "outputs": [
      {
       "output_type": "stream",
       "stream": "stdout",
       "text": [
        "Rejected hypotheses:\n"
       ]
      }
     ],
     "prompt_number": 50
    },
    {
     "cell_type": "markdown",
     "metadata": {},
     "source": [
      "We now need to determine the turnover point. It's fairly obvious from the chart above but the turnover point can be at R, F, W, K, or A for rotors I through V or at N *and* A for the naval rotors."
     ]
    },
    {
     "cell_type": "markdown",
     "metadata": {},
     "source": [
      "The wheel is clearly wheel II with a turnover at F"
     ]
    },
    {
     "cell_type": "code",
     "collapsed": false,
     "input": [
      "end_rotor_alphabet = full_alphabet\n",
      "end_rotor = 'II'\n",
      "end_rotor_turnover_idx = ord('F') - ord('A')"
     ],
     "language": "python",
     "metadata": {},
     "outputs": [],
     "prompt_number": 51
    },
    {
     "cell_type": "heading",
     "level": 2,
     "metadata": {},
     "source": [
      "Mid-wheel alphabet"
     ]
    },
    {
     "cell_type": "markdown",
     "metadata": {},
     "source": [
      "Earlier on, we recorded in ``good_matches`` the mid-wheel matches which scored highly."
     ]
    },
    {
     "cell_type": "code",
     "collapsed": false,
     "input": [
      "def format_offset(offset):\n",
      "    if abs(offset) < 26:\n",
      "        return '{0:+}'.format(offset)\n",
      "    l, a = offset_to_letter_alphabet_pair(offset)\n",
      "    return '{0:+}.{1}'.format(a, abs(l))"
     ],
     "language": "python",
     "metadata": {},
     "outputs": [],
     "prompt_number": 52
    },
    {
     "cell_type": "markdown",
     "metadata": {},
     "source": [
      "We want to prune matches which are forbidden by our end-wheel alphabet above"
     ]
    },
    {
     "cell_type": "code",
     "collapsed": false,
     "input": [
      "def offset_to_turnovers(offset, start_idx, turnover_idx):\n",
      "    \"\"\"This is a very unsophisticated way of computing this but it is correct.\"\"\"\n",
      "    dist = 0\n",
      "    if offset > 0:\n",
      "        for o in xrange(offset):\n",
      "            if ((start_idx+1)%26) == turnover_idx:\n",
      "                # Will click on this move\n",
      "                dist += 1\n",
      "            start_idx = (start_idx + 1) % 26\n",
      "    else:\n",
      "        for o in xrange(-offset):\n",
      "            if start_idx == turnover_idx:\n",
      "                # Will click on this move\n",
      "                dist -= 1\n",
      "            start_idx = (start_idx - 1) % 26\n",
      "            \n",
      "    return dist"
     ],
     "language": "python",
     "metadata": {},
     "outputs": [],
     "prompt_number": 53
    },
    {
     "cell_type": "code",
     "collapsed": false,
     "input": [
      "consistent_matches = []\n",
      "\n",
      "for ind_pair, matches in good_matches.iteritems():\n",
      "    # Get mid-rotor letters\n",
      "    l1 = ind_pair[0][-2]\n",
      "    l2 = ind_pair[1][-2]\n",
      "    for summary, offset in matches:\n",
      "        l, a = offset_to_letter_alphabet_pair(offset)\n",
      "        start_point = ord(end_rotor_alphabet[ord(ind_pair[1][-1]) - ord('A')]) - ord('A')\n",
      "        turnovers = offset_to_turnovers(offset, start_point, end_rotor_turnover_idx)\n",
      "        \n",
      "        # Check if the number of letter offsets does the right thing w.r.t the end letter\n",
      "        if a > 0:\n",
      "            start_ind = end_rotor_alphabet.index(ind_pair[1][-1])\n",
      "            end_ind = (start_ind + l) % 26\n",
      "            if end_rotor_alphabet[end_ind] != ind_pair[0][-1]:\n",
      "                continue\n",
      "        else:\n",
      "            start_ind = end_rotor_alphabet.index(ind_pair[0][-1])\n",
      "            end_ind = (start_ind - l) % 26\n",
      "            if end_rotor_alphabet[end_ind] != ind_pair[1][-1]:\n",
      "                continue\n",
      "        \n",
      "        # Calculate hdB score. We boost by 28 (62-34) because the prior on these\n",
      "        # matches is now far greater being as they are consistent with the end\n",
      "        # rotor\n",
      "        score = int(np.round(\n",
      "            mid_rotor_score(summary, offset) + 28\n",
      "            # score_summary(summary, 0) + loss_for_left_wheel_distance(np.abs(offset)) \n",
      "        ))\n",
      "        if score < 34:\n",
      "            continue\n",
      "        \n",
      "        # If so, this is a consistent match, record it\n",
      "        consistent_matches.append((ind_pair, summary, offset, score, turnovers))\n",
      "\n",
      "# Sort by score\n",
      "consistent_matches.sort(key=lambda x: x[3], reverse=True)"
     ],
     "language": "python",
     "metadata": {},
     "outputs": [],
     "prompt_number": 54
    },
    {
     "cell_type": "code",
     "collapsed": false,
     "input": [
      "print('Matches consistent with end-wheel alphabet and high score:')\n",
      "\n",
      "certain_hypotheses = []\n",
      "uncertain_hypotheses = []\n",
      "\n",
      "for ind_pair, summary, offset, score, turnovers in consistent_matches:\n",
      "    l1 = ind_pair[0][-2]\n",
      "    l2 = ind_pair[1][-2]\n",
      "    hyp_string = '{0}={1}{2:+}'.format(l1, l2, turnovers)\n",
      "    print('{0[0]}={0[1]}{1:6} {2:18} {4:7} {3}'.format(ind_pair, format_offset(offset), format_summary(summary), score, hyp_string))\n",
      "    \n",
      "    hyp = ((l1, l2, turnovers), score)\n",
      "    if score > 74:\n",
      "        certain_hypotheses.append(hyp)\n",
      "    else:\n",
      "        uncertain_hypotheses.append(hyp)\n",
      "        \n",
      "certain_hypotheses.sort(key=lambda x: x[1], reverse=True)\n",
      "uncertain_hypotheses.sort(key=lambda x: x[1], reverse=True)"
     ],
     "language": "python",
     "metadata": {},
     "outputs": [
      {
       "output_type": "stream",
       "stream": "stdout",
       "text": [
        "Matches consistent with end-wheel alphabet and high score:\n",
        "BNT=BXQ+2.25  45^{XXXXX359}/350  N=X+3   188\n",
        "ZBN=ZPM+9     48^{8XXX}/433      B=P+1   114\n",
        "XFG=XNL+6.20  36^{XX346}/345     F=N+7   102\n",
        "LFD=LPT-1.20  25^{X7}/264        F=P-2   92\n",
        "ZBI=ZPM+3     44^{XXX345}/399    B=P+1   90\n",
        "DIP=DZI+2.25  34^{X3345}/278     I=Z+2   88\n",
        "IEA=IKZ-5.19  12^{7}/164         E=K-6   87\n",
        "VJJ=VZF-11.20 38^{45}/389        J=Z-12  73\n",
        "WHQ=WVT-1.25  38^{XX344}/388     H=V-2   72\n",
        "RAK=RFP+16    32^{X36}/351       A=F+1   71\n",
        "BQQ=BRM+20    43^{X6}/512        Q=R+1   70\n",
        "BKD=BRM-1.1   44^{XXX36}/410     K=R-1   70\n",
        "MKQ=MRJ-18    39^{XX6}/404       K=R-1   70\n",
        "OJF=OVA-1.16  24^{X6}/261        J=V-1   70\n",
        "SSX=SYL-21    31^{X6}/322        S=Y-1   70\n",
        "UJM=ULG+3.21  19^{X6}/215        J=L+3   68\n",
        "RDS=RKB-4.6   28^{X6}/311        D=K-4   67\n",
        "XGM=XJV+4.9   35^{XX36}/309      G=J+4   67\n",
        "XGM=XNL+6.15  31^{XXX44}/309     G=N+6   67\n",
        "WVT=WWS+4.24  37^{XXXX6}/307     V=W+5   66\n",
        "LDI=LQC-6.7   36^{XXXXX6}/292    D=Q-6   65\n",
        "WBK=WVT+6.25  13^{6}/193         B=V+7   64\n",
        "LLW=LSN-11.21 22^{X44}/224       L=S-12  57\n",
        "ODS=OVA+11.25 34^{XXXX6}/290     D=V+12  53\n",
        "ZDZ=ZZD+16    38^{XXX5}/376      D=Z+1   52\n",
        "EMS=EOR+24    25^{XX5}/300       M=O+1   51\n",
        "USX=UYQ-1.4   26^{X5}/328        S=Y-1   51\n",
        "NHJ=NJT-1.7   37^{5}/403         H=J-1   51\n",
        "LAY=LPT-21    38^{XXX5}/415      A=P-1   51\n",
        "ZAF=ZGP+1.4   25^{5}/284         A=G+2   51\n",
        "BQP=BRM+1.2   47^{XXXXX35}/419   Q=R+1   51\n",
        "EQE=ERG+1.8   28^{XXX5}/288      Q=R+1   51\n",
        "AWH=AXH+1.0   28^{35}/357        W=X+1   51\n",
        "NKB=NQT-1.18  25^{X5}/348        K=Q-2   51\n",
        "DJZ=DME-2.24  28^{XXX335}/275    J=M-3   50\n",
        "IKZ=IQB-2.12  47^{XXXX5}/417     K=Q-2   50\n",
        "XHL=XWT+2.18  37^{XXXX5}/358     H=W+3   50\n",
        "MPW=MYE-2.25  28^{XX35}/327      P=Y-3   50\n",
        "ERQ=EUD+2.21  26^{X5}/314        R=U+3   50\n",
        "NHD=NOL-2.12  24^{5}/311         H=O-3   50\n",
        "NMM=NVA+2.4   33^{XXX5}/336      M=V+2   50\n",
        "PET=PIX-2.23  31^{XX5}/321       E=I-3   50\n",
        "ODS=OKU-3.13  24^{5}/291         D=K-4   49\n",
        "ZED=ZPM+3.25  36^{XXX35}/357     E=P+4   49\n",
        "PPC=PYB-3.17  17^{XX5}/242       P=Y-3   49\n",
        "PQY=PTG+3.19  54^{XX35}/568      Q=T+3   49\n",
        "EUD=EZF+3.19  36^{XXX3335}/277   U=Z+3   49\n",
        "VUZ=VZF+3.9   30^{XXX35}/302     U=Z+3   49\n",
        "XJV=XWT+3.24  29^{XX5}/326       J=W+4   49\n",
        "RPH=RYE-3.9   25^{X5}/315        P=Y-3   49\n",
        "SAZ=SYT-4.4   27^{XXX5}/307      A=Y-4   48\n",
        "SIT=SYL+4.8   18^{5}/216         I=Y+4   48\n",
        "BQP=BUO+4.21  48^{XXXX35}/355    Q=U+4   48\n",
        "PAV=PYB-4.10  40^{35}/415        A=Y-4   48\n",
        "ZFW=ZJB+4.13  38^{XXXX5}/313     F=J+5   48\n",
        "ZBN=ZDZ-5.6   27^{XX35}/297      B=D-5   47\n",
        "DFP=DJZ+5.13  25^{X5}/208        F=J+5   47\n",
        "PCU=PIC+5.24  18^{5}/205         C=I+6   46\n",
        "KSD=KUB-6.2   24^{XX5}/307       S=U-6   46\n",
        "LDJ=LPT+5.19  32^{XX5}/321       D=P+6   46\n",
        "JGW=JYF-5.18  31^{XXXX5}/340     G=Y-6   46\n",
        "SLD=SMK-5.19  25^{X5}/244        L=M-6   46\n",
        "SEM=SFM+6.0   29^{XXXX5}/311     E=F+6   46\n",
        "BGA=BNT+6.3   38^{XXXXX5}/302    G=N+6   46\n",
        "BGQ=BNT+6.1   33^{XXXX5}/319     G=N+6   46\n",
        "OKC=OYU+7.2   33^{5}/422         K=Y+7   45\n",
        "QRK=QYB+7.17  27^{XXX5}/348      R=Y+8   44\n",
        "ZGP=ZWZ+8.13  11^{X5}/86         G=W+8   43\n",
        "QSM=QVT+8.7   37^{XXXX5}/390     S=V+8   43\n",
        "IOT=IYB-8.8   34^{XX35}/302      O=Y-8   43\n",
        "QOO=QYB-8.20  11^{5}/74          O=Y-8   42\n",
        "RFP=RWZ+9.13  20^{X5}/162        F=W+9   41\n",
        "XEZ=XJV+10.24 34^{X35}/375       E=J+11  38\n",
        "LQC=LRY+12    48^{XXXX34}/515    Q=R+1   36\n",
        "BCG=BQQ+11    20^{X4}/311        C=Q+1   36\n",
        "LPT=LQC+9     18^{4}/337         P=Q+0   36\n",
        "BCG=BQR+8     25^{4}/311         C=Q+1   36\n",
        "YIY=YTV-1.19  28^{XXX4}/295      I=T-2   35\n",
        "WOY=WVT+1.5   32^{34}/309        O=V+1   35\n",
        "BGQ=BRM+20    13^{4}/319         G=R+1   35\n",
        "TAY=TPA-24    25^{4}/306         A=P-1   35\n",
        "WHQ=WNM+20    47^{XXX4}/439      H=N+1   35\n",
        "PIC=PUY-1.14  35^{4}/319         I=U-1   35\n",
        "MQS=MRJ+1.9   37^{XXX34}/404     Q=R+1   35\n",
        "ZRP=ZZD+1.3   34^{XXX4}/451      R=Z+1   35\n",
        "XWT=XXB+18    31^{XX4}/406       W=X+1   35\n",
        "MBF=MPW+18    25^{X4}/335        B=P+1   35\n",
        "WWS=WXF+1.15  26^{XX4}/317       W=X+1   35\n",
        "QHN=QJQ-1.11  28^{XX4}/335       H=J-1   35\n",
        "ZFD=ZOP+2.23  36^{XXX4}/312      F=O+3   34\n",
        "LRY=LSN+2.15  17^{4}/307         R=S+2   34\n",
        "BKD=BUO+2.18  44^{XXX4}/410      K=U+2   34\n",
        "WDX=WHN-2.19  19^{4}/306         D=H-3   34\n",
        "EMJ=EVU+2.4   26^{XX4}/312       M=V+2   34\n",
        "TAY=TSO-2.9   22^{XXX4}/316      A=S-3   34\n",
        "ZFD=ZPM-2.1   27^{4}/341         F=P-2   34\n",
        "QHN=QVR-2.14  25^{X4}/306        H=V-2   34\n",
        "AKH=AQK-2.14  37^{X34}/368       K=Q-2   34\n",
        "LDJ=LSN-2.23  13^{4}/246         D=S-3   34\n",
        "IAV=IYB-2.10  22^{X4}/348        A=Y-2   34\n"
       ]
      }
     ],
     "prompt_number": 55
    },
    {
     "cell_type": "code",
     "collapsed": false,
     "input": [
      "print('Certain:')\n",
      "print('\\n'.join('{0:10} => {1:<4} = {2}'.format(format_hypothesis(h), s, hdb_to_odds(s-34)) for h, s in certain_hypotheses))\n",
      "\n",
      "print('Uncertain:')\n",
      "print('\\n'.join('{0:10} => {1:<4} = {2}'.format(format_hypothesis(h), s, hdb_to_odds(s-34)) for h, s in uncertain_hypotheses))"
     ],
     "language": "python",
     "metadata": {},
     "outputs": [
      {
       "output_type": "stream",
       "stream": "stdout",
       "text": [
        "Certain:\n",
        "N = X+3    => 188  = 50118723.4:1 on\n",
        "B = P+1    => 114  = 10000.0:1 on\n",
        "F = N+7    => 102  = 2511.9:1 on\n",
        "F = P-2    => 92   = 794.3:1 on\n",
        "B = P+1    => 90   = 631.0:1 on\n",
        "I = Z+2    => 88   = 501.2:1 on\n",
        "E = K-6    => 87   = 446.7:1 on\n",
        "Uncertain:\n",
        "J = Z-12   => 73   = 89.1:1 on\n",
        "H = V-2    => 72   = 79.4:1 on\n",
        "A = F+1    => 71   = 70.8:1 on\n",
        "Q = R+1    => 70   = 63.1:1 on\n",
        "K = R-1    => 70   = 63.1:1 on\n",
        "K = R-1    => 70   = 63.1:1 on\n",
        "J = V-1    => 70   = 63.1:1 on\n",
        "S = Y-1    => 70   = 63.1:1 on\n",
        "J = L+3    => 68   = 50.1:1 on\n",
        "D = K-4    => 67   = 44.7:1 on\n",
        "G = J+4    => 67   = 44.7:1 on\n",
        "G = N+6    => 67   = 44.7:1 on\n",
        "V = W+5    => 66   = 39.8:1 on\n",
        "D = Q-6    => 65   = 35.5:1 on\n",
        "B = V+7    => 64   = 31.6:1 on\n",
        "L = S-12   => 57   = 14.1:1 on\n",
        "D = V+12   => 53   = 8.9:1 on\n",
        "D = Z+1    => 52   = 7.9:1 on\n",
        "M = O+1    => 51   = 7.1:1 on\n",
        "S = Y-1    => 51   = 7.1:1 on\n",
        "H = J-1    => 51   = 7.1:1 on\n",
        "A = P-1    => 51   = 7.1:1 on\n",
        "A = G+2    => 51   = 7.1:1 on\n",
        "Q = R+1    => 51   = 7.1:1 on\n",
        "Q = R+1    => 51   = 7.1:1 on\n",
        "W = X+1    => 51   = 7.1:1 on\n",
        "K = Q-2    => 51   = 7.1:1 on\n",
        "J = M-3    => 50   = 6.3:1 on\n",
        "K = Q-2    => 50   = 6.3:1 on\n",
        "H = W+3    => 50   = 6.3:1 on\n",
        "P = Y-3    => 50   = 6.3:1 on\n",
        "R = U+3    => 50   = 6.3:1 on\n",
        "H = O-3    => 50   = 6.3:1 on\n",
        "M = V+2    => 50   = 6.3:1 on\n",
        "E = I-3    => 50   = 6.3:1 on\n",
        "D = K-4    => 49   = 5.6:1 on\n",
        "E = P+4    => 49   = 5.6:1 on\n",
        "P = Y-3    => 49   = 5.6:1 on\n",
        "Q = T+3    => 49   = 5.6:1 on\n",
        "U = Z+3    => 49   = 5.6:1 on\n",
        "U = Z+3    => 49   = 5.6:1 on\n",
        "J = W+4    => 49   = 5.6:1 on\n",
        "P = Y-3    => 49   = 5.6:1 on\n",
        "A = Y-4    => 48   = 5.0:1 on\n",
        "I = Y+4    => 48   = 5.0:1 on\n",
        "Q = U+4    => 48   = 5.0:1 on\n",
        "A = Y-4    => 48   = 5.0:1 on\n",
        "F = J+5    => 48   = 5.0:1 on\n",
        "B = D-5    => 47   = 4.5:1 on\n",
        "F = J+5    => 47   = 4.5:1 on\n",
        "C = I+6    => 46   = 4.0:1 on\n",
        "S = U-6    => 46   = 4.0:1 on\n",
        "D = P+6    => 46   = 4.0:1 on\n",
        "G = Y-6    => 46   = 4.0:1 on\n",
        "L = M-6    => 46   = 4.0:1 on\n",
        "E = F+6    => 46   = 4.0:1 on\n",
        "G = N+6    => 46   = 4.0:1 on\n",
        "G = N+6    => 46   = 4.0:1 on\n",
        "K = Y+7    => 45   = 3.5:1 on\n",
        "R = Y+8    => 44   = 3.2:1 on\n",
        "G = W+8    => 43   = 2.8:1 on\n",
        "S = V+8    => 43   = 2.8:1 on\n",
        "O = Y-8    => 43   = 2.8:1 on\n",
        "O = Y-8    => 42   = 2.5:1 on\n",
        "F = W+9    => 41   = 2.2:1 on\n",
        "E = J+11   => 38   = 1.6:1 on\n",
        "Q = R+1    => 36   = 1.3:1 on\n",
        "C = Q+1    => 36   = 1.3:1 on\n",
        "P = Q+0    => 36   = 1.3:1 on\n",
        "C = Q+1    => 36   = 1.3:1 on\n",
        "I = T-2    => 35   = 1.1:1 on\n",
        "O = V+1    => 35   = 1.1:1 on\n",
        "G = R+1    => 35   = 1.1:1 on\n",
        "A = P-1    => 35   = 1.1:1 on\n",
        "H = N+1    => 35   = 1.1:1 on\n",
        "I = U-1    => 35   = 1.1:1 on\n",
        "Q = R+1    => 35   = 1.1:1 on\n",
        "R = Z+1    => 35   = 1.1:1 on\n",
        "W = X+1    => 35   = 1.1:1 on\n",
        "B = P+1    => 35   = 1.1:1 on\n",
        "W = X+1    => 35   = 1.1:1 on\n",
        "H = J-1    => 35   = 1.1:1 on\n",
        "F = O+3    => 34   = 1.0:1 against\n",
        "R = S+2    => 34   = 1.0:1 against\n",
        "K = U+2    => 34   = 1.0:1 against\n",
        "D = H-3    => 34   = 1.0:1 against\n",
        "M = V+2    => 34   = 1.0:1 against\n",
        "A = S-3    => 34   = 1.0:1 against\n",
        "F = P-2    => 34   = 1.0:1 against\n",
        "H = V-2    => 34   = 1.0:1 against\n",
        "K = Q-2    => 34   = 1.0:1 against\n",
        "D = S-3    => 34   = 1.0:1 against\n",
        "A = Y-2    => 34   = 1.0:1 against\n"
       ]
      }
     ],
     "prompt_number": 56
    },
    {
     "cell_type": "code",
     "collapsed": false,
     "input": [
      "full_alphabet, full_hypotheses, unused_hypotheses = crack(certain_hypotheses, uncertain_hypotheses)\n",
      "print(full_alphabet)"
     ],
     "language": "python",
     "metadata": {},
     "outputs": [
      {
       "output_type": "stream",
       "stream": "stdout",
       "text": [
        "HJVOMGFAPBSYEZDIUTKRQCXWLN\n"
       ]
      }
     ],
     "prompt_number": 57
    },
    {
     "cell_type": "code",
     "collapsed": false,
     "input": [
      "# Sort used hypotheses by score\n",
      "hs = list(full_hypotheses)\n",
      "hs.sort(key=lambda x: x[1], reverse=True)\n",
      "\n",
      "print(full_alphabet + ' (at grundstellung+1)')\n",
      "print('ABCDEFGHIJKLMNOPQRSTUVWXYZ')\n",
      "for h, s in hs:\n",
      "    # Only print banner if this hypostesis is end-rotor only\n",
      "    b = banner(h, full_alphabet)\n",
      "    print('{4} : {0} = {1}{2:<+3} => {3:3} hdB = {5}'.format(*(h + (s, b, hdb_to_odds(s-34)))))"
     ],
     "language": "python",
     "metadata": {},
     "outputs": [
      {
       "output_type": "stream",
       "stream": "stdout",
       "text": [
        "HJVOMGFAPBSYEZDIUTKRQCXWLN (at grundstellung+1)\n",
        "ABCDEFGHIJKLMNOPQRSTUVWXYZ\n",
        "                      <--> : N = X+3  => 188 hdB = 50118723.4:1 on\n",
        "        <>                 : B = P+1  => 114 hdB = 10000.0:1 on\n",
        "------>                  < : F = N+7  => 102 hdB = 2511.9:1 on\n",
        "      <->                  : F = P-2  =>  92 hdB = 794.3:1 on\n",
        "        <>                 : B = P+1  =>  90 hdB = 631.0:1 on\n",
        "             <->           : I = Z+2  =>  88 hdB = 501.2:1 on\n",
        "            <----->        : E = K-6  =>  87 hdB = 446.7:1 on\n",
        " <----------->             : J = Z-12 =>  73 hdB = 89.1:1 on\n",
        "<->                        : H = V-2  =>  72 hdB = 79.4:1 on\n",
        "      <>                   : A = F+1  =>  71 hdB = 70.8:1 on\n",
        "                   <>      : Q = R+1  =>  70 hdB = 63.1:1 on\n",
        " <>                        : J = V-1  =>  70 hdB = 63.1:1 on\n",
        "          <>               : S = Y-1  =>  70 hdB = 63.1:1 on\n",
        "                  <>       : K = R-1  =>  70 hdB = 63.1:1 on\n",
        "->                      <- : J = L+3  =>  68 hdB = 50.1:1 on\n",
        "----->                   < : G = N+6  =>  67 hdB = 44.7:1 on\n",
        "              <--->        : D = K-4  =>  67 hdB = 44.7:1 on\n",
        " <--->                     : G = J+4  =>  67 hdB = 44.7:1 on\n",
        "-->                    <-- : V = W+5  =>  66 hdB = 39.8:1 on\n",
        "              <----->      : D = Q-6  =>  65 hdB = 35.5:1 on\n",
        "  <------>                 : B = V+7  =>  64 hdB = 31.6:1 on\n",
        "---------->             <- : L = S-12 =>  57 hdB = 14.1:1 on\n",
        "  <----------->            : D = V+12 =>  53 hdB = 8.9:1 on\n",
        "             <>            : D = Z+1  =>  52 hdB = 7.9:1 on\n",
        "       <>                  : A = P-1  =>  51 hdB = 7.1:1 on\n",
        "   <>                      : M = O+1  =>  51 hdB = 7.1:1 on\n",
        "                  <->      : K = Q-2  =>  51 hdB = 7.1:1 on\n",
        "          <>               : S = Y-1  =>  51 hdB = 7.1:1 on\n",
        "<>                         : H = J-1  =>  51 hdB = 7.1:1 on\n",
        "                      <>   : W = X+1  =>  51 hdB = 7.1:1 on\n",
        "                   <>      : Q = R+1  =>  51 hdB = 7.1:1 on\n",
        "     <->                   : A = G+2  =>  51 hdB = 7.1:1 on\n",
        ">                      <-- : H = W+3  =>  50 hdB = 6.3:1 on\n",
        " <-->                      : J = M-3  =>  50 hdB = 6.3:1 on\n",
        "                <-->       : R = U+3  =>  50 hdB = 6.3:1 on\n",
        "                  <->      : K = Q-2  =>  50 hdB = 6.3:1 on\n",
        "        <-->               : P = Y-3  =>  50 hdB = 6.3:1 on\n",
        "<-->                       : H = O-3  =>  50 hdB = 6.3:1 on\n",
        "            <-->           : E = I-3  =>  50 hdB = 6.3:1 on\n",
        "  <->                      : M = V+2  =>  50 hdB = 6.3:1 on\n",
        "              <--->        : D = K-4  =>  49 hdB = 5.6:1 on\n",
        "                 <-->      : Q = T+3  =>  49 hdB = 5.6:1 on\n",
        "             <-->          : U = Z+3  =>  49 hdB = 5.6:1 on\n",
        "->                     <-- : J = W+4  =>  49 hdB = 5.6:1 on\n",
        "        <-->               : P = Y-3  =>  49 hdB = 5.6:1 on\n",
        "        <--->              : E = P+4  =>  49 hdB = 5.6:1 on\n",
        " <---->                    : F = J+5  =>  48 hdB = 5.0:1 on\n",
        "           <--->           : I = Y+4  =>  48 hdB = 5.0:1 on\n",
        "                <--->      : Q = U+4  =>  48 hdB = 5.0:1 on\n",
        "       <--->               : A = Y-4  =>  48 hdB = 5.0:1 on\n",
        "         <---->            : B = D-5  =>  47 hdB = 4.5:1 on\n",
        " <---->                    : F = J+5  =>  47 hdB = 4.5:1 on\n",
        "---->                   <- : L = M-6  =>  46 hdB = 4.0:1 on\n",
        "      <----->              : E = F+6  =>  46 hdB = 4.0:1 on\n",
        "          <----->          : S = U-6  =>  46 hdB = 4.0:1 on\n",
        "        <----->            : D = P+6  =>  46 hdB = 4.0:1 on\n",
        "     <----->               : G = Y-6  =>  46 hdB = 4.0:1 on\n",
        "               <----->     : C = I+6  =>  46 hdB = 4.0:1 on\n",
        "----->                   < : G = N+6  =>  46 hdB = 4.0:1 on\n",
        "           <------>        : K = Y+7  =>  45 hdB = 3.5:1 on\n",
        "           <------->       : R = Y+8  =>  44 hdB = 3.2:1 on\n",
        "----->                 <-- : G = W+8  =>  43 hdB = 2.8:1 on\n",
        "  <------->                : S = V+8  =>  43 hdB = 2.8:1 on\n",
        "   <------->               : O = Y-8  =>  43 hdB = 2.8:1 on\n",
        "   <------->               : O = Y-8  =>  42 hdB = 2.5:1 on\n",
        "------>                <-- : F = W+9  =>  41 hdB = 2.2:1 on\n",
        " <---------->              : E = J+11 =>  38 hdB = 1.6:1 on\n",
        "                    <>     : C = Q+1  =>  36 hdB = 1.3:1 on\n",
        "                   <>      : Q = R+1  =>  36 hdB = 1.3:1 on\n",
        "<>                         : H = J-1  =>  35 hdB = 1.1:1 on\n",
        "                   <>      : Q = R+1  =>  35 hdB = 1.1:1 on\n",
        "               <>          : I = U-1  =>  35 hdB = 1.1:1 on\n",
        ">                        < : H = N+1  =>  35 hdB = 1.1:1 on\n",
        "                      <>   : W = X+1  =>  35 hdB = 1.1:1 on\n",
        "  <>                       : O = V+1  =>  35 hdB = 1.1:1 on\n",
        "       <>                  : A = P-1  =>  35 hdB = 1.1:1 on\n",
        "        <>                 : B = P+1  =>  35 hdB = 1.1:1 on\n",
        "               <->         : I = T-2  =>  35 hdB = 1.1:1 on\n",
        "<->                        : H = V-2  =>  34 hdB = 1.0:1 against\n",
        "       <-->                : A = S-3  =>  34 hdB = 1.0:1 against\n",
        "                  <->      : K = Q-2  =>  34 hdB = 1.0:1 against\n",
        "  <->                      : M = V+2  =>  34 hdB = 1.0:1 against\n",
        "   <-->                    : F = O+3  =>  34 hdB = 1.0:1 against\n",
        "                <->        : K = U+2  =>  34 hdB = 1.0:1 against\n",
        "      <->                  : F = P-2  =>  34 hdB = 1.0:1 against\n"
       ]
      }
     ],
     "prompt_number": 58
    },
    {
     "cell_type": "code",
     "collapsed": false,
     "input": [
      "print('Rejected hypotheses:')\n",
      "for h, s in unused_hypotheses:\n",
      "    print('{0:10} => {1:<4} = {2}'.format(format_hypothesis(h), s, hdb_to_odds(s-34)))"
     ],
     "language": "python",
     "metadata": {},
     "outputs": [
      {
       "output_type": "stream",
       "stream": "stdout",
       "text": [
        "Rejected hypotheses:\n",
        "G = R+1    => 35   = 1.1:1 on\n",
        "R = S+2    => 34   = 1.0:1 against\n",
        "D = S-3    => 34   = 1.0:1 against\n",
        "D = H-3    => 34   = 1.0:1 against\n",
        "A = Y-2    => 34   = 1.0:1 against\n",
        "R = Z+1    => 35   = 1.1:1 on\n",
        "P = Q+0    => 36   = 1.3:1 on\n"
       ]
      }
     ],
     "prompt_number": 59
    },
    {
     "cell_type": "markdown",
     "metadata": {},
     "source": [
      "Again, via RFWKA, we can see that the turnover point on the rotor must be at W and so we have rotor III."
     ]
    },
    {
     "cell_type": "code",
     "collapsed": false,
     "input": [
      "mid_rotor = 'III'\n",
      "mid_rotor_alphabet = full_alphabet"
     ],
     "language": "python",
     "metadata": {},
     "outputs": [],
     "prompt_number": 60
    },
    {
     "cell_type": "code",
     "collapsed": false,
     "input": [
      "print(mid_rotor_alphabet + ' (grundstellung + 1), rotor ' + mid_rotor)\n",
      "print(end_rotor_alphabet + ' (grundstellung + 2), rotor ' + end_rotor)\n",
      "print('ABCDEFGHIJKLMNOPQRSTUVWXYZ')"
     ],
     "language": "python",
     "metadata": {},
     "outputs": [
      {
       "output_type": "stream",
       "stream": "stdout",
       "text": [
        "HJVOMGFAPBSYEZDIUTKRQCXWLN (grundstellung + 1), rotor III\n",
        "YDMBPIHGFOUNCLJEWZXVKTQSAR (grundstellung + 2), rotor II\n",
        "ABCDEFGHIJKLMNOPQRSTUVWXYZ\n"
       ]
      }
     ],
     "prompt_number": 61
    },
    {
     "cell_type": "heading",
     "level": 2,
     "metadata": {},
     "source": [
      "Sending it up the bombe"
     ]
    },
    {
     "cell_type": "markdown",
     "metadata": {},
     "source": [
      "We have now almost got the full setting of the machine. We certainly have enough to form a menu for the bombe. The modern equivalent is to try brute-forcing given what we know."
     ]
    },
    {
     "cell_type": "heading",
     "level": 3,
     "metadata": {},
     "source": [
      "Checking a plugboard for consistency"
     ]
    },
    {
     "cell_type": "markdown",
     "metadata": {},
     "source": [
      "Suppose we have a number of 'post' and 'pre' plugboard alphabets we wish to use to estimate the plugboard settings. We can check for consistency using a software version of the Bombe.\n",
      "\n",
      "The Bombe searched all rotor positions finding any consistent plugboard settings which would match known plaintext. Since we know what alphabets should be generated at positions *grundstellung* + 1 and *grundstellung* + 2, this massively constrains the allowed rotor/plugboard settings. Ideally we should only get one match: the correct one.\n",
      "\n",
      "Online, one will find [a full description of how the wartime Bombe worked](http://www.ellsbury.com/bombe4.htm) but our Python version will be far simpler. We simply iterate over each rotor position and attempt to build a self-consistent plugboard setting. If we fail to build a plugboard we iterate to the next position.\n",
      "\n",
      "By the end of this process, we *should* have the *grundstellung* rotor position and plugboard settings. Note, however, that the ring settings are also required to set up the machine. The ring setting simply specifies the offset between rotor position and letter displayed in the operator's viewing window for each rotor."
     ]
    },
    {
     "cell_type": "markdown",
     "metadata": {},
     "source": [
      "Firstly, a few utility functions."
     ]
    },
    {
     "cell_type": "code",
     "collapsed": false,
     "input": [
      "def alphabet_to_mapping(alphabet):\n",
      "    \"\"\"Given an alphabet, turn it into a set of pair-wise mappings.\"\"\"\n",
      "    return set(tuple(sorted(x)) for x in zip(alphabet, (chr(x + ord('A')) for x in xrange(26))))"
     ],
     "language": "python",
     "metadata": {},
     "outputs": [],
     "prompt_number": 62
    },
    {
     "cell_type": "code",
     "collapsed": false,
     "input": [
      "def map_letter(letter, mapping):\n",
      "    \"\"\"Apply the tuple-ised mapping to the given letter.\"\"\"\n",
      "    for l1, l2 in mapping:\n",
      "        if l1 == letter:\n",
      "            return l2\n",
      "        elif l2 == letter:\n",
      "            return l1\n",
      "    \n",
      "    # No mappings for letter, pass through\n",
      "    return letter"
     ],
     "language": "python",
     "metadata": {},
     "outputs": [],
     "prompt_number": 63
    },
    {
     "cell_type": "markdown",
     "metadata": {},
     "source": [
      "The following function does much of the work of one Bombe step by taking the observed +1 and +2 alphabets and attempting to deduce a plugboard setting which maps one to the other."
     ]
    },
    {
     "cell_type": "code",
     "collapsed": false,
     "input": [
      "def deduce_plugboard(observed_alphabets, naked_alphabets):\n",
      "    obs_mappings = []\n",
      "    naked_mappings = []\n",
      "    for obs, naked in zip(observed_alphabets, naked_alphabets):\n",
      "        obs_mappings.append(alphabet_to_mapping(obs))\n",
      "        naked_mappings.append(alphabet_to_mapping(naked))\n",
      "            \n",
      "    # Form a set of all possible letter pairs\n",
      "    letter_pairs = set()\n",
      "    for a, b in itertools.product(xrange(26), repeat=2):\n",
      "        if a >= b:\n",
      "            continue\n",
      "        letter_pairs.add((chr(a + ord('A')), chr(b + ord('A'))))\n",
      "    \n",
      "    inconsistent = True\n",
      "    while inconsistent and len(letter_pairs) > 0:\n",
      "        hypothesis = letter_pairs.pop()\n",
      "        current_plugboard = set((hypothesis,))\n",
      "        letters_to_try = set(hypothesis)\n",
      "        tried_letters = set()\n",
      "    \n",
      "        inconsistent = False\n",
      "        while not inconsistent and len(letters_to_try) > 0:\n",
      "            starting_letter = letters_to_try.pop()\n",
      "            tried_letters.add(starting_letter)\n",
      "            \n",
      "            for obs_map, naked_map in zip(obs_mappings, naked_mappings):\n",
      "                # Map the starting letter through the plugboard\n",
      "                naked_input = map_letter(starting_letter, current_plugboard)\n",
      "                \n",
      "                # Map the input through the naked mapping\n",
      "                naked_output = map_letter(naked_input, naked_map)\n",
      "                \n",
      "                # What do we expect?\n",
      "                expected_output = map_letter(starting_letter, obs_map)\n",
      "                \n",
      "                # Plugboard must map naked output to expected\n",
      "                if naked_output != expected_output:\n",
      "                    current_plugboard.add(tuple(sorted([naked_output, expected_output])))\n",
      "                \n",
      "                if expected_output not in tried_letters:\n",
      "                    letters_to_try.add(expected_output)\n",
      "            \n",
      "            # Check for consistency\n",
      "            hits = np.zeros(26)\n",
      "            for a, b in current_plugboard:\n",
      "                if a == b:\n",
      "                    continue\n",
      "                hits[ord(a) - ord('A')] += 1\n",
      "                hits[ord(b) - ord('A')] += 1\n",
      "                \n",
      "            if np.sum(hits > 1) > 0:\n",
      "                inconsistent = True\n",
      "        \n",
      "        if not inconsistent:\n",
      "            # Check that untried letters work too\n",
      "            untried = set('ABCDEFGHIJKLMNOPQRSTUVWXYZ').difference(tried_letters)\n",
      "            for naked, obs in zip(naked_mappings, obs_mappings):\n",
      "                for l in untried:\n",
      "                    l_naked = map_letter(map_letter(map_letter(l, current_plugboard), naked), current_plugboard)\n",
      "                    l_obs = map_letter(l, obs)\n",
      "                    if l_naked != l_obs:\n",
      "                        inconsistent = True\n",
      "        \n",
      "        letter_pairs.difference_update(current_plugboard)\n",
      "\n",
      "    if inconsistent:\n",
      "        return False, None\n",
      "    \n",
      "    return True, current_plugboard"
     ],
     "language": "python",
     "metadata": {},
     "outputs": [],
     "prompt_number": 64
    },
    {
     "cell_type": "markdown",
     "metadata": {},
     "source": [
      "We can test the function with a known 'correct' set of observed and \"naked\" alphabets:"
     ]
    },
    {
     "cell_type": "code",
     "collapsed": false,
     "input": [
      "observed_subs = ('HJVOMGFAPBSYEZDIUTKRQCXWLN', 'YDMBPIHGFOUNCLJEWZXVKTQSAR')\n",
      "naked_subs = ('UVHKYQJCZGDOSXLWFTMRABPNEI', 'YNMQZKHGJIFXCBVTDUWPROSLAE')\n",
      "deduce_plugboard(observed_subs, naked_subs)"
     ],
     "language": "python",
     "metadata": {},
     "outputs": [
      {
       "metadata": {},
       "output_type": "pyout",
       "prompt_number": 65,
       "text": [
        "(True,\n",
        " {('A', 'C'),\n",
        "  ('B', 'Q'),\n",
        "  ('F', 'J'),\n",
        "  ('K', 'O'),\n",
        "  ('L', 'S'),\n",
        "  ('M', 'Y'),\n",
        "  ('N', 'W'),\n",
        "  ('P', 'Z'),\n",
        "  ('R', 'T'),\n",
        "  ('U', 'V')})"
       ]
      }
     ],
     "prompt_number": 65
    },
    {
     "cell_type": "markdown",
     "metadata": {},
     "source": [
      "Now let's form a set of possible left-rotors. We know the mid- and right-rotors and so there are six remaining options."
     ]
    },
    {
     "cell_type": "code",
     "collapsed": false,
     "input": [
      "# Form a set of possible left rotors\n",
      "left_rotors = set(('I', 'II', 'III', 'IV', 'V', 'VI', 'VII', 'VIII'))\n",
      "left_rotors -= set((mid_rotor, end_rotor))\n",
      "\n",
      "# Form a set of possible letters\n",
      "letters = set(chr(x + ord('A')) for x in xrange(26))"
     ],
     "language": "python",
     "metadata": {},
     "outputs": [],
     "prompt_number": 66
    },
    {
     "cell_type": "markdown",
     "metadata": {},
     "source": [
      "We can use our Enigma machine emulator for the Bombe. The wartime Bombe also employed banks of Enigma simulators."
     ]
    },
    {
     "cell_type": "code",
     "collapsed": false,
     "input": [
      "def mid_and_end_alphabets(machine, display):\n",
      "    \"\"\"\n",
      "    Starting from the given enigma machine and display, what are the\n",
      "    mid and end rotor alphabets.\n",
      "    \"\"\"\n",
      "    \n",
      "    mid, end = [], []\n",
      "    for letter in (chr(x + ord('A')) for x in xrange(26)):\n",
      "        machine.set_display(display)\n",
      "        machine.process_text('X') # doesn't matter\n",
      "        mid.append(machine.process_text(letter))\n",
      "        end.append(machine.process_text(letter))\n",
      "        \n",
      "    return ''.join(mid), ''.join(end)"
     ],
     "language": "python",
     "metadata": {},
     "outputs": [],
     "prompt_number": 67
    },
    {
     "cell_type": "code",
     "collapsed": false,
     "input": [
      "from enigma.machine import EnigmaMachine"
     ],
     "language": "python",
     "metadata": {},
     "outputs": [],
     "prompt_number": 69
    },
    {
     "cell_type": "code",
     "collapsed": false,
     "input": [
      "def check_machine(machine, display, mid_rotor_alphabet, end_rotor_alphabet):\n",
      "    \"\"\"\n",
      "    Attempt to deduce plugboard settings from machine given it's display+1 and display+2\n",
      "    stage alphabets should be *mid_rotor_alphabet* and *end_rotor_alphabet*.\n",
      "\n",
      "    Return (True, plugboard_settings) if a hit. Return (False, None) if not.\n",
      "    \"\"\"\n",
      "    \n",
      "    # Calculate the mid and end alphabets with no plugboard settings\n",
      "    got_mid, got_end = mid_and_end_alphabets(machine,  display)\n",
      "    \n",
      "    return deduce_plugboard((mid_rotor_alphabet, end_rotor_alphabet), (got_mid, got_end))"
     ],
     "language": "python",
     "metadata": {},
     "outputs": [],
     "prompt_number": 70
    },
    {
     "cell_type": "code",
     "collapsed": false,
     "input": [
      "mid_rotor_alphabet, end_rotor_alphabet"
     ],
     "language": "python",
     "metadata": {},
     "outputs": [
      {
       "metadata": {},
       "output_type": "pyout",
       "prompt_number": 71,
       "text": [
        "('HJVOMGFAPBSYEZDIUTKRQCXWLN', 'YDMBPIHGFOUNCLJEWZXVKTQSAR')"
       ]
      }
     ],
     "prompt_number": 71
    },
    {
     "cell_type": "markdown",
     "metadata": {},
     "source": [
      "Let's check all our functions by 'cheating' a little and making sure that it thinks the correct solution is indeed correct."
     ]
    },
    {
     "cell_type": "code",
     "collapsed": false,
     "input": [
      "machine = EnigmaMachine.from_key_sheet(\n",
      "        rotors= 'VI III II',\n",
      "        reflector='B-Thin',\n",
      "        ring_settings='R J W', # Arbitrary\n",
      "        plugboard_settings='')"
     ],
     "language": "python",
     "metadata": {},
     "outputs": [],
     "prompt_number": 72
    },
    {
     "cell_type": "code",
     "collapsed": false,
     "input": [
      "check_machine(machine, 'WJF', mid_rotor_alphabet, end_rotor_alphabet)"
     ],
     "language": "python",
     "metadata": {},
     "outputs": [
      {
       "metadata": {},
       "output_type": "pyout",
       "prompt_number": 73,
       "text": [
        "(True,\n",
        " {('A', 'C'),\n",
        "  ('B', 'Q'),\n",
        "  ('F', 'J'),\n",
        "  ('K', 'O'),\n",
        "  ('L', 'S'),\n",
        "  ('M', 'Y'),\n",
        "  ('N', 'W'),\n",
        "  ('P', 'Z'),\n",
        "  ('R', 'T'),\n",
        "  ('U', 'V')})"
       ]
      }
     ],
     "prompt_number": 73
    },
    {
     "cell_type": "markdown",
     "metadata": {},
     "source": [
      "We can now set our Bombe running on each rotor. Despite the inefficient and serial operation of this Bombe work-alike, it is still about five times faster than a wartime Bombe in that it can explore one possible rotor configuration every 3 minutes. A wartime Bombe took 15."
     ]
    },
    {
     "cell_type": "code",
     "collapsed": false,
     "input": [
      "for left_rotor in left_rotors:\n",
      "    print('Trying left rotor: ' + left_rotor)\n",
      "    \n",
      "    machine = EnigmaMachine.from_key_sheet(\n",
      "        rotors= left_rotor + ' III II',\n",
      "        reflector='B-Thin',\n",
      "        ring_settings='A A A', # Arbitrary\n",
      "        plugboard_settings='' # Filled in by Bombe\n",
      "    )\n",
      "    \n",
      "    tick = 0\n",
      "    for display in itertools.product(letters, repeat=3):\n",
      "        if tick % (26*26) == 0:\n",
      "            print(''.join(display))\n",
      "        tick += 1\n",
      "        \n",
      "        hit, plugboard = check_machine(machine, ''.join(display), mid_rotor_alphabet, end_rotor_alphabet)\n",
      "        if hit:\n",
      "            print('HIT', left_rotor, display, plugboard)"
     ],
     "language": "python",
     "metadata": {},
     "outputs": [
      {
       "output_type": "stream",
       "stream": "stdout",
       "text": [
        "Trying left rotor: I\n",
        "AAA\n",
        "CAA"
       ]
      },
      {
       "output_type": "stream",
       "stream": "stdout",
       "text": [
        "\n",
        "BAA"
       ]
      },
      {
       "output_type": "stream",
       "stream": "stdout",
       "text": [
        "\n",
        "EAA"
       ]
      },
      {
       "output_type": "stream",
       "stream": "stdout",
       "text": [
        "\n",
        "DAA"
       ]
      },
      {
       "output_type": "stream",
       "stream": "stdout",
       "text": [
        "\n",
        "GAA"
       ]
      },
      {
       "output_type": "stream",
       "stream": "stdout",
       "text": [
        "\n",
        "FAA"
       ]
      },
      {
       "output_type": "stream",
       "stream": "stdout",
       "text": [
        "\n",
        "IAA"
       ]
      },
      {
       "output_type": "stream",
       "stream": "stdout",
       "text": [
        "\n",
        "HAA"
       ]
      },
      {
       "output_type": "stream",
       "stream": "stdout",
       "text": [
        "\n",
        "KAA"
       ]
      },
      {
       "output_type": "stream",
       "stream": "stdout",
       "text": [
        "\n",
        "JAA"
       ]
      },
      {
       "output_type": "stream",
       "stream": "stdout",
       "text": [
        "\n",
        "MAA"
       ]
      },
      {
       "output_type": "stream",
       "stream": "stdout",
       "text": [
        "\n",
        "LAA"
       ]
      },
      {
       "output_type": "stream",
       "stream": "stdout",
       "text": [
        "\n",
        "OAA"
       ]
      },
      {
       "output_type": "stream",
       "stream": "stdout",
       "text": [
        "\n",
        "NAA"
       ]
      },
      {
       "output_type": "stream",
       "stream": "stdout",
       "text": [
        "\n",
        "QAA"
       ]
      },
      {
       "output_type": "stream",
       "stream": "stdout",
       "text": [
        "\n",
        "PAA"
       ]
      },
      {
       "output_type": "stream",
       "stream": "stdout",
       "text": [
        "\n",
        "SAA"
       ]
      },
      {
       "output_type": "stream",
       "stream": "stdout",
       "text": [
        "\n",
        "RAA"
       ]
      },
      {
       "output_type": "stream",
       "stream": "stdout",
       "text": [
        "\n",
        "UAA"
       ]
      },
      {
       "output_type": "stream",
       "stream": "stdout",
       "text": [
        "\n",
        "TAA"
       ]
      },
      {
       "output_type": "stream",
       "stream": "stdout",
       "text": [
        "\n",
        "WAA"
       ]
      },
      {
       "output_type": "stream",
       "stream": "stdout",
       "text": [
        "\n",
        "VAA"
       ]
      },
      {
       "output_type": "stream",
       "stream": "stdout",
       "text": [
        "\n",
        "YAA"
       ]
      },
      {
       "output_type": "stream",
       "stream": "stdout",
       "text": [
        "\n",
        "XAA"
       ]
      },
      {
       "output_type": "stream",
       "stream": "stdout",
       "text": [
        "\n",
        "ZAA"
       ]
      },
      {
       "output_type": "stream",
       "stream": "stdout",
       "text": [
        "\n",
        "Trying left rotor: VI"
       ]
      },
      {
       "output_type": "stream",
       "stream": "stdout",
       "text": [
        "\n",
        "AAA\n",
        "CAA"
       ]
      },
      {
       "output_type": "stream",
       "stream": "stdout",
       "text": [
        "\n",
        "BAA"
       ]
      },
      {
       "output_type": "stream",
       "stream": "stdout",
       "text": [
        "\n",
        "EAA"
       ]
      },
      {
       "output_type": "stream",
       "stream": "stdout",
       "text": [
        "\n",
        "DAA"
       ]
      },
      {
       "output_type": "stream",
       "stream": "stdout",
       "text": [
        "\n",
        "GAA"
       ]
      },
      {
       "output_type": "stream",
       "stream": "stdout",
       "text": [
        "\n",
        "FAA"
       ]
      },
      {
       "output_type": "stream",
       "stream": "stdout",
       "text": [
        "\n",
        "HIT"
       ]
      },
      {
       "output_type": "stream",
       "stream": "stdout",
       "text": [
        " VI ('F', 'A', 'J') set([('N', 'W'), ('U', 'V'), ('M', 'Y'), ('K', 'O'), ('L', 'S'), ('B', 'Q'), ('F', 'J'), ('P', 'Z'), ('A', 'C'), ('R', 'T')])\n",
        "IAA"
       ]
      },
      {
       "output_type": "stream",
       "stream": "stdout",
       "text": [
        "\n",
        "HAA"
       ]
      },
      {
       "output_type": "stream",
       "stream": "stdout",
       "text": [
        "\n",
        "KAA"
       ]
      },
      {
       "output_type": "stream",
       "stream": "stdout",
       "text": [
        "\n",
        "JAA"
       ]
      },
      {
       "output_type": "stream",
       "stream": "stdout",
       "text": [
        "\n",
        "MAA"
       ]
      },
      {
       "output_type": "stream",
       "stream": "stdout",
       "text": [
        "\n",
        "LAA"
       ]
      },
      {
       "output_type": "stream",
       "stream": "stdout",
       "text": [
        "\n",
        "OAA"
       ]
      },
      {
       "output_type": "stream",
       "stream": "stdout",
       "text": [
        "\n",
        "NAA"
       ]
      },
      {
       "output_type": "stream",
       "stream": "stdout",
       "text": [
        "\n",
        "QAA"
       ]
      },
      {
       "output_type": "stream",
       "stream": "stdout",
       "text": [
        "\n",
        "PAA"
       ]
      },
      {
       "output_type": "stream",
       "stream": "stdout",
       "text": [
        "\n",
        "SAA"
       ]
      },
      {
       "output_type": "stream",
       "stream": "stdout",
       "text": [
        "\n",
        "RAA"
       ]
      },
      {
       "output_type": "stream",
       "stream": "stdout",
       "text": [
        "\n",
        "UAA"
       ]
      },
      {
       "output_type": "stream",
       "stream": "stdout",
       "text": [
        "\n",
        "TAA"
       ]
      },
      {
       "output_type": "stream",
       "stream": "stdout",
       "text": [
        "\n",
        "WAA"
       ]
      },
      {
       "output_type": "stream",
       "stream": "stdout",
       "text": [
        "\n",
        "VAA"
       ]
      },
      {
       "output_type": "stream",
       "stream": "stdout",
       "text": [
        "\n",
        "YAA"
       ]
      },
      {
       "output_type": "stream",
       "stream": "stdout",
       "text": [
        "\n",
        "XAA"
       ]
      },
      {
       "output_type": "stream",
       "stream": "stdout",
       "text": [
        "\n",
        "ZAA"
       ]
      },
      {
       "output_type": "stream",
       "stream": "stdout",
       "text": [
        "\n",
        "Trying left rotor: VII"
       ]
      },
      {
       "output_type": "stream",
       "stream": "stdout",
       "text": [
        "\n",
        "AAA\n",
        "CAA"
       ]
      },
      {
       "output_type": "stream",
       "stream": "stdout",
       "text": [
        "\n",
        "BAA"
       ]
      },
      {
       "output_type": "stream",
       "stream": "stdout",
       "text": [
        "\n",
        "EAA"
       ]
      },
      {
       "output_type": "stream",
       "stream": "stdout",
       "text": [
        "\n",
        "DAA"
       ]
      },
      {
       "output_type": "stream",
       "stream": "stdout",
       "text": [
        "\n",
        "GAA"
       ]
      },
      {
       "output_type": "stream",
       "stream": "stdout",
       "text": [
        "\n",
        "FAA"
       ]
      },
      {
       "output_type": "stream",
       "stream": "stdout",
       "text": [
        "\n",
        "IAA"
       ]
      },
      {
       "output_type": "stream",
       "stream": "stdout",
       "text": [
        "\n",
        "HAA"
       ]
      },
      {
       "output_type": "stream",
       "stream": "stdout",
       "text": [
        "\n",
        "KAA"
       ]
      },
      {
       "output_type": "stream",
       "stream": "stdout",
       "text": [
        "\n",
        "JAA"
       ]
      },
      {
       "output_type": "stream",
       "stream": "stdout",
       "text": [
        "\n",
        "MAA"
       ]
      },
      {
       "output_type": "stream",
       "stream": "stdout",
       "text": [
        "\n",
        "LAA"
       ]
      },
      {
       "output_type": "stream",
       "stream": "stdout",
       "text": [
        "\n",
        "OAA"
       ]
      },
      {
       "output_type": "stream",
       "stream": "stdout",
       "text": [
        "\n",
        "NAA"
       ]
      },
      {
       "output_type": "stream",
       "stream": "stdout",
       "text": [
        "\n",
        "QAA"
       ]
      },
      {
       "output_type": "stream",
       "stream": "stdout",
       "text": [
        "\n",
        "PAA"
       ]
      },
      {
       "output_type": "stream",
       "stream": "stdout",
       "text": [
        "\n",
        "SAA"
       ]
      },
      {
       "output_type": "stream",
       "stream": "stdout",
       "text": [
        "\n",
        "RAA"
       ]
      },
      {
       "output_type": "stream",
       "stream": "stdout",
       "text": [
        "\n",
        "UAA"
       ]
      },
      {
       "output_type": "stream",
       "stream": "stdout",
       "text": [
        "\n",
        "TAA"
       ]
      },
      {
       "output_type": "stream",
       "stream": "stdout",
       "text": [
        "\n",
        "WAA"
       ]
      },
      {
       "output_type": "stream",
       "stream": "stdout",
       "text": [
        "\n",
        "VAA"
       ]
      },
      {
       "output_type": "stream",
       "stream": "stdout",
       "text": [
        "\n",
        "YAA"
       ]
      },
      {
       "output_type": "stream",
       "stream": "stdout",
       "text": [
        "\n",
        "XAA"
       ]
      },
      {
       "output_type": "stream",
       "stream": "stdout",
       "text": [
        "\n",
        "ZAA"
       ]
      },
      {
       "output_type": "stream",
       "stream": "stdout",
       "text": [
        "\n",
        "Trying left rotor: IV"
       ]
      },
      {
       "output_type": "stream",
       "stream": "stdout",
       "text": [
        "\n",
        "AAA\n",
        "CAA"
       ]
      },
      {
       "output_type": "stream",
       "stream": "stdout",
       "text": [
        "\n",
        "BAA"
       ]
      },
      {
       "output_type": "stream",
       "stream": "stdout",
       "text": [
        "\n",
        "EAA"
       ]
      },
      {
       "output_type": "stream",
       "stream": "stdout",
       "text": [
        "\n",
        "DAA"
       ]
      },
      {
       "output_type": "stream",
       "stream": "stdout",
       "text": [
        "\n",
        "GAA"
       ]
      },
      {
       "output_type": "stream",
       "stream": "stdout",
       "text": [
        "\n",
        "FAA"
       ]
      },
      {
       "output_type": "stream",
       "stream": "stdout",
       "text": [
        "\n",
        "IAA"
       ]
      },
      {
       "output_type": "stream",
       "stream": "stdout",
       "text": [
        "\n",
        "HAA"
       ]
      },
      {
       "output_type": "stream",
       "stream": "stdout",
       "text": [
        "\n",
        "KAA"
       ]
      },
      {
       "output_type": "stream",
       "stream": "stdout",
       "text": [
        "\n",
        "JAA"
       ]
      },
      {
       "output_type": "stream",
       "stream": "stdout",
       "text": [
        "\n",
        "MAA"
       ]
      },
      {
       "output_type": "stream",
       "stream": "stdout",
       "text": [
        "\n",
        "LAA"
       ]
      },
      {
       "output_type": "stream",
       "stream": "stdout",
       "text": [
        "\n",
        "OAA"
       ]
      },
      {
       "output_type": "stream",
       "stream": "stdout",
       "text": [
        "\n",
        "NAA"
       ]
      },
      {
       "output_type": "stream",
       "stream": "stdout",
       "text": [
        "\n",
        "QAA"
       ]
      },
      {
       "output_type": "stream",
       "stream": "stdout",
       "text": [
        "\n",
        "PAA"
       ]
      },
      {
       "output_type": "stream",
       "stream": "stdout",
       "text": [
        "\n",
        "SAA"
       ]
      },
      {
       "output_type": "stream",
       "stream": "stdout",
       "text": [
        "\n",
        "RAA"
       ]
      },
      {
       "output_type": "stream",
       "stream": "stdout",
       "text": [
        "\n",
        "UAA"
       ]
      },
      {
       "output_type": "stream",
       "stream": "stdout",
       "text": [
        "\n",
        "TAA"
       ]
      },
      {
       "output_type": "stream",
       "stream": "stdout",
       "text": [
        "\n",
        "WAA"
       ]
      },
      {
       "output_type": "stream",
       "stream": "stdout",
       "text": [
        "\n",
        "VAA"
       ]
      },
      {
       "output_type": "stream",
       "stream": "stdout",
       "text": [
        "\n",
        "YAA"
       ]
      },
      {
       "output_type": "stream",
       "stream": "stdout",
       "text": [
        "\n",
        "XAA"
       ]
      },
      {
       "output_type": "stream",
       "stream": "stdout",
       "text": [
        "\n",
        "ZAA"
       ]
      },
      {
       "output_type": "stream",
       "stream": "stdout",
       "text": [
        "\n",
        "Trying left rotor: VIII"
       ]
      },
      {
       "output_type": "stream",
       "stream": "stdout",
       "text": [
        "\n",
        "AAA\n",
        "CAA"
       ]
      },
      {
       "output_type": "stream",
       "stream": "stdout",
       "text": [
        "\n",
        "BAA"
       ]
      },
      {
       "output_type": "stream",
       "stream": "stdout",
       "text": [
        "\n",
        "EAA"
       ]
      },
      {
       "output_type": "stream",
       "stream": "stdout",
       "text": [
        "\n",
        "DAA"
       ]
      },
      {
       "output_type": "stream",
       "stream": "stdout",
       "text": [
        "\n",
        "GAA"
       ]
      },
      {
       "output_type": "stream",
       "stream": "stdout",
       "text": [
        "\n",
        "FAA"
       ]
      },
      {
       "output_type": "stream",
       "stream": "stdout",
       "text": [
        "\n",
        "IAA"
       ]
      },
      {
       "output_type": "stream",
       "stream": "stdout",
       "text": [
        "\n",
        "HAA"
       ]
      },
      {
       "output_type": "stream",
       "stream": "stdout",
       "text": [
        "\n",
        "KAA"
       ]
      },
      {
       "output_type": "stream",
       "stream": "stdout",
       "text": [
        "\n",
        "JAA"
       ]
      },
      {
       "output_type": "stream",
       "stream": "stdout",
       "text": [
        "\n",
        "MAA"
       ]
      },
      {
       "output_type": "stream",
       "stream": "stdout",
       "text": [
        "\n",
        "LAA"
       ]
      },
      {
       "output_type": "stream",
       "stream": "stdout",
       "text": [
        "\n",
        "OAA"
       ]
      },
      {
       "output_type": "stream",
       "stream": "stdout",
       "text": [
        "\n",
        "NAA"
       ]
      },
      {
       "output_type": "stream",
       "stream": "stdout",
       "text": [
        "\n",
        "QAA"
       ]
      },
      {
       "output_type": "stream",
       "stream": "stdout",
       "text": [
        "\n",
        "PAA"
       ]
      },
      {
       "output_type": "stream",
       "stream": "stdout",
       "text": [
        "\n",
        "SAA"
       ]
      },
      {
       "output_type": "stream",
       "stream": "stdout",
       "text": [
        "\n",
        "RAA"
       ]
      },
      {
       "output_type": "stream",
       "stream": "stdout",
       "text": [
        "\n",
        "UAA"
       ]
      },
      {
       "output_type": "stream",
       "stream": "stdout",
       "text": [
        "\n",
        "TAA"
       ]
      },
      {
       "output_type": "stream",
       "stream": "stdout",
       "text": [
        "\n",
        "WAA"
       ]
      },
      {
       "output_type": "stream",
       "stream": "stdout",
       "text": [
        "\n",
        "VAA"
       ]
      },
      {
       "output_type": "stream",
       "stream": "stdout",
       "text": [
        "\n",
        "YAA"
       ]
      },
      {
       "output_type": "stream",
       "stream": "stdout",
       "text": [
        "\n",
        "XAA"
       ]
      },
      {
       "output_type": "stream",
       "stream": "stdout",
       "text": [
        "\n",
        "ZAA"
       ]
      },
      {
       "output_type": "stream",
       "stream": "stdout",
       "text": [
        "\n",
        "Trying left rotor: V"
       ]
      },
      {
       "output_type": "stream",
       "stream": "stdout",
       "text": [
        "\n",
        "AAA\n",
        "CAA"
       ]
      },
      {
       "output_type": "stream",
       "stream": "stdout",
       "text": [
        "\n",
        "BAA"
       ]
      },
      {
       "output_type": "stream",
       "stream": "stdout",
       "text": [
        "\n",
        "EAA"
       ]
      },
      {
       "output_type": "stream",
       "stream": "stdout",
       "text": [
        "\n",
        "DAA"
       ]
      },
      {
       "output_type": "stream",
       "stream": "stdout",
       "text": [
        "\n",
        "GAA"
       ]
      },
      {
       "output_type": "stream",
       "stream": "stdout",
       "text": [
        "\n",
        "FAA"
       ]
      },
      {
       "output_type": "stream",
       "stream": "stdout",
       "text": [
        "\n",
        "IAA"
       ]
      },
      {
       "output_type": "stream",
       "stream": "stdout",
       "text": [
        "\n",
        "HAA"
       ]
      },
      {
       "output_type": "stream",
       "stream": "stdout",
       "text": [
        "\n",
        "KAA"
       ]
      },
      {
       "output_type": "stream",
       "stream": "stdout",
       "text": [
        "\n",
        "JAA"
       ]
      },
      {
       "output_type": "stream",
       "stream": "stdout",
       "text": [
        "\n",
        "MAA"
       ]
      },
      {
       "output_type": "stream",
       "stream": "stdout",
       "text": [
        "\n",
        "LAA"
       ]
      },
      {
       "output_type": "stream",
       "stream": "stdout",
       "text": [
        "\n",
        "OAA"
       ]
      },
      {
       "output_type": "stream",
       "stream": "stdout",
       "text": [
        "\n",
        "NAA"
       ]
      },
      {
       "output_type": "stream",
       "stream": "stdout",
       "text": [
        "\n",
        "QAA"
       ]
      },
      {
       "output_type": "stream",
       "stream": "stdout",
       "text": [
        "\n",
        "PAA"
       ]
      },
      {
       "output_type": "stream",
       "stream": "stdout",
       "text": [
        "\n",
        "SAA"
       ]
      },
      {
       "output_type": "stream",
       "stream": "stdout",
       "text": [
        "\n",
        "RAA"
       ]
      },
      {
       "output_type": "stream",
       "stream": "stdout",
       "text": [
        "\n",
        "UAA"
       ]
      },
      {
       "output_type": "stream",
       "stream": "stdout",
       "text": [
        "\n",
        "TAA"
       ]
      },
      {
       "output_type": "stream",
       "stream": "stdout",
       "text": [
        "\n",
        "WAA"
       ]
      },
      {
       "output_type": "stream",
       "stream": "stdout",
       "text": [
        "\n",
        "VAA"
       ]
      },
      {
       "output_type": "stream",
       "stream": "stdout",
       "text": [
        "\n",
        "YAA"
       ]
      },
      {
       "output_type": "stream",
       "stream": "stdout",
       "text": [
        "\n",
        "XAA"
       ]
      },
      {
       "output_type": "stream",
       "stream": "stdout",
       "text": [
        "\n",
        "ZAA"
       ]
      },
      {
       "output_type": "stream",
       "stream": "stdout",
       "text": [
        "\n"
       ]
      }
     ],
     "prompt_number": 74
    },
    {
     "cell_type": "markdown",
     "metadata": {},
     "source": [
      "We have, usefully, one hit: rotor VI at position FAJ with a given plugboard setting. The plugboard setting also has 10 pairs which is consistent with German naval procedure. It looks like this is a good hit!"
     ]
    },
    {
     "cell_type": "heading",
     "level": 2,
     "metadata": {},
     "source": [
      "Using a crib to recover ring setings"
     ]
    },
    {
     "cell_type": "markdown",
     "metadata": {},
     "source": [
      "The rotor position does not correspond directly to what the operator sees. The letters on each rotor may be rotated independently of the rotor itself. This last setting is the 'ring setting'. At Bletchley once this much of the key had been obtained it was passed over to a machine called the \"Baby\". This would encipher, according to a particular intercept's indicator, the German word \"EINS\" once for every possible ring setting. The entries in this \"Eins catalogue\" would then be compared with the intercept to look for matches.\n",
      "\n",
      "Our intercepts are English text. There's not a similarly convenient tetragram in natural English but we know that each intercept uses 'STOP' to denote a full-stop. We'll recover ring settings using a \"Stop catalogue\"."
     ]
    },
    {
     "cell_type": "markdown",
     "metadata": {},
     "source": [
      "The first stage is to collect the information we've obtained so far together. We've determined the plugboard settings, physical rotor positions and which rotors are used in what order."
     ]
    },
    {
     "cell_type": "code",
     "collapsed": false,
     "input": [
      "plugboard = ' '.join(''.join(x) for x in set([('N', 'W'), ('U', 'V'), ('M', 'Y'),\n",
      "    ('K', 'O'), ('L', 'S'), ('B', 'Q'), ('F', 'J'), ('P', 'Z'), ('A', 'C'), ('R', 'T')]))\n",
      "grundstellung = list(ord(x) - ord('A') for x in 'FAJ') # Modulo rings\n",
      "rotors = 'VI III II'"
     ],
     "language": "python",
     "metadata": {},
     "outputs": [],
     "prompt_number": 75
    },
    {
     "cell_type": "markdown",
     "metadata": {},
     "source": [
      "The choice of intercept depends on your confidence that the tetragram in your \"Eins/stop catalogue\" will be present. Since we know that *all* of our intercepts have 'STOP' in them, we can just use the first one."
     ]
    },
    {
     "cell_type": "code",
     "collapsed": false,
     "input": [
      "ciphertext = intercepts.irow(0)['Ciphertext']\n",
      "indicator = intercepts.irow(0)['Indicator']"
     ],
     "language": "python",
     "metadata": {},
     "outputs": [],
     "prompt_number": 76
    },
    {
     "cell_type": "markdown",
     "metadata": {},
     "source": [
      "It is now straightforward to try each ring setting in turn."
     ]
    },
    {
     "cell_type": "code",
     "collapsed": false,
     "input": [
      "hits = []\n",
      "for rings in itertools.product(xrange(26), repeat=3):\n",
      "    display = list((gs+r) % 26 for gs, r in zip(grundstellung, rings))\n",
      "    display_txt = ''.join(chr(x + ord('A')) for x in display)\n",
      "    ring_txt = ' '.join(chr(x + ord('A')) for x in rings)\n",
      "\n",
      "    machine = EnigmaMachine.from_key_sheet(\n",
      "        rotors=rotors,\n",
      "        reflector='B-Thin',\n",
      "        ring_settings=ring_txt,\n",
      "        plugboard_settings=plugboard,\n",
      "    )\n",
      "    \n",
      "    machine.set_display(display_txt)\n",
      "    msg_setting = machine.process_text(indicator)\n",
      "    machine.set_display(msg_setting)\n",
      "    plaintext = machine.process_text(ciphertext)\n",
      "    \n",
      "    if plaintext.endswith('STOP'):\n",
      "        print('Hit', ring_txt, display_txt)\n",
      "        hits.append((ring_txt, display_txt))"
     ],
     "language": "python",
     "metadata": {},
     "outputs": [
      {
       "output_type": "stream",
       "stream": "stdout",
       "text": [
        "Hit R J W WJF\n"
       ]
      }
     ],
     "prompt_number": 77
    },
    {
     "cell_type": "markdown",
     "metadata": {},
     "source": [
      "There is only one hit and so we're fairly confident now that we've broken Enigma for the day. The daily key sheet which we have determined is:\n",
      "\n",
      "* Ring setting: RJW\n",
      "* Grundstellung: WJF\n",
      "* Plugboard: NW UV MY KO LS BQ FJ PZ AC RT\n",
      "* Rotors: VI III II\n",
      "\n",
      "The next stage is to set up an Enigma machine with those settings and try to decrypt our intercepts."
     ]
    },
    {
     "cell_type": "heading",
     "level": 2,
     "metadata": {},
     "source": [
      "Decrypting all interepts"
     ]
    },
    {
     "cell_type": "markdown",
     "metadata": {},
     "source": [
      "Once we have the settings, it is fairly easy to decrypt the intercepts."
     ]
    },
    {
     "cell_type": "code",
     "collapsed": false,
     "input": [
      "hit_labels = []\n",
      "indices = []\n",
      "decrypts = []\n",
      "\n",
      "for ring, grundstellung in hits:\n",
      "    hit_labels.append('{0}/{1}'.format(ring, grundstellung))\n",
      "\n",
      "for idx, row in intercepts.iterrows():\n",
      "    indicator = row['Indicator']\n",
      "    ciphertext = row['Ciphertext']\n",
      "    indices.append(idx)\n",
      "    \n",
      "    decrypt_row = []\n",
      "    for ring, grundstellung in hits:\n",
      "        machine = EnigmaMachine.from_key_sheet(\n",
      "            rotors=rotors,\n",
      "            reflector='B-Thin',\n",
      "            ring_settings=ring,\n",
      "            plugboard_settings=plugboard,\n",
      "        )\n",
      "        \n",
      "        machine.set_display(grundstellung)\n",
      "        msg_setting = machine.process_text(indicator)\n",
      "        machine.set_display(msg_setting)\n",
      "\n",
      "        decrypt_row.append(machine.process_text(ciphertext))\n",
      "    \n",
      "    decrypts.append(decrypt_row)\n",
      "    \n",
      "decrypts = pd.DataFrame(decrypts, index=indices, columns=hit_labels)"
     ],
     "language": "python",
     "metadata": {},
     "outputs": [],
     "prompt_number": 78
    },
    {
     "cell_type": "markdown",
     "metadata": {},
     "source": [
      "We can show the first few decrypts to make sure:"
     ]
    },
    {
     "cell_type": "code",
     "collapsed": false,
     "input": [
      "decrypts[:10]"
     ],
     "language": "python",
     "metadata": {},
     "outputs": [
      {
       "html": [
        "<div style=\"max-height:1000px;max-width:1500px;overflow:auto;\">\n",
        "<table border=\"1\" class=\"dataframe\">\n",
        "  <thead>\n",
        "    <tr style=\"text-align: right;\">\n",
        "      <th></th>\n",
        "      <th>R J W/WJF</th>\n",
        "    </tr>\n",
        "  </thead>\n",
        "  <tbody>\n",
        "    <tr>\n",
        "      <th>msg_0</th>\n",
        "      <td> EVENXBEFOREXMISSXTAYLORXHADXCEASEDXTOXHOLDXTHE...</td>\n",
        "    </tr>\n",
        "    <tr>\n",
        "      <th>msg_1</th>\n",
        "      <td> SHEXHADXBEENXAXFRIENDXANDXCOMPANIONXSUCHXASXFE...</td>\n",
        "    </tr>\n",
        "    <tr>\n",
        "      <th>msg_2</th>\n",
        "      <td> HOWXWASXSHEXTOXBEARXTHEXCHANGEXXITXWASXTRUEXTH...</td>\n",
        "    </tr>\n",
        "    <tr>\n",
        "      <th>msg_3</th>\n",
        "      <td> THEXEVILXOFXTHEXACTUALXDISPARITYXINXTHEIRXAGES...</td>\n",
        "    </tr>\n",
        "    <tr>\n",
        "      <th>msg_4</th>\n",
        "      <td> HERXSISTERXXTHOUGHXCOMPARATIVELYXBUTXLITTLEXRE...</td>\n",
        "    </tr>\n",
        "    <tr>\n",
        "      <th>msg_5</th>\n",
        "      <td> MATRIMONYXXASXTHEXORIGINXOFXCHANGEXXWASXALWAYS...</td>\n",
        "    </tr>\n",
        "    <tr>\n",
        "      <th>msg_6</th>\n",
        "      <td> MRXSTOPXKNIGHTLEYXXINXFACTXXWASXONEXOFXTHEXFEW...</td>\n",
        "    </tr>\n",
        "    <tr>\n",
        "      <th>msg_7</th>\n",
        "      <td> XWEXSHOULDXNOTXLIKEXHERXSOXWELLXASXWEXDOXXSIRX...</td>\n",
        "    </tr>\n",
        "    <tr>\n",
        "      <th>msg_8</th>\n",
        "      <td> MRXSTOPXWESTONXXWHOXHADXBEENXAXWIDOWERXSOXLONG...</td>\n",
        "    </tr>\n",
        "    <tr>\n",
        "      <th>msg_9</th>\n",
        "      <td> BUTXIFXXWHICHXIXRATHERXIMAGINEXXYOURXMAKINGXTH...</td>\n",
        "    </tr>\n",
        "  </tbody>\n",
        "</table>\n",
        "</div>"
       ],
       "metadata": {},
       "output_type": "pyout",
       "prompt_number": 79,
       "text": [
        "                                               R J W/WJF\n",
        "msg_0  EVENXBEFOREXMISSXTAYLORXHADXCEASEDXTOXHOLDXTHE...\n",
        "msg_1  SHEXHADXBEENXAXFRIENDXANDXCOMPANIONXSUCHXASXFE...\n",
        "msg_2  HOWXWASXSHEXTOXBEARXTHEXCHANGEXXITXWASXTRUEXTH...\n",
        "msg_3  THEXEVILXOFXTHEXACTUALXDISPARITYXINXTHEIRXAGES...\n",
        "msg_4  HERXSISTERXXTHOUGHXCOMPARATIVELYXBUTXLITTLEXRE...\n",
        "msg_5  MATRIMONYXXASXTHEXORIGINXOFXCHANGEXXWASXALWAYS...\n",
        "msg_6  MRXSTOPXKNIGHTLEYXXINXFACTXXWASXONEXOFXTHEXFEW...\n",
        "msg_7  XWEXSHOULDXNOTXLIKEXHERXSOXWELLXASXWEXDOXXSIRX...\n",
        "msg_8  MRXSTOPXWESTONXXWHOXHADXBEENXAXWIDOWERXSOXLONG...\n",
        "msg_9  BUTXIFXXWHICHXIXRATHERXIMAGINEXXYOURXMAKINGXTH..."
       ]
      }
     ],
     "prompt_number": 79
    },
    {
     "cell_type": "markdown",
     "metadata": {},
     "source": [
      "Indeed, this looks to be useful English text."
     ]
    }
   ],
   "metadata": {}
  }
 ]
}
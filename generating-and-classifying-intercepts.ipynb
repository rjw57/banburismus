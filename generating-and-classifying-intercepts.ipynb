{
 "metadata": {
  "name": ""
 },
 "nbformat": 3,
 "nbformat_minor": 0,
 "worksheets": [
  {
   "cells": [
    {
     "cell_type": "heading",
     "level": 1,
     "metadata": {},
     "source": [
      "Generating (and Classifying) Synthetic German Naval Intercepts"
     ]
    },
    {
     "cell_type": "heading",
     "level": 2,
     "metadata": {},
     "source": [
      "Introduction"
     ]
    },
    {
     "cell_type": "markdown",
     "metadata": {},
     "source": [
      "In this notebook I shall introduce the Enigma Machine, discuss the German navy's encipherment procedure, introduce the key insight of Banburismus and perform some initial classification of some synthetic intercepts."
     ]
    },
    {
     "cell_type": "markdown",
     "metadata": {},
     "source": [
      "Before we begin, however, we should perform the usual Python boilerplate of importing any modules we use and, in this case, making use of the special ``__future__`` module to remove some of the historical carbuncles from Python."
     ]
    },
    {
     "cell_type": "code",
     "collapsed": false,
     "input": [
      "# Import some modern Python language features\n",
      "from __future__ import print_function, division\n",
      "\n",
      "# We will make heavy use of the Pandas and NumPy libraries\n",
      "import pandas as pd\n",
      "import numpy as np\n",
      "\n",
      "# The standard itertools package provides several useful functions\n",
      "# for composing iterable sequences\n",
      "import itertools"
     ],
     "language": "python",
     "metadata": {},
     "outputs": [],
     "prompt_number": 1
    },
    {
     "cell_type": "heading",
     "level": 3,
     "metadata": {},
     "source": [
      "The Enigma Machine"
     ]
    },
    {
     "cell_type": "markdown",
     "metadata": {},
     "source": [
      "It's assumed that the reader is at least moderately familiar with the [Enigma Machine](https://en.wikipedia.org/wiki/Enigma_machine) and its operation. That being said, an in-depth knowledge of the Enigma machine is not necessary and specialist terms shall be explained as they are introduced."
     ]
    },
    {
     "cell_type": "markdown",
     "metadata": {},
     "source": [
      "An Enigma machine, once set up in an agreed state, essentially performs an alphabet substitution cipher mapping letters to letters. One presses a key on the machine's keyboard and a lamp from a set labelled 'A' to 'Z' will be lit. An important property of the Engima machine is that *it never enciphers a letter to itself*. That is to say that pressing an 'A' on the keyboard will never result in lamp 'A' being lit. This, as we shall see, is a design flaw.\n",
      "\n",
      "If that were all the Enigma did, it would pose very little challenge to a cryptoanalist. One important setting on the machine which influences the current substitution cipher is the \"display setting\". This is the position of three 'rotors' visible through a window on the top of the machine. Each rotor can be in one of 26 possible positions, labelled 'A'-'Z'. Reading these rotors left to right gives the three-letter display setting for the machine. To stop Enigma being a simple alphabetic substitution cipher this display setting would change on each keypress. The rotors are visible in this picture of a military Enigma machine."
     ]
    },
    {
     "cell_type": "code",
     "collapsed": false,
     "input": [
      "from IPython.display import Image\n",
      "Image(url='https://upload.wikimedia.org/wikipedia/commons/thumb/3/3e/EnigmaMachineLabeled.jpg/360px-EnigmaMachineLabeled.jpg')"
     ],
     "language": "python",
     "metadata": {},
     "outputs": [
      {
       "html": [
        "<img src=\"https://upload.wikimedia.org/wikipedia/commons/thumb/3/3e/EnigmaMachineLabeled.jpg/360px-EnigmaMachineLabeled.jpg\"/>"
       ],
       "metadata": {},
       "output_type": "pyout",
       "prompt_number": 2,
       "text": [
        "<IPython.core.display.Image at 0x39a9610>"
       ]
      }
     ],
     "prompt_number": 2
    },
    {
     "cell_type": "markdown",
     "metadata": {},
     "source": [
      "An Enigma machine was configured using a pre-agreed \"key sheet\" which was changed often, usually daily. This specified which three rotors should be used, which 'reflector' board should be used, the ring settings and the plugboard settings. The ring settings did not affect the encipherment *per se*; they referred to a movable ring surrouding the rotor which had the letters 'A'-'Z' printed. (One could view the ring setting as a separate Ceaser-style cipher of the dislay setting.) The plugboard (or *stecker*) provided an extra level of encipherment by providing a set of letter pairs which are swapped pre- and post-encipherment. For naval Enigma one of wheels VI, VII or VIII must be present.\n",
      "\n",
      "Usually the reflecter board was not changed meaning that, in order to break a given day's key, one needed to infer the rotor order, ring setting and plugboard setting. For naval Enigma messages one also needed to deduce a starting display setting, termed the *grundstellung*, which will be discussed later."
     ]
    },
    {
     "cell_type": "markdown",
     "metadata": {},
     "source": [
      "We can calculate the number of possible key settings for a naval Enigma machine quite simply:"
     ]
    },
    {
     "cell_type": "code",
     "collapsed": false,
     "input": [
      "num_grundstellung_settings = num_ring_settings = 26 * 26 * 26\n",
      "# Note: ignores rule about requiring one of wheels VI-VII being used\n",
      "num_rotor_settings = 8 * 7 * 6 \n",
      "\n",
      "# Each plugboard setting wires a pair of characters\n",
      "num_plugboard_settings = 1\n",
      "num_available_plugboard_sockets = 26\n",
      "num_wire_orderings = 1\n",
      "\n",
      "# Usually there were 10 pairs used in a plugboard setting\n",
      "for wire in xrange(10):\n",
      "    num_wire_orderings *= 1+wire\n",
      "    num_plugboard_settings *= num_available_plugboard_sockets * \\\n",
      "        (num_available_plugboard_sockets-1)\n",
      "    num_available_plugboard_sockets -= 2\n",
      "    \n",
      "# Because absolute ordering of plugboard settings doesn't matter,\n",
      "# we need to divide by number of ways of ordering wires\n",
      "num_plugboard_settings //= num_wire_orderings\n",
      "\n",
      "# Also A -> B is the same as B -> A so divide number of plugboard\n",
      "# settings by 2\n",
      "num_plugboard_settings //= 2\n",
      "\n",
      "num_key_settings = num_grundstellung_settings * num_ring_settings * \\\n",
      "    num_rotor_settings * num_plugboard_settings\n",
      "\n",
      "print('Number of key settings: {0:,}'.format(num_key_settings))\n",
      "print('Approx. key length in bits: {0:.0f}'.format(\n",
      "    np.log2(float(num_key_settings))))"
     ],
     "language": "python",
     "metadata": {},
     "outputs": [
      {
       "output_type": "stream",
       "stream": "stdout",
       "text": [
        "Number of key settings: 8,010,744,255,922,017,371,553,792,000\n",
        "Approx. key length in bits: 93\n"
       ]
      }
     ],
     "prompt_number": 3
    },
    {
     "cell_type": "markdown",
     "metadata": {},
     "source": [
      "The Germans were fairly confident that such a large number of key settings meant that it was effectively impossible to brute-force Enigma. Even today a 93-bit key would be considered as *probably* infeasible to crack by brute force."
     ]
    },
    {
     "cell_type": "markdown",
     "metadata": {},
     "source": [
      "To facilitate further demonstration, we'll use the [py-enigma](http://py-enigma.readthedocs.org/en/latest/) package to simulate an actual military Enigma machine."
     ]
    },
    {
     "cell_type": "code",
     "collapsed": false,
     "input": [
      "from enigma.machine import EnigmaMachine\n",
      "\n",
      "machine = EnigmaMachine.from_key_sheet(\n",
      "    rotors=\"VI II IV\",\n",
      "    reflector='B-Thin',\n",
      "    ring_settings='C A T',\n",
      "    plugboard_settings='OE FD GH SK QL XJ CM TY BA ZW',\n",
      ")"
     ],
     "language": "python",
     "metadata": {},
     "outputs": [],
     "prompt_number": 4
    },
    {
     "cell_type": "markdown",
     "metadata": {},
     "source": [
      "After a key is pressed on the keyboard, and the corresponding lamp lit, the rightmost rotor is advanced by one step. That is to say if the display setting was \"AAA\", once a key had been pressed and released, it would then be \"AAB\". Each rotor has a 'turnover' point at which it will also advance the rotor to its left. The rotors were interchangable and the turnover point depended on the rotor in question. (This was another key flaw as will be seen later.) For rotor IV, for example, the turnover point was between J and K. With rotor IV in the rightmost position the display setting \"AAJ\" would advance after one keypress to \"ABK\".\n",
      "We can demonstrate this turnover using a simulation of an Enigma machine."
     ]
    },
    {
     "cell_type": "code",
     "collapsed": false,
     "input": [
      "# Set the initial display setting\n",
      "machine.set_display('DOG')\n",
      "\n",
      "# Use an appropriate example plaintext\n",
      "plaintext = 'TURING'\n",
      "print('Plaintext: {0}'.format(plaintext))\n",
      "\n",
      "# Record the ciphertext\n",
      "ciphertext = ''\n",
      "\n",
      "# For each letter in our message, print out the display\n",
      "# before typing the plaintext letter, the plaintex letter\n",
      "# and the corresponding ciphertext letter.\n",
      "print('\\nDisplay | Plain | Cipher')\n",
      "print('--------+-------+-------')\n",
      "for plain_letter in plaintext:\n",
      "    current_display = machine.get_display()\n",
      "    cipher_letter = machine.process_text(plain_letter)\n",
      "    print('{0:^7} | {1:^5} | {2:^6}'.format(\n",
      "        current_display, plain_letter, cipher_letter))\n",
      "    ciphertext += cipher_letter\n",
      "\n",
      "# Show our resulting ciphertext\n",
      "print('\\nCiphertext: {0}'.format(ciphertext))"
     ],
     "language": "python",
     "metadata": {},
     "outputs": [
      {
       "output_type": "stream",
       "stream": "stdout",
       "text": [
        "Plaintext: TURING\n",
        "\n",
        "Display | Plain | Cipher\n",
        "--------+-------+-------\n",
        "  DOG   |   T   |   B   \n",
        "  DOH   |   U   |   X   \n",
        "  DOI   |   R   |   E   \n",
        "  DOJ   |   I   |   O   \n",
        "  DPK   |   N   |   G   \n",
        "  DPL   |   G   |   O   \n",
        "\n",
        "Ciphertext: BXEOGO\n"
       ]
      }
     ],
     "prompt_number": 5
    },
    {
     "cell_type": "markdown",
     "metadata": {},
     "source": [
      "Note the middle-wheel turnover between 'DOJ' and 'DPK'. The turnover positions for wheels I to V were R, F, W, K and A respectively. (These were often remembered via the mnemonic \"Royal Flags Wave Kings Above\".) The naval wheels VI to VIII turned over at *two* positions, N and A. Pleasingly, the **NA**-vy wheels were their own mnemonic!"
     ]
    },
    {
     "cell_type": "heading",
     "level": 3,
     "metadata": {},
     "source": [
      "Naval encipherment procedure"
     ]
    },
    {
     "cell_type": "markdown",
     "metadata": {},
     "source": [
      "German naval messages were enciphered using a system which required, in addition to knowledge of the machine's plugboard, ring and rotor settings, a display setting known as the *grundstellung*."
     ]
    },
    {
     "cell_type": "code",
     "collapsed": false,
     "input": [
      "grundstellung = 'WTF' # Changes daily"
     ],
     "language": "python",
     "metadata": {},
     "outputs": [],
     "prompt_number": 6
    },
    {
     "cell_type": "markdown",
     "metadata": {},
     "source": [
      "To encipher a message the cipher operator would choose at random, usually with the help of a special book, a three-letter indicator. This indicator is hand-enciphered and transmitted at the start and end of the enciphered message. The Allies knew this indicator encipherment and so, for our purposes, we shall assume the plaintext indicators are given."
     ]
    },
    {
     "cell_type": "code",
     "collapsed": false,
     "input": [
      "indicator = 'BBC' # Chosen at random, per message"
     ],
     "language": "python",
     "metadata": {},
     "outputs": [],
     "prompt_number": 7
    },
    {
     "cell_type": "markdown",
     "metadata": {},
     "source": [
      "The machine is set up as per the daily settings and the display is set to the grundstellung."
     ]
    },
    {
     "cell_type": "code",
     "collapsed": false,
     "input": [
      "machine.set_display(grundstellung)"
     ],
     "language": "python",
     "metadata": {},
     "outputs": [],
     "prompt_number": 8
    },
    {
     "cell_type": "markdown",
     "metadata": {},
     "source": [
      "The operator types the indicator into the machine to obtain a *message setting*."
     ]
    },
    {
     "cell_type": "code",
     "collapsed": false,
     "input": [
      "msg_setting = machine.process_text(indicator)\n",
      "print('Message setting: {0}'.format(msg_setting))"
     ],
     "language": "python",
     "metadata": {},
     "outputs": [
      {
       "output_type": "stream",
       "stream": "stdout",
       "text": [
        "Message setting: GEQ\n"
       ]
      }
     ],
     "prompt_number": 9
    },
    {
     "cell_type": "markdown",
     "metadata": {},
     "source": [
      "The display is set to this message setting and the message is enciphered."
     ]
    },
    {
     "cell_type": "code",
     "collapsed": false,
     "input": [
      "machine.set_display(msg_setting)\n",
      "ciphertext = machine.process_text('WATSONCOMEHEREINEEDYOU')\n",
      "print('Cipher text: {0}'.format(ciphertext))"
     ],
     "language": "python",
     "metadata": {},
     "outputs": [
      {
       "output_type": "stream",
       "stream": "stdout",
       "text": [
        "Cipher text: TBXGFCOXHGJPBMZXMDMKFY\n"
       ]
      }
     ],
     "prompt_number": 10
    },
    {
     "cell_type": "markdown",
     "metadata": {},
     "source": [
      "At the receiving end, the operator has the ciphertext and indicator. To decrypt the message, the machine is set to the grundstellung, the indicator is typed in and the result is used to decipher the message."
     ]
    },
    {
     "cell_type": "code",
     "collapsed": false,
     "input": [
      "# We have indicator and ciphertext\n",
      "machine.set_display(grundstellung)\n",
      "machine.set_display(machine.process_text(indicator))\n",
      "plaintext = machine.process_text(ciphertext)\n",
      "print('Plaintext: {0}'.format(plaintext))"
     ],
     "language": "python",
     "metadata": {},
     "outputs": [
      {
       "output_type": "stream",
       "stream": "stdout",
       "text": [
        "Plaintext: WATSONCOMEHEREINEEDYOU\n"
       ]
      }
     ],
     "prompt_number": 11
    },
    {
     "cell_type": "markdown",
     "metadata": {},
     "source": [
      "One probable motivation for this per-message indicator procedure was to guard against discovery of messages which were *in depth* (enciphered with the same key). For example, if one were to just use the grundstellung as-is, similar messages would have similar ciphertext."
     ]
    },
    {
     "cell_type": "code",
     "collapsed": false,
     "input": [
      "msgs = ('UBOATONEATTACKSATDAWN', 'UBOATTWOATTACKSATNOON')\n",
      "\n",
      "# Print the result of enciphering each message with the same key\n",
      "for msg in msgs:\n",
      "    machine.set_display(grundstellung)\n",
      "    print('{0} => {1}'.format(msg, machine.process_text(msg)))"
     ],
     "language": "python",
     "metadata": {},
     "outputs": [
      {
       "output_type": "stream",
       "stream": "stdout",
       "text": [
        "UBOATONEATTACKSATDAWN => VEXMMJYQDDOSUUYVQIPFH\n",
        "UBOATTWOATTACKSATNOON => VEXMMLDJDDOSUUYVQVILH\n"
       ]
      }
     ],
     "prompt_number": 12
    },
    {
     "cell_type": "markdown",
     "metadata": {},
     "source": [
      "If the format of German messages were known it would then be faily easy to guess at which bits of the ciphertext corresponded to which plaintext words. (This sort of \"informed guess\" as to the plaintext content of a message is termed a *crib*.) In fact, as we shall see, the indicator procedure did not adequately guard against determining which messages were in depth with each other."
     ]
    },
    {
     "cell_type": "markdown",
     "metadata": {},
     "source": [
      "In modern parlance the indicator would be called an *initialisation vector*."
     ]
    },
    {
     "cell_type": "heading",
     "level": 2,
     "metadata": {},
     "source": [
      "Banburismus"
     ]
    },
    {
     "cell_type": "markdown",
     "metadata": {},
     "source": [
      "A flaw in the indicator procedure was that similar indicators would lead to similar encryption keys"
     ]
    },
    {
     "cell_type": "code",
     "collapsed": false,
     "input": [
      "for indicator in ['ABC', 'ABE']:\n",
      "    machine.set_display(grundstellung)\n",
      "    print('indicator: {0} => key: {1}'.format(\n",
      "        indicator, machine.process_text(indicator)))"
     ],
     "language": "python",
     "metadata": {},
     "outputs": [
      {
       "output_type": "stream",
       "stream": "stdout",
       "text": [
        "indicator: ABC => key: REQ\n",
        "indicator: ABE => key: RET\n"
       ]
      }
     ],
     "prompt_number": 13
    },
    {
     "cell_type": "markdown",
     "metadata": {},
     "source": [
      "Each letter of the indicator is enciphered separately with a different alphabet substitution. Furthermore, ignoring turnover, a message encrypted with indicator ``ABC`` will be encrypted with the display setting ``REQ`` which is only 3 behind ``RET``. Thus the message with indicator ``ABC`` will, after three characters, be in depth with the message with indicator ``ABE``."
     ]
    },
    {
     "cell_type": "markdown",
     "metadata": {},
     "source": [
      "If we define an ``encrypt()`` function which follows German naval procedure we can demonstrate this directly."
     ]
    },
    {
     "cell_type": "code",
     "collapsed": false,
     "input": [
      "def encrypt(indicator, plaintext, machine=machine,\n",
      "            grundstellung=grundstellung):\n",
      "    \"\"\"\n",
      "    Encrypt *plaintext* using *indicator* on *machine* as per\n",
      "    German naval procedure.\n",
      "\n",
      "    \"\"\"\n",
      "    machine.set_display(grundstellung)\n",
      "    msg_setting = machine.process_text(indicator)\n",
      "    machine.set_display(msg_setting)\n",
      "    return machine.process_text(plaintext)"
     ],
     "language": "python",
     "metadata": {},
     "outputs": [],
     "prompt_number": 14
    },
    {
     "cell_type": "markdown",
     "metadata": {},
     "source": [
      "If we choose two messages which will be identical when appropriately offset then we can demonstrate this in depth property by generating identical ciphertexts."
     ]
    },
    {
     "cell_type": "code",
     "collapsed": false,
     "input": [
      "print('ABC => {0}'.format(\n",
      "    encrypt('ABC', 'XYZSKIPPINGTHREECHARSRESULTSINDEPTH'))) \n",
      "print('ABE => ...{0}'.format(\n",
      "    encrypt('ABE', 'SKIPPINGTHREECHARSRESULTSINDEPTH'))) "
     ],
     "language": "python",
     "metadata": {},
     "outputs": [
      {
       "output_type": "stream",
       "stream": "stdout",
       "text": [
        "ABC => OSXYAWHOAYXCFBWVVUCGGUHZPMNLAYIHIOK\n",
        "ABE => ...YAWHOAYXCFBWVVUCGGUHZPMNLAYIHIOK\n"
       ]
      }
     ],
     "prompt_number": 15
    },
    {
     "cell_type": "markdown",
     "metadata": {},
     "source": [
      "This is all very well for messages which have been constructed to be identical at useful points but doesn't work very well for more realistic messages."
     ]
    },
    {
     "cell_type": "code",
     "collapsed": false,
     "input": [
      "print('ABC => {0}'.format(\n",
      "    encrypt('ABC','HOWEVERWHENONEHASARBITRARYMESSAGES'))) \n",
      "print('ABE => ...{0}'.format(\n",
      "    encrypt('ABE', 'THEINDEPTHPROPERTYISHARDERTOSEE'))) "
     ],
     "language": "python",
     "metadata": {},
     "outputs": [
      {
       "output_type": "stream",
       "stream": "stdout",
       "text": [
        "ABC => FNMLRPDAXTVWJDRWWQUSEAXCAEDHVKSASR\n",
        "ABE => ...CIPAEKTYCFGHYBPUYFXTORUMHNDQNSN\n"
       ]
      }
     ],
     "prompt_number": 16
    },
    {
     "cell_type": "markdown",
     "metadata": {},
     "source": [
      "Suppose for the moment we *do* have some method of determining when arbitrary ciphertexts are in depth. Given messages with indicators ``ABC`` and ``ABE`` we can slide one against the other until we determine that the overlapping ciphertexts are in depth. In this case we would find that moving ``ABE`` three ahead of ``ABC`` results in ciphertexts which are in depth and so we can infer that the last letter of the key corresponding to ``ABE`` must be three ahead of that corresponding to ``ABC``. Or, to put it another way, if at display setting grundstellung+2 the machine enciphers ``E``$\\rightarrow \\ell_1$ and ``C``$\\rightarrow \\ell_2$ then $\\ell_1$ must be three letters ahead of $\\ell_2$. Since we know that, in this case, the machine at grunstellung enciphers ``ABC`` $\\rightarrow$ ``REQ`` and ``ABE`` $\\rightarrow$ ``RET`` we can confirm our deduction by noting that ``T`` is indeed three letters ahead of ``Q``.\n",
      "\n",
      "At Bletchley the notation used for this hypothesis took the form ``ABE=ABC+3`` or, abbreviated, ``E=C+3``. Given enough of these rules we can reconstruct the entire substitution cipher as will be demonstrated in a later notebook."
     ]
    },
    {
     "cell_type": "heading",
     "level": 3,
     "metadata": {},
     "source": [
      "Determining if two messages are in depth"
     ]
    },
    {
     "cell_type": "markdown",
     "metadata": {},
     "source": [
      "Above we noted that the principle of Banburismus is fairly simple if one knows if a pair of messages are in depth at a given offset from one another. Since the Enigma machine enciphered each letter of the message separately, a curious property of natural languages known as the [Index of Coincidence](https://en.wikipedia.org/wiki/Index_of_Coincidence) could be exploited. If two streams of uniformly distributed random letters are compared letter-by-letter one would expect, by chance, that two letters should match roughly 1 in 26 times. If, however, the streams of letters are actually from a natural language one finds that the letters match more often.\n",
      "\n",
      "Let's do an experiment to test this."
     ]
    },
    {
     "cell_type": "code",
     "collapsed": false,
     "input": [
      "def compare(msg1, msg2):\n",
      "    \"\"\"\n",
      "    Compare *msg1* and *msg1* letter by letter counting the number\n",
      "    of coincident letters vs. number of letters in total. Return\n",
      "    the tuple (*matches*, *overlap*) giving the number of letter\n",
      "    matches and total overlap length.\n",
      "\n",
      "    \"\"\"\n",
      "    matches, overlap = 0, 0\n",
      "    \n",
      "    for l1, l2 in itertools.izip(msg1, msg2):\n",
      "        if l1 == l2:\n",
      "            matches += 1\n",
      "        overlap += 1\n",
      "        \n",
      "    return matches, overlap"
     ],
     "language": "python",
     "metadata": {},
     "outputs": [],
     "prompt_number": 17
    },
    {
     "cell_type": "code",
     "collapsed": false,
     "input": [
      "# Initialise numpy's random number generator to a known state.\n",
      "# We will do this each time we use np.random to make sure that the\n",
      "# results of re-running the notebooks are consistent. To show we\n",
      "# have not specially selected the seed, we shall use the first few\n",
      "# digits of pi.\n",
      "np.random.seed(314159)\n",
      "\n",
      "# Generate two random messages of 10000 characters\n",
      "m1, m2 = np.random.randint(0, 26, (2,10000))\n",
      "matches, overlap = compare(m1, m2)\n",
      "print('Random messages: {0}/{1} (~ 1 in {2:.0f})'.format(\n",
      "    matches, overlap, overlap / matches))"
     ],
     "language": "python",
     "metadata": {},
     "outputs": [
      {
       "output_type": "stream",
       "stream": "stdout",
       "text": [
        "Random messages: 391/10000 (~ 1 in 26)\n"
       ]
      }
     ],
     "prompt_number": 18
    },
    {
     "cell_type": "markdown",
     "metadata": {},
     "source": [
      "As expected, the random messages have a co-incidence rate of approximately 1 in 26."
     ]
    },
    {
     "cell_type": "markdown",
     "metadata": {},
     "source": [
      "For the natural language messages, let's make use of the [Natural Language Toolkit](http://nltk.org/)'s [Project Gutenberg](http://www.gutenberg.org/) corpus."
     ]
    },
    {
     "cell_type": "code",
     "collapsed": false,
     "input": [
      "# Use a corpus obtained from Project Gutenberg (http://www.gutenberg.org/)\n",
      "from nltk.corpus import gutenberg\n",
      "import re\n",
      "\n",
      "# Load the Project Gutenberg word list\n",
      "GUTENBERG_WORDS = gutenberg.words()\n",
      "\n",
      "def gutenberg_message(offset, length=1000):\n",
      "    \"\"\"\n",
      "    Generate *length* words of a English message drawn from the\n",
      "    Gutenberg corpus at *offset* words.\n",
      "\n",
      "    Spaces are removed but full stops are replaced with 'STOP' a\n",
      "    la telegrams.\n",
      "\n",
      "    \"\"\"\n",
      "    message = ' '.join(GUTENBERG_WORDS[offset:offset+length]).upper()\n",
      "    \n",
      "    # Remove any non-full-stop and non-alphabet characters\n",
      "    message = re.sub(r'[^A-Z\\.]', '', message)\n",
      "    \n",
      "    # Replace runs of full-stops with 'STOP'\n",
      "    message = re.sub(r'\\.+', 'STOP', message)\n",
      "    \n",
      "    return message"
     ],
     "language": "python",
     "metadata": {},
     "outputs": [],
     "prompt_number": 19
    },
    {
     "cell_type": "code",
     "collapsed": false,
     "input": [
      "# An example message of 20 words drawn from offset 7000\n",
      "print(gutenberg_message(7000, 20))"
     ],
     "language": "python",
     "metadata": {},
     "outputs": [
      {
       "output_type": "stream",
       "stream": "stdout",
       "text": [
        "ANDHAPPYWASSHEFORHERFATHERSSAKEINTHEPOWERTHOUGHAS\n"
       ]
      }
     ],
     "prompt_number": 20
    },
    {
     "cell_type": "code",
     "collapsed": false,
     "input": [
      "# Generate two different English messages\n",
      "m1, m2 = gutenberg_message(2000), gutenberg_message(3000)\n",
      "matches, overlap = compare(m1, m2)\n",
      "print('English messages: {0}/{1} (~ 1 in {2:.0f})'.format(\n",
      "    matches, overlap, overlap / matches))"
     ],
     "language": "python",
     "metadata": {},
     "outputs": [
      {
       "output_type": "stream",
       "stream": "stdout",
       "text": [
        "English messages: 202/3500 (~ 1 in 17)\n"
       ]
      }
     ],
     "prompt_number": 21
    },
    {
     "cell_type": "markdown",
     "metadata": {},
     "source": [
      "So, in English, it would appear that letters collide in messages with probability of around 1 in 17. The cryptographers at Bletchley determined experimentally that German similarly collided with probability of around 1 in 17. This is markedly different to the 1 in 26 one would expect from chance."
     ]
    },
    {
     "cell_type": "markdown",
     "metadata": {},
     "source": [
      "Consider two messages in depth. Since they are in depth, at any given position in both messages the plaintext characters will undergo identical substitution ciphers. If the plaintext letters are identical then so will the ciphertext letters. Let's confirm this by encrypting our two English messages with the ``ABC`` and ``ABE`` indicators and counting the co-incident letters for offsets from one to five."
     ]
    },
    {
     "cell_type": "code",
     "collapsed": false,
     "input": [
      "# Use the indicators ABC and ABE to encrypt m1 and m2\n",
      "em1, em2 = encrypt('ABC', m1), encrypt('ABE', m2)\n",
      "\n",
      "# Print the comparison for offsets up to 6. Recall that offset\n",
      "# 3 corresponds to the messages being in depth.\n",
      "for offset in xrange(1, 6):\n",
      "    matches, overlap = compare(em1[offset:], em2)\n",
      "    print('E=C+{3}: {0}/{1} (~ 1 in {2:.0f})'.format(\n",
      "        matches, overlap, overlap / matches, offset))"
     ],
     "language": "python",
     "metadata": {},
     "outputs": [
      {
       "output_type": "stream",
       "stream": "stdout",
       "text": [
        "E=C+1: 137/3499 (~ 1 in 26)\n",
        "E=C+2: 157/3498 (~ 1 in 22)\n",
        "E=C+3: 208/3497 (~ 1 in 17)\n",
        "E=C+4: 137/3496 (~ 1 in 26)\n",
        "E=C+5: 127/3495 (~ 1 in 28)\n"
       ]
      }
     ],
     "prompt_number": 22
    },
    {
     "cell_type": "markdown",
     "metadata": {},
     "source": [
      "As you can see, using two non-identical messages encrypted with similar indicators has resulted in a very significant co-incidence count of 1 in 17 at offset 3 versus other offsets. This provides some evidence that ``E=C+3``. Quantifying exactly *how much* evidence will be considered in the next notebook."
     ]
    },
    {
     "cell_type": "heading",
     "level": 2,
     "metadata": {},
     "source": [
      "Aside: generating sample intercepts"
     ]
    },
    {
     "cell_type": "markdown",
     "metadata": {},
     "source": [
      "In order to demonstrate the breaking of Enigma we need to simulate the Enigma traffic for a day. To do this we will make use of our ``gutenberg_message()`` function to generate some random English plaintext messages and encrypt each one using a random indicator."
     ]
    },
    {
     "cell_type": "markdown",
     "metadata": {},
     "source": [
      "Writing a function to generate a random indicator is fairly simple."
     ]
    },
    {
     "cell_type": "code",
     "collapsed": false,
     "input": [
      "def random_indicator():\n",
      "    \"\"\"\n",
      "    Return a random three-letter indicator.\n",
      "\n",
      "    \"\"\"\n",
      "    return ''.join(chr(x)\n",
      "        for x in np.random.randint(ord('A'), ord('Z')+1, 3))"
     ],
     "language": "python",
     "metadata": {},
     "outputs": [],
     "prompt_number": 23
    },
    {
     "cell_type": "markdown",
     "metadata": {},
     "source": [
      "We make use of this function to generate a list of synthetic intercepts for a day."
     ]
    },
    {
     "cell_type": "code",
     "collapsed": false,
     "input": [
      "# Initialise our random number generator so that results are consistent\n",
      "# between runs.\n",
      "np.random.seed(314159)\n",
      "\n",
      "intercepts = []\n",
      "idxs = []\n",
      "\n",
      "intercept_count = 500\n",
      "for idx in xrange(intercept_count):\n",
      "    # Record an id for this message\n",
      "    idxs.append('msg_{0}'.format(idx+1))\n",
      "    \n",
      "    # Choose a random indicator\n",
      "    indicator = random_indicator()\n",
      "    \n",
      "    # Choose a random message of 30 to 50 words\n",
      "    plaintext = gutenberg_message(np.random.randint(30000),\n",
      "                                  np.random.randint(30, 51))\n",
      "    \n",
      "    # Encrypt the message\n",
      "    ciphertext = encrypt(indicator, plaintext)\n",
      "    \n",
      "    # Add intercept to our list\n",
      "    intercepts.append((indicator, ciphertext))\n",
      "    \n",
      "# Convert the list of intercepts to a Pandas DataFrame\n",
      "intercepts = pd.DataFrame(intercepts, index=idxs,\n",
      "                          columns=['Indicator', 'Ciphertext'])"
     ],
     "language": "python",
     "metadata": {},
     "outputs": [],
     "prompt_number": 24
    },
    {
     "cell_type": "markdown",
     "metadata": {},
     "source": [
      "The Pandas ``DataFrame`` class provides some convenient display and I/O operations. For example, we can neatly show the last 10 intercepts in one line."
     ]
    },
    {
     "cell_type": "code",
     "collapsed": false,
     "input": [
      "intercepts[-10:]"
     ],
     "language": "python",
     "metadata": {},
     "outputs": [
      {
       "html": [
        "<div style=\"max-height:1000px;max-width:1500px;overflow:auto;\">\n",
        "<table border=\"1\" class=\"dataframe\">\n",
        "  <thead>\n",
        "    <tr style=\"text-align: right;\">\n",
        "      <th></th>\n",
        "      <th>Indicator</th>\n",
        "      <th>Ciphertext</th>\n",
        "    </tr>\n",
        "  </thead>\n",
        "  <tbody>\n",
        "    <tr>\n",
        "      <th>msg_491</th>\n",
        "      <td> MXF</td>\n",
        "      <td> WUMTWEUYUWOQNSPJYXGCPQFJGTGMPCTYBKKIARQLCJRKTZ...</td>\n",
        "    </tr>\n",
        "    <tr>\n",
        "      <th>msg_492</th>\n",
        "      <td> VPF</td>\n",
        "      <td> PIDIETXKDKDVGCHZESHGWFNDWZSUKWVDTZQMRPFOQMOBJR...</td>\n",
        "    </tr>\n",
        "    <tr>\n",
        "      <th>msg_493</th>\n",
        "      <td> TDR</td>\n",
        "      <td> LSEKBPDNKMXAQMHHPBINRZHXKIJLQXYGZGERKABDUONATI...</td>\n",
        "    </tr>\n",
        "    <tr>\n",
        "      <th>msg_494</th>\n",
        "      <td> RNT</td>\n",
        "      <td> FTBFWIRXVSOFQDGFEJUXJTPRADRTZAOGMHSJVJWCWXFCDZ...</td>\n",
        "    </tr>\n",
        "    <tr>\n",
        "      <th>msg_495</th>\n",
        "      <td> GSL</td>\n",
        "      <td> CGFBVFDBTNXPBPTGMKMLDGEBBVWFHTFGBKOZPLDGEMRXLR...</td>\n",
        "    </tr>\n",
        "    <tr>\n",
        "      <th>msg_496</th>\n",
        "      <td> WPX</td>\n",
        "      <td> GVWHXJWDMDKNSOUBWGFLVHVCZONUZINSFIWNSYSQNIZRKZ...</td>\n",
        "    </tr>\n",
        "    <tr>\n",
        "      <th>msg_497</th>\n",
        "      <td> KNY</td>\n",
        "      <td> VQEUBRUYCDCVJUTNOTDVZARQPUWJYBZYZFKNTKLLEHOBIU...</td>\n",
        "    </tr>\n",
        "    <tr>\n",
        "      <th>msg_498</th>\n",
        "      <td> SST</td>\n",
        "      <td> QBZAQRVWIBWYOWCXXGQHQVLSLPEPMMNQOIXMQMTUOPEBVR...</td>\n",
        "    </tr>\n",
        "    <tr>\n",
        "      <th>msg_499</th>\n",
        "      <td> RVM</td>\n",
        "      <td> PYPJMPTYJYKTWIVEXJHGAXDYOFDLDDWVBTHPUHAKXMDARS...</td>\n",
        "    </tr>\n",
        "    <tr>\n",
        "      <th>msg_500</th>\n",
        "      <td> JMA</td>\n",
        "      <td> DZZYUQITQKBUEKRDBCCWYMYNVUOEQUZGXSMPXJOMEDADXI...</td>\n",
        "    </tr>\n",
        "  </tbody>\n",
        "</table>\n",
        "</div>"
       ],
       "metadata": {},
       "output_type": "pyout",
       "prompt_number": 25,
       "text": [
        "        Indicator                                         Ciphertext\n",
        "msg_491       MXF  WUMTWEUYUWOQNSPJYXGCPQFJGTGMPCTYBKKIARQLCJRKTZ...\n",
        "msg_492       VPF  PIDIETXKDKDVGCHZESHGWFNDWZSUKWVDTZQMRPFOQMOBJR...\n",
        "msg_493       TDR  LSEKBPDNKMXAQMHHPBINRZHXKIJLQXYGZGERKABDUONATI...\n",
        "msg_494       RNT  FTBFWIRXVSOFQDGFEJUXJTPRADRTZAOGMHSJVJWCWXFCDZ...\n",
        "msg_495       GSL  CGFBVFDBTNXPBPTGMKMLDGEBBVWFHTFGBKOZPLDGEMRXLR...\n",
        "msg_496       WPX  GVWHXJWDMDKNSOUBWGFLVHVCZONUZINSFIWNSYSQNIZRKZ...\n",
        "msg_497       KNY  VQEUBRUYCDCVJUTNOTDVZARQPUWJYBZYZFKNTKLLEHOBIU...\n",
        "msg_498       SST  QBZAQRVWIBWYOWCXXGQHQVLSLPEPMMNQOIXMQMTUOPEBVR...\n",
        "msg_499       RVM  PYPJMPTYJYKTWIVEXJHGAXDYOFDLDDWVBTHPUHAKXMDARS...\n",
        "msg_500       JMA  DZZYUQITQKBUEKRDBCCWYMYNVUOEQUZGXSMPXJOMEDADXI..."
       ]
      }
     ],
     "prompt_number": 25
    },
    {
     "cell_type": "markdown",
     "metadata": {},
     "source": [
      "We will save these synthetic intercepts to disk. Later notebooks will make use of them."
     ]
    },
    {
     "cell_type": "code",
     "collapsed": false,
     "input": [
      "# Pandas provides a convenient 'to_csv()' method on DataFrames.\n",
      "intercepts.to_csv('../downloads/synthetic-intercepts.csv')"
     ],
     "language": "python",
     "metadata": {},
     "outputs": [],
     "prompt_number": 26
    },
    {
     "cell_type": "heading",
     "level": 2,
     "metadata": {},
     "source": [
      "Classifying ciphertexts"
     ]
    },
    {
     "cell_type": "markdown",
     "metadata": {},
     "source": [
      "Knowing now that we are interested in intercepts whose indicators are similar we can classify pairs of intercepts into one of two interesting categories. (Intercept pairs which are in neither category are not considered further.)\n",
      "\n",
      "* Class A: indicators differ only in their last letter $\\Rightarrow$ ciphertexts will be in depth at some offset from $-25$ to $25$.\n",
      "* Class B: indicators differ only in their last two letters $\\Rightarrow$ ciphertexts will be in depth at some offset from $-25 \\times 26$ to $25 \\times 26$.\n",
      "\n",
      "Note: German naval messages were usually a maximum of 250 character long and so there may not be an offset with non-zero overlap which causes a class B message pair to be in depth.\n",
      "\n",
      "Obviously one may get very lucky indeed and find two messages with identical indicators. In this case you know with certainty that the messages are in depth. Since this notebook series is dealing with banburismus rather than depth cribbing we will discard these pairs although in actuality such a pair would be *extremely* useful."
     ]
    },
    {
     "cell_type": "markdown",
     "metadata": {},
     "source": [
      "Performing the classification is easy in Python. The ``itertools.product()`` function can be used to iterate over all pairs of intercepts. We then add a pair of message ids to an array depending on whether it matches out definition of class A or B above."
     ]
    },
    {
     "cell_type": "code",
     "collapsed": false,
     "input": [
      "class_a_pairs = []\n",
      "class_b_pairs = []\n",
      "\n",
      "# Consider each pair of intercepts\n",
      "for intercept1, intercept2 in itertools.product(\n",
      "                                intercepts.iterrows(), repeat=2):\n",
      "    # Get indicators\n",
      "    indicator1 = intercept1[1]['Indicator']\n",
      "    indicator2 = intercept2[1]['Indicator']\n",
      "    \n",
      "    # To avoid repeats, skip indicators not in lexicographic order\n",
      "    # or with identical indicators. (This discounts comparing one\n",
      "    # ciphertext with itself but also discounts a potentially\n",
      "    # useful pair of ciphertexts which can be known to be in-depth.\n",
      "    # For the purposes of this exercise, we ignore those pairs.)\n",
      "    if indicator1 >= indicator2:\n",
      "        continue\n",
      "    \n",
      "    # Get the ids for this message pair\n",
      "    id_pair = (intercept1[0], intercept2[0])\n",
      "    \n",
      "    if indicator1[:-1] == indicator2[:-1] and indicator1[-1] != indicator2[-1]:\n",
      "        # indicators differ only in last letter\n",
      "        class_a_pairs.append(id_pair)\n",
      "    elif indicator1[:-2] == indicator2[:-2] and indicator1[-2] != indicator2[-2]:\n",
      "        # indicators differ in middle letter\n",
      "        class_b_pairs.append(id_pair)"
     ],
     "language": "python",
     "metadata": {},
     "outputs": [],
     "prompt_number": 27
    },
    {
     "cell_type": "markdown",
     "metadata": {},
     "source": [
      "Out of our full day's traffic, how many pairs of each class were there?"
     ]
    },
    {
     "cell_type": "code",
     "collapsed": false,
     "input": [
      "len(class_a_pairs), len(class_b_pairs)"
     ],
     "language": "python",
     "metadata": {},
     "outputs": [
      {
       "metadata": {},
       "output_type": "pyout",
       "prompt_number": 28,
       "text": [
        "(192, 4608)"
       ]
      }
     ],
     "prompt_number": 28
    },
    {
     "cell_type": "markdown",
     "metadata": {},
     "source": [
      "Not bad. The class A pairs ar arguably the most useful but the large number of class B pairs suggest that we might have some useful hypotheses generated from them. In the next notebook we shall analyse these pairs and discuss the 'deciban' scoring system used at Bletchley to determing how useful each pair was."
     ]
    }
   ],
   "metadata": {}
  }
 ]
}